{
 "cells": [
  {
   "cell_type": "code",
   "execution_count": 130,
   "id": "52ba9cd2",
   "metadata": {},
   "outputs": [],
   "source": [
    "def pattern_recognition(string):\n",
    "    seps = [' ', '-']\n",
    "    for sep in seps:\n",
    "        string = string.strip(sep)\n",
    "        \n",
    "    condition = (len(string) >= 9 and any([val in string for val in seps]))\n",
    "\n",
    "    if not condition: \n",
    "        return []\n",
    "    \n",
    "    patterns = []\n",
    "\n",
    "    while condition:\n",
    "        pattern = ''\n",
    "        for i in range(len(string)):\n",
    "            if string[i] in seps:\n",
    "                sep = string[i]\n",
    "                try:\n",
    "                    if (string[i-2:i].isalpha() and string[i+1:i+5].isdigit() and sep == string[i+5]):\n",
    "                        has_enbedded_patterns = False\n",
    "                        try:\n",
    "                            if string[i+6:i+7].isalpha():\n",
    "                                pattern1 = string[i-2:i+7]\n",
    "\n",
    "                            if string[i+6:i+8].isalpha():\n",
    "                                pattern2 = string[i-2:i+8]\n",
    "                                has_enbedded_patterns = True\n",
    "                            else:\n",
    "                                raise Exception\n",
    "                            \n",
    "                            if has_enbedded_patterns:\n",
    "                                string = string[i-2:]\n",
    "                                string = string.replace(pattern1, '')\n",
    "\n",
    "                                patterns.extend([pattern1.upper(), pattern2.upper()])\n",
    "                                pattern = pattern1\n",
    "                                break\n",
    "                        except Exception:\n",
    "                            if string[i+6:i+7].isalpha():\n",
    "                                pattern = string[i-2:i+8]\n",
    "                                string = string[i-2:]\n",
    "                                string = string.replace(pattern, '')\n",
    "                                patterns.append(pattern.upper())\n",
    "                            else:\n",
    "                                string = string[i+1:]\n",
    "                            break\n",
    "                except IndexError:\n",
    "                    string = string[i+1:]\n",
    "                    break\n",
    "        if not pattern:\n",
    "            string = string[i+1:]\n",
    "        for sep in seps:\n",
    "            string = string.strip(sep)\n",
    "        condition = (len(string) >= 9 and any([val in string for val in seps]))\n",
    "    \n",
    "    return set(patterns)"
   ]
  },
  {
   "cell_type": "code",
   "execution_count": 131,
   "id": "62019c0d",
   "metadata": {
    "scrolled": true
   },
   "outputs": [
    {
     "data": {
      "text/plain": [
       "{'DD-1234-D', 'DD-1234-DN', 'NB-1234-J', 'NB-1234-JH'}"
      ]
     },
     "execution_count": 131,
     "metadata": {},
     "output_type": "execute_result"
    }
   ],
   "source": [
    "pattern_recognition('dd-1234-dnb-1234-jhgh  fgjf 5478 65')"
   ]
  },
  {
   "cell_type": "code",
   "execution_count": 47,
   "id": "9ffc1716",
   "metadata": {},
   "outputs": [
    {
     "data": {
      "text/plain": [
       "'sss'"
      ]
     },
     "execution_count": 47,
     "metadata": {},
     "output_type": "execute_result"
    }
   ],
   "source": [
    "\"dddsasssss\".replace(\"dddsass\", \"\")"
   ]
  },
  {
   "cell_type": "code",
   "execution_count": 7,
   "id": "ef3b9ad4",
   "metadata": {},
   "outputs": [],
   "source": [
    "def has_duplicate(_list):\n",
    "    if len(_list) == len(set(_list)):\n",
    "        return True\n",
    "    return False"
   ]
  },
  {
   "cell_type": "code",
   "execution_count": 13,
   "id": "0a4f8d17",
   "metadata": {},
   "outputs": [],
   "source": [
    "def has_duplicate(_list):\n",
    "    for i in range(len(_list)-1):\n",
    "        for j in range(i+1, len(_list)):\n",
    "            if _list[i] == _list[j]:\n",
    "                return True\n",
    "    return False"
   ]
  },
  {
   "cell_type": "code",
   "execution_count": 16,
   "id": "ebb8a01c",
   "metadata": {},
   "outputs": [
    {
     "data": {
      "text/plain": [
       "True"
      ]
     },
     "execution_count": 16,
     "metadata": {},
     "output_type": "execute_result"
    }
   ],
   "source": [
    "has_duplicate([1, 3, 2, 2])"
   ]
  },
  {
   "cell_type": "code",
   "execution_count": 6,
   "id": "650d92d5",
   "metadata": {},
   "outputs": [
    {
     "data": {
      "text/plain": [
       "{1, 2, 3}"
      ]
     },
     "execution_count": 6,
     "metadata": {},
     "output_type": "execute_result"
    }
   ],
   "source": [
    "set([1, 3, 2, 2, 3])"
   ]
  }
 ],
 "metadata": {
  "kernelspec": {
   "display_name": "Python 3 (ipykernel)",
   "language": "python",
   "name": "python3"
  },
  "language_info": {
   "codemirror_mode": {
    "name": "ipython",
    "version": 3
   },
   "file_extension": ".py",
   "mimetype": "text/x-python",
   "name": "python",
   "nbconvert_exporter": "python",
   "pygments_lexer": "ipython3",
   "version": "3.10.12"
  }
 },
 "nbformat": 4,
 "nbformat_minor": 5
}
