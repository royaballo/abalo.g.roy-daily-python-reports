{
 "cells": [
  {
   "cell_type": "markdown",
   "id": "d68c1dee",
   "metadata": {
    "id": "d68c1dee"
   },
   "source": [
    "# Practical_2: String and files"
   ]
  },
  {
   "cell_type": "markdown",
   "id": "15737e04-1289-4f64-b044-eb630636ad48",
   "metadata": {
    "id": "bea983a3"
   },
   "source": [
    "---\n",
    "\n",
    "### Exercise 1:\n",
    "Create a string variable `text` and assign it the value `\"Python is amazing!\"`.\n",
    "\n",
    "```python\n",
    "# Exercise 1\n",
    "```"
   ]
  },
  {
   "cell_type": "code",
   "execution_count": 1,
   "id": "0209d04b-0a54-4c1e-93f1-ea90ea6a199f",
   "metadata": {},
   "outputs": [],
   "source": [
    "text = \"Python is amazing!\""
   ]
  },
  {
   "cell_type": "markdown",
   "id": "e1d9878b-f7f1-44d0-9041-58aaaf9f3845",
   "metadata": {
    "id": "bea983a3"
   },
   "source": [
    "---\n",
    "\n",
    "### Exercise 2:\n",
    "Find the length of the string `\"Hello, World!\"` and store it in a variable `length`.\n",
    "\n",
    "```python\n",
    "# Exercise 2\n",
    "```"
   ]
  },
  {
   "cell_type": "code",
   "execution_count": 2,
   "id": "7373215d-0246-4352-a4d4-3902c1285132",
   "metadata": {},
   "outputs": [
    {
     "data": {
      "text/plain": [
       "13"
      ]
     },
     "execution_count": 2,
     "metadata": {},
     "output_type": "execute_result"
    }
   ],
   "source": [
    "length = len(\"Hello, World!\")\n",
    "\n",
    "length"
   ]
  },
  {
   "cell_type": "markdown",
   "id": "56cdf0fd-1755-4ba7-93e4-5147b014ee48",
   "metadata": {
    "id": "bea983a3"
   },
   "source": [
    "---\n",
    "\n",
    "### Exercise 3:\n",
    "Convert the string `\"python programming\"` to uppercase and store it in a variable `upper_text`.\n",
    "\n",
    "```python\n",
    "# Exercise 3\n",
    "```"
   ]
  },
  {
   "cell_type": "code",
   "execution_count": 15,
   "id": "f89ddc03-28da-4a86-bd00-c9f291c9251b",
   "metadata": {},
   "outputs": [
    {
     "data": {
      "text/plain": [
       "'PYTHON PROGRAMMING'"
      ]
     },
     "execution_count": 15,
     "metadata": {},
     "output_type": "execute_result"
    }
   ],
   "source": [
    "upper_text = \"python programming\".upper()\n",
    "\n",
    "upper_text"
   ]
  },
  {
   "cell_type": "markdown",
   "id": "f8aa71ff-624b-4a18-a27b-532410699256",
   "metadata": {
    "id": "bea983a3"
   },
   "source": [
    "---\n",
    "\n",
    "### Exercise 4:\n",
    "Extract the first 5 characters from the string `\"Artificial Intelligence\"`.\n",
    "\n",
    "```python\n",
    "# Exercise 4\n",
    "```"
   ]
  },
  {
   "cell_type": "code",
   "execution_count": 16,
   "id": "b258d40e-45cd-497e-a6e4-dde0e61978e0",
   "metadata": {},
   "outputs": [
    {
     "data": {
      "text/plain": [
       "'Artif'"
      ]
     },
     "execution_count": 16,
     "metadata": {},
     "output_type": "execute_result"
    }
   ],
   "source": [
    "\"Artificial Intelligence\"[:5]"
   ]
  },
  {
   "cell_type": "markdown",
   "id": "27c1a2e9-4375-401b-abb0-4a1dcfb26086",
   "metadata": {
    "id": "bea983a3"
   },
   "source": [
    "---\n",
    "\n",
    "### Exercise 5:\n",
    "Concatenate the strings `\"Hello\"` and `\"World\"` with a space in between.\n",
    "\n",
    "```python\n",
    "# Exercise 5\n",
    "```"
   ]
  },
  {
   "cell_type": "code",
   "execution_count": 17,
   "id": "ee417851-7019-48f1-a589-839df14b49bf",
   "metadata": {},
   "outputs": [
    {
     "data": {
      "text/plain": [
       "'Hello World'"
      ]
     },
     "execution_count": 17,
     "metadata": {},
     "output_type": "execute_result"
    }
   ],
   "source": [
    "concat = \"Hello\" + \" \" + \"World\"\n",
    "\n",
    "concat"
   ]
  },
  {
   "cell_type": "markdown",
   "id": "df005d4c-0dd6-4fc7-a673-9338f3e772a6",
   "metadata": {
    "id": "bea983a3"
   },
   "source": [
    "---\n",
    "\n",
    "### Exercise 6:\n",
    "Replace the word `\"dog\"` with `\"cat\"` in the string `\"The quick brown dog jumps over the lazy dog.\"`.\n",
    "\n",
    "```python\n",
    "# Exercise 6\n",
    "```"
   ]
  },
  {
   "cell_type": "code",
   "execution_count": 19,
   "id": "43c1e126-0a05-4d1d-8963-eca82b1750d4",
   "metadata": {},
   "outputs": [
    {
     "data": {
      "text/plain": [
       "'The quick brown cat jumps over the lazy cat.'"
      ]
     },
     "execution_count": 19,
     "metadata": {},
     "output_type": "execute_result"
    }
   ],
   "source": [
    "\"The quick brown dog jumps over the lazy dog.\".replace(\"dog\", \"cat\")"
   ]
  },
  {
   "cell_type": "markdown",
   "id": "c21cb07c-7dac-440e-b15d-eb4b141e1e9b",
   "metadata": {
    "id": "bea983a3"
   },
   "source": [
    "---\n",
    "\n",
    "### Exercise 7:\n",
    "Split the string `\"apple,banana,orange\"` by commas and store the result in a list `fruits_list`.\n",
    "\n",
    "```python\n",
    "# Exercise 7\n",
    "```"
   ]
  },
  {
   "cell_type": "code",
   "execution_count": 20,
   "id": "3e05b0b9-4584-4520-9689-7f29e085b48d",
   "metadata": {},
   "outputs": [
    {
     "data": {
      "text/plain": [
       "['apple', 'banana', 'orange']"
      ]
     },
     "execution_count": 20,
     "metadata": {},
     "output_type": "execute_result"
    }
   ],
   "source": [
    "fruits_list = \"apple,banana,orange\".split(\",\")\n",
    "\n",
    "fruits_list"
   ]
  },
  {
   "cell_type": "markdown",
   "id": "e6adb2b2-8233-434b-8524-6bb5f4c1430d",
   "metadata": {
    "id": "bea983a3"
   },
   "source": [
    "---\n",
    "\n",
    "### Exercise 8:\n",
    "Use string formatting to create the sentence `\"My name is Alice and I am 25 years old.\"`, where the name and age are variables.\n",
    "\n",
    "```python\n",
    "# Exercise 8\n",
    "```"
   ]
  },
  {
   "cell_type": "code",
   "execution_count": 25,
   "id": "bdd27465-1f8d-4947-bada-0320f4a29824",
   "metadata": {},
   "outputs": [
    {
     "name": "stdout",
     "output_type": "stream",
     "text": [
      "My name is Roy and I am 25 years old.\n",
      "My name is Roy and I am 25 years old.\n"
     ]
    }
   ],
   "source": [
    "name = 'Roy'\n",
    "age = 25\n",
    "\n",
    "print(f\"My name is {name} and I am {age} years old.\")\n",
    "\n",
    "print(\"My name is {name} and I am {age} years old.\".format(name='Roy', age=25))"
   ]
  },
  {
   "cell_type": "markdown",
   "id": "d4e65059-2427-4f27-86b8-62680eeea289",
   "metadata": {
    "id": "bea983a3"
   },
   "source": [
    "---\n",
    "\n",
    "### Exercise 9:\n",
    "Check if the string `\"python\"` is present in the sentence `\"I love python programming\"`.\n",
    "\n",
    "```python\n",
    "# Exercise 9\n",
    "```"
   ]
  },
  {
   "cell_type": "code",
   "execution_count": 26,
   "id": "cc1205e4-1d95-44b5-bc7d-3e5322fc9c5a",
   "metadata": {},
   "outputs": [
    {
     "data": {
      "text/plain": [
       "True"
      ]
     },
     "execution_count": 26,
     "metadata": {},
     "output_type": "execute_result"
    }
   ],
   "source": [
    "\"python\" in \"I love python programming\""
   ]
  },
  {
   "cell_type": "markdown",
   "id": "9edd587d-4ec4-48b3-90f1-3a4a6bb0a390",
   "metadata": {
    "id": "bea983a3"
   },
   "source": [
    "---\n",
    "\n",
    "### Exercise 10:\n",
    "Count the number of occurrences of the letter `\"e\"` in the string `\"Elephant is an elegant animal\"`.\n",
    "\n",
    "```python\n",
    "# Exercise 10\n",
    "```"
   ]
  },
  {
   "cell_type": "code",
   "execution_count": 29,
   "id": "c29f0082-1c80-4adf-9c85-7a1e4e097e05",
   "metadata": {},
   "outputs": [
    {
     "data": {
      "text/plain": [
       "4"
      ]
     },
     "execution_count": 29,
     "metadata": {},
     "output_type": "execute_result"
    }
   ],
   "source": [
    "print(\"Elephant is an elegant animal\".count(\"e\"))\n",
    "\n",
    "print(\"Elephant is an elegant animal\".lower().count(\"e\"))"
   ]
  },
  {
   "cell_type": "markdown",
   "id": "8e507326-49fb-4314-892b-4ee4b6d544c9",
   "metadata": {
    "id": "bea983a3"
   },
   "source": [
    "---\n",
    "\n",
    "### Exercise 11:\n",
    "Remove any leading and trailing spaces from the string `\"   Data Science   \"`.\n",
    "\n",
    "```python\n",
    "# Exercise 11\n",
    "```"
   ]
  },
  {
   "cell_type": "code",
   "execution_count": 31,
   "id": "6d15f251-b3cd-4525-82ec-c832fde8206c",
   "metadata": {},
   "outputs": [
    {
     "data": {
      "text/plain": [
       "'Data Science'"
      ]
     },
     "execution_count": 31,
     "metadata": {},
     "output_type": "execute_result"
    }
   ],
   "source": [
    "\"   Data Science   \".strip()"
   ]
  },
  {
   "cell_type": "markdown",
   "id": "6daa7ebc-65e0-4aac-82ae-7059fb52c3c4",
   "metadata": {
    "id": "bea983a3"
   },
   "source": [
    "---\n",
    "\n",
    "### Exercise 12:\n",
    "Convert the string `\"100\"` into an integer and store it in a variable `int_value`.\n",
    "\n",
    "```python\n",
    "# Exercise 12\n",
    "```"
   ]
  },
  {
   "cell_type": "code",
   "execution_count": 35,
   "id": "c566d867-2152-4298-a929-56ef0e6851a8",
   "metadata": {},
   "outputs": [
    {
     "data": {
      "text/plain": [
       "100"
      ]
     },
     "execution_count": 35,
     "metadata": {},
     "output_type": "execute_result"
    }
   ],
   "source": [
    "int_value = int(\"100\")\n",
    "\n",
    "int_value"
   ]
  },
  {
   "cell_type": "markdown",
   "id": "3de8bf73-e357-4383-89fe-c60a2248754e",
   "metadata": {
    "id": "bea983a3"
   },
   "source": [
    "---\n",
    "\n",
    "### Exercise 13:\n",
    "Extract the substring `\"pro\"` from the string `\"programming\"`.\n",
    "\n",
    "```python\n",
    "# Exercise 13\n",
    "```"
   ]
  },
  {
   "cell_type": "code",
   "execution_count": 38,
   "id": "2919431f-7a0a-4211-a320-3e214260158b",
   "metadata": {},
   "outputs": [
    {
     "data": {
      "text/plain": [
       "'pro'"
      ]
     },
     "execution_count": 38,
     "metadata": {},
     "output_type": "execute_result"
    }
   ],
   "source": [
    "\"programming\"[:3]"
   ]
  },
  {
   "cell_type": "markdown",
   "id": "fe752a94-1adc-4038-aa78-6bf1fe4cde3e",
   "metadata": {
    "id": "bea983a3"
   },
   "source": [
    "---\n",
    "\n",
    "### Exercise 14:\n",
    "Check if the string `\"data\"` starts with `\"da\"` and ends with `\"ta\"`.\n",
    "\n",
    "```python\n",
    "# Exercise 14\n",
    "```"
   ]
  },
  {
   "cell_type": "code",
   "execution_count": null,
   "id": "c888aadc-0362-4fc6-9a33-1e0e015f8add",
   "metadata": {},
   "outputs": [],
   "source": [
    "data = \"data\"\n",
    "\n",
    "data.startswith(\"data\")"
   ]
  },
  {
   "cell_type": "markdown",
   "id": "2fe23ef4-5ece-41c6-a0d2-133416afe130",
   "metadata": {
    "id": "bea983a3"
   },
   "source": [
    "---\n",
    "\n",
    "### Exercise 15:\n",
    "Reverse the string `\"machine learning\"` and store the result in `reversed_text`.\n",
    "\n",
    "```python\n",
    "# Exercise 15\n",
    "```"
   ]
  },
  {
   "cell_type": "code",
   "execution_count": 2,
   "id": "1f4c410d-9568-4050-8938-02d1ba8e80d6",
   "metadata": {},
   "outputs": [
    {
     "data": {
      "text/plain": [
       "'gninrael enihcam'"
      ]
     },
     "execution_count": 2,
     "metadata": {},
     "output_type": "execute_result"
    }
   ],
   "source": [
    "\"machine learning\"[::-1]"
   ]
  },
  {
   "cell_type": "markdown",
   "id": "f8045e58-721e-4c36-b795-d91372ad3e56",
   "metadata": {
    "id": "bea983a3"
   },
   "source": [
    "---\n",
    "\n",
    "### Exercise 16:\n",
    "Convert the first letter of each word in the string `\"machine learning is fun\"` to uppercase.\n",
    "\n",
    "```python\n",
    "# Exercise 16\n",
    "```"
   ]
  },
  {
   "cell_type": "code",
   "execution_count": 4,
   "id": "06cb4ecc-edf7-4928-aab6-27ff09929dca",
   "metadata": {},
   "outputs": [
    {
     "data": {
      "text/plain": [
       "'Machine Learning Is Fun'"
      ]
     },
     "execution_count": 4,
     "metadata": {},
     "output_type": "execute_result"
    }
   ],
   "source": [
    "\"machine learning is fun\".title()"
   ]
  },
  {
   "cell_type": "markdown",
   "id": "d00038bc-e24b-441b-8d95-88e78ca5d61e",
   "metadata": {
    "id": "bea983a3"
   },
   "source": [
    "---\n",
    "\n",
    "### Exercise 17:\n",
    "Create a multiline string representing a poem and store it in a variable `poem`.\n",
    "\n",
    "```python\n",
    "# Exercise 17\n",
    "```"
   ]
  },
  {
   "cell_type": "code",
   "execution_count": 6,
   "id": "c3bbbdbe-616f-4e3d-90e0-35e72175a975",
   "metadata": {},
   "outputs": [],
   "source": [
    "poem = \"\"\"Roses are red\n",
    "Violets are blue\n",
    "It does not make sense\n",
    "As my love for you\"\"\""
   ]
  },
  {
   "cell_type": "markdown",
   "id": "adc7ce27-e112-4978-98ed-7f123f2288c9",
   "metadata": {
    "id": "bea983a3"
   },
   "source": [
    "---\n",
    "\n",
    "### Exercise 18:\n",
    "Write a string to a file named `\"output.txt\"`.\n",
    "\n",
    "```python\n",
    "# Exercise 18\n",
    "```"
   ]
  },
  {
   "cell_type": "code",
   "execution_count": 1,
   "id": "e2717f2c-9b99-4cf7-bcc6-a53844ab933c",
   "metadata": {},
   "outputs": [],
   "source": [
    "with open('output.txt', 'w') as f:\n",
    "    f.write('Heeey')"
   ]
  },
  {
   "cell_type": "markdown",
   "id": "75b45a2f-9090-44b4-93fd-fe994906dc43",
   "metadata": {
    "id": "bea983a3"
   },
   "source": [
    "---\n",
    "\n",
    "### Exercise 19:\n",
    "Read the contents of a file named `\"data.txt\"` and print it line by line.\n",
    "\n",
    "```python\n",
    "# Exercise 19\n",
    "```"
   ]
  },
  {
   "cell_type": "code",
   "execution_count": 6,
   "id": "75c060b6-710f-4e6b-a368-6ab090b77e25",
   "metadata": {},
   "outputs": [
    {
     "name": "stdout",
     "output_type": "stream",
     "text": [
      "# --- Utilisateurs ---\n",
      "ID: 001 | Nom: Alice Koffi | Email: alice.koffi@example.com | Âge: 29 | Ville: Abidjan\n",
      "ID: 002 | Nom: Géraldo Aballo | Email: geraldo.aballo@aims-senegal.org | Âge: 25 | Ville: Dakar\n",
      "ID: 003 | Nom: Fatou Ndiaye | Email: fatou.ndiaye@qotto.net | Âge: 32 | Ville: Thiès\n",
      "ID: 004 | Nom: Jean Mensah | Email: jean.mensah@gmail.com | Âge: 27 | Ville: Lomé\n",
      "\n",
      "# --- Transactions ---\n",
      "TX-1001 | Montant: 18 500 XOF | Statut: Validé | Date: 2025-10-15 | Méthode: Mobile Money\n",
      "TX-1002 | Montant: 7 200 XOF  | Statut: En attente | Date: 2025-10-16 | Méthode: Carte bancaire\n",
      "TX-1003 | Montant: 25 000 XOF | Statut: Échoué | Date: 2025-10-17 | Méthode: Espèces\n",
      "\n",
      "# --- Données capteurs ---\n",
      "Sensor_01 | Température: 28.6°C | Humidité: 64% | Timestamp: 2025-10-18T09:00:12Z\n",
      "Sensor_02 | Température: 30.1°C | Humidité: 58% | Timestamp: 2025-10-18T09:01:43Z\n",
      "Sensor_03 | Température: 27.9°C | Humidité: 70% | Timestamp: 2025-10-18T09:02:15Z\n",
      "\n",
      "# --- Observations plantes ---\n",
      "Sample_ID: TMT_001 | Classe: Tomato___Healthy | Prédiction: 0.97 | Modèle: EfficientNet-B0\n",
      "Sample_ID: TMT_002 | Classe: Tomato___Early_blight | Prédiction: 0.88 | Modèle: MobileNetV3\n",
      "Sample_ID: TMT_003 | Classe: Tomato___Bacterial_spot | Prédiction: 0.91 | Modèle: ShuffleNetV2\n",
      "\n",
      "# --- Rapports journaliers ---\n",
      "Date: 2025-10-14 | Tâches accomplies: 6 | Temps total: 5h45 | Commentaire: \"Analyse des modèles terminée\"\n",
      "Date: 2025-10-15 | Tâches accomplies: 4 | Temps total: 4h10 | Commentaire: \"Nettoyage du dataset et sauvegarde\"\n",
      "Date: 2025-10-16 | Tâches accomplies: 7 | Temps total: 6h30 | Commentaire: \"Test des augmentations de contraste\"\n"
     ]
    }
   ],
   "source": [
    "with open('data.txt', 'r') as f:\n",
    "    lines = f.readlines()\n",
    "    for line in lines:\n",
    "        print(line.strip())"
   ]
  },
  {
   "cell_type": "markdown",
   "id": "4c0ec7e4-4e48-4f47-a0ef-e85b9869280b",
   "metadata": {
    "id": "bea983a3"
   },
   "source": [
    "---\n",
    "\n",
    "### Exercise 20:\n",
    "Check if a file `\"example.txt\"` exists before opening it.\n",
    "\n",
    "```python\n",
    "# Exercise 20\n",
    "```"
   ]
  },
  {
   "cell_type": "code",
   "execution_count": 11,
   "id": "5b295f26-3bcc-4c5f-970f-81aaab10fad2",
   "metadata": {},
   "outputs": [
    {
     "name": "stdout",
     "output_type": "stream",
     "text": [
      "The file you are trying to open does not exist.\n"
     ]
    }
   ],
   "source": [
    "try:\n",
    "    with open('example.txt', 'r') as f:\n",
    "        content = f.read()\n",
    "except FileNotFoundError:\n",
    "    print(\"The file you are trying to open does not exist.\")\n",
    "except IOError:\n",
    "    print(\"Impossible to open this file.\")"
   ]
  },
  {
   "cell_type": "markdown",
   "id": "5f9e4fb6-e357-4b1c-8fb9-dde3bdfb25aa",
   "metadata": {
    "id": "bea983a3"
   },
   "source": [
    "---\n",
    "\n",
    "### Exercise 21:\n",
    "Append a new line `\"This is a new line\"` to an existing file `\"notes.txt\"`.\n",
    "\n",
    "```python\n",
    "# Exercise 21\n",
    "```"
   ]
  },
  {
   "cell_type": "code",
   "execution_count": 12,
   "id": "4c7db64b-2135-46d4-8fbe-b3e77c28dfda",
   "metadata": {},
   "outputs": [],
   "source": [
    "with open('notes.txt', 'a') as f:\n",
    "    f.write(\"This is a new line\")"
   ]
  },
  {
   "cell_type": "markdown",
   "id": "2f497fbb-9326-4bc9-8f5d-94b8571ac0a7",
   "metadata": {
    "id": "bea983a3"
   },
   "source": [
    "---\n",
    "\n",
    "### Exercise 22:\n",
    "Read the contents of a file `\"log.txt\"` and store each line in a list `log_lines`.\n",
    "\n",
    "```python\n",
    "# Exercise 22\n",
    "```"
   ]
  },
  {
   "cell_type": "code",
   "execution_count": 20,
   "id": "54af2dd1-59dc-4760-954b-9e301f75098d",
   "metadata": {},
   "outputs": [
    {
     "data": {
      "text/plain": [
       "['[2025-10-18 08:42:11,391] INFO     server: Starting application version 2.3.1\\n',\n",
       " '[2025-10-18 08:42:11,402] DEBUG    config: Loaded environment variables from .env\\n',\n",
       " '[2025-10-18 08:42:11,414] INFO     database: Connected to PostgreSQL at 127.0.0.1:5432\\n',\n",
       " '[2025-10-18 08:42:11,415] INFO     database: Using schema public\\n',\n",
       " '[2025-10-18 08:42:11,420] INFO     auth: JWT secret successfully loaded\\n',\n",
       " '[2025-10-18 08:42:11,624] INFO     scheduler: Task \"daily_report_job\" scheduled every 24h\\n',\n",
       " '[2025-10-18 08:42:11,731] INFO     server: HTTP server listening on port 8080\\n',\n",
       " '[2025-10-18 08:42:15,002] INFO     request: POST /api/v1/login 200 OK (user=roy.aballo@qotto.net, 123ms)\\n',\n",
       " '[2025-10-18 08:42:17,889] INFO     request: GET /api/v1/payments 200 OK (rows=128, 214ms)\\n',\n",
       " '[2025-10-18 08:42:18,451] WARNING  payments: Slow query detected (query_time=3.12s)\\n',\n",
       " '[2025-10-18 08:42:19,019] INFO     request: POST /api/v1/promises 201 CREATED (user=abalo.g.roy@aims-senegal.org)\\n',\n",
       " '[2025-10-18 08:42:19,745] DEBUG    core: PaymentPromise validated with ID=PP-2025-0148\\n',\n",
       " '[2025-10-18 08:42:22,338] INFO     scheduler: Running task \"daily_report_job\"\\n',\n",
       " '[2025-10-18 08:42:22,419] INFO     reports: Generating daily summary for user=roy.aballo@qotto.net\\n',\n",
       " '[2025-10-18 08:42:22,501] DEBUG    ml: EfficientNet-B0 inference started (batch_size=32)\\n',\n",
       " '[2025-10-18 08:42:23,211] INFO     ml: Inference completed | Accuracy=0.912 | F1=0.907\\n',\n",
       " '[2025-10-18 08:42:23,212] INFO     reports: Daily summary successfully uploaded to CouchDB\\n',\n",
       " '[2025-10-18 08:42:23,213] INFO     database: CouchDB document _id=\"daily-2025-10-18-roy\"\\n',\n",
       " '[2025-10-18 08:42:23,217] DEBUG    memory: Peak GPU usage 742MB, CPU load 37%\\n',\n",
       " '[2025-10-18 08:42:23,225] INFO     scheduler: Task \"daily_report_job\" completed successfully\\n',\n",
       " '[2025-10-18 08:42:30,092] INFO     request: GET /api/v1/health 200 OK\\n',\n",
       " '[2025-10-18 08:42:34,909] ERROR    database: Lost connection to PostgreSQL (retrying in 5s)\\n',\n",
       " '[2025-10-18 08:42:39,915] INFO     database: Reconnected to PostgreSQL successfully\\n',\n",
       " '[2025-10-18 08:42:41,007] WARNING  auth: Token expired for user=guest@example.com\\n',\n",
       " '[2025-10-18 08:42:41,110] INFO     request: POST /api/v1/refresh-token 200 OK (user=guest@example.com)\\n',\n",
       " '[2025-10-18 08:42:46,804] INFO     request: GET /api/v1/promises?status=active 200 OK (rows=45, 192ms)\\n',\n",
       " '[2025-10-18 08:42:49,412] DEBUG    scheduler: Queue check — 0 pending tasks\\n',\n",
       " '[2025-10-18 08:42:52,118] INFO     server: Graceful shutdown requested (SIGTERM)\\n',\n",
       " '[2025-10-18 08:42:52,119] INFO     scheduler: Cancelling 1 running task\\n',\n",
       " '[2025-10-18 08:42:52,125] INFO     server: Application stopped cleanly']"
      ]
     },
     "execution_count": 20,
     "metadata": {},
     "output_type": "execute_result"
    }
   ],
   "source": [
    "log_lines = []\n",
    "\n",
    "with open(\"log.txt\", \"r\") as f:\n",
    "    for line in f:\n",
    "        log_lines.append(line)\n",
    "\n",
    "log_lines"
   ]
  },
  {
   "cell_type": "markdown",
   "id": "23e2e106-d798-447e-ba4c-3f0154b9c7ff",
   "metadata": {
    "id": "bea983a3"
   },
   "source": [
    "---\n",
    "\n",
    "### Exercise 23:\n",
    "Create a new file `\"report.txt\"` and write the string `\"Data analysis report\"` to it.\n",
    "\n",
    "```python\n",
    "# Exercise 23\n",
    "```"
   ]
  },
  {
   "cell_type": "code",
   "execution_count": 21,
   "id": "6d154e70-d81e-455b-bc3f-d9d610dd4f64",
   "metadata": {},
   "outputs": [],
   "source": [
    "with open('report.txt', 'w') as f:\n",
    "    f.write(\"Data analysis report\")"
   ]
  },
  {
   "cell_type": "markdown",
   "id": "d22d85a8-68f8-4085-8693-6902c73a9024",
   "metadata": {
    "id": "bea983a3"
   },
   "source": [
    "---\n",
    "\n",
    "### Exercise 24:\n",
    "Replace the word `\"error\"` with `\"issue\"` in a file `\"log.txt\"`.\n",
    "\n",
    "```python\n",
    "# Exercise 24\n",
    "```"
   ]
  },
  {
   "cell_type": "code",
   "execution_count": 24,
   "id": "e6a60ffe-284f-442d-8ab4-1983976b3aba",
   "metadata": {},
   "outputs": [],
   "source": [
    "with open('log.txt', 'r') as f:\n",
    "    content = f.read()\n",
    "\n",
    "content = content.replace('ERROR', 'ISSUE')\n",
    "\n",
    "with open('log.txt', 'w') as f:\n",
    "    f.write(content)"
   ]
  },
  {
   "cell_type": "markdown",
   "id": "9c87670f-8ba3-4662-81ab-868eaacff76d",
   "metadata": {
    "id": "bea983a3"
   },
   "source": [
    "---\n",
    "\n",
    "### Exercise 25:\n",
    "Count the number of words in a text file `\"document.txt\"`.\n",
    "\n",
    "```python\n",
    "# Exercise 25\n",
    "```"
   ]
  },
  {
   "cell_type": "code",
   "execution_count": 26,
   "id": "33d382dd-549d-4c14-acfc-cc767cd41354",
   "metadata": {},
   "outputs": [
    {
     "data": {
      "text/plain": [
       "9"
      ]
     },
     "execution_count": 26,
     "metadata": {},
     "output_type": "execute_result"
    }
   ],
   "source": [
    "count_words = 0\n",
    "with open('notes.txt', 'r') as f:\n",
    "    for line in f:\n",
    "        count_words += len(line.strip().split(' '))\n",
    "\n",
    "count_words"
   ]
  },
  {
   "cell_type": "markdown",
   "id": "59320d33-a769-4a72-87ff-b8112bbec92a",
   "metadata": {
    "id": "bea983a3"
   },
   "source": [
    "---\n",
    "\n",
    "### Exercise 26:\n",
    "Write a Python script that reads a file `\"essay.txt\"` and prints the total number of lines, words, and characters.\n",
    "\n",
    "```python\n",
    "# Exercise 26\n",
    "```"
   ]
  },
  {
   "cell_type": "code",
   "execution_count": null,
   "id": "d0f4e9c0-e11d-4915-9586-dbee988faf71",
   "metadata": {},
   "outputs": [],
   "source": []
  },
  {
   "cell_type": "markdown",
   "id": "0d2b4364-338f-46f3-9a01-d6a3bdd5c283",
   "metadata": {
    "id": "bea983a3",
    "jp-MarkdownHeadingCollapsed": true
   },
   "source": [
    "---\n",
    "\n",
    "### Exercise 27:\n",
    "Copy the contents of one file `\"source.txt\"` to another file `\"destination.txt\"`.\n",
    "\n",
    "```python\n",
    "# Exercise 27\n",
    "```\n",
    "\n",
    "---\n",
    "\n",
    "### Exercise 28:\n",
    "Write a Python function that takes a filename as input and returns the number of lines in the file.\n",
    "\n",
    "```python\n",
    "# Exercise 28\n",
    "```\n",
    "\n",
    "---\n",
    "\n",
    "### Exercise 29:\n",
    "Extract all the words from a text file `\"article.txt\"` that contain more than 5 characters.\n",
    "\n",
    "```python\n",
    "# Exercise 29\n",
    "```\n",
    "\n",
    "---\n",
    "\n",
    "### Exercise 30:\n",
    "Convert the contents of a file `\"notes.txt\"` to uppercase and save the result in another file `\"uppercase_notes.txt\"`.\n",
    "\n",
    "```python\n",
    "# Exercise 30\n",
    "```\n",
    "\n",
    "---\n",
    "\n",
    "### Exercise 31:\n",
    "Write a Python script that reads a file and removes all empty lines.\n",
    "\n",
    "```python\n",
    "# Exercise 31\n",
    "```\n",
    "\n",
    "---\n",
    "\n",
    "### Exercise 32:\n",
    "Open a file `\"config.txt\"` in both read and write mode.\n",
    "\n",
    "```python\n",
    "# Exercise 32\n",
    "```\n",
    "\n",
    "---\n",
    "\n",
    "### Exercise 33:\n",
    "Write a Python function that reads a file and prints the longest line in the file.\n",
    "\n",
    "```python\n",
    "# Exercise 33\n",
    "```\n",
    "\n",
    "---\n",
    "\n",
    "### Exercise 34:\n",
    "Write a Python script to count the frequency of each letter in a text file `\"message.txt\"`.\n",
    "\n",
    "```python\n",
    "# Exercise 34\n",
    "```\n",
    "\n",
    "---\n",
    "\n",
    "### Exercise 35:\n",
    "Write a Python script that reads a file and prints the total number of characters, excluding spaces.\n",
    "\n",
    "```python\n",
    "# Exercise 35\n",
    "```\n",
    "\n",
    "---\n",
    "\n",
    "### Exercise 36:\n",
    "Create a Python script to check whether a file is empty or not.\n",
    "\n",
    "```python\n",
    "# Exercise 36\n",
    "```\n",
    "\n",
    "---\n",
    "\n",
    "### Exercise 37:\n",
    "Write a Python function that reads a file and removes all punctuation marks from the text.\n",
    "\n",
    "```python\n",
    "# Exercise 37\n",
    "```\n",
    "\n",
    "---\n",
    "\n",
    "### Exercise 38:\n",
    "Create a Python function that writes a list of strings to a file, each string on a new line.\n",
    "\n",
    "```python\n",
    "# Exercise 38\n",
    "```\n",
    "\n",
    "---\n",
    "\n",
    "### Exercise 39:\n",
    "Write a Python script to count the number of lines that start with a specific letter (e.g., \"A\") in a text file.\n",
    "\n",
    "```python\n",
    "# Exercise 39\n",
    "```\n",
    "\n",
    "---\n",
    "\n",
    "### Exercise 40:\n",
    "Write a Python function that takes a string as input and writes it to a file `\"output.txt\"` in reverse order.\n",
    "\n",
    "```python\n",
    "# Exercise 40\n",
    "```\n",
    "\n",
    "---\n",
    "\n",
    "### Exercise 41:\n",
    "Write a Python script that reads a file and prints all the lines that contain the word `\"Python\"`.\n",
    "\n",
    "```python\n",
    "# Exercise 41\n",
    "```\n",
    "\n",
    "---\n",
    "\n",
    "### Exercise 42:\n",
    "Write a Python script that opens a file and removes all numeric digits from the file's content.\n",
    "\n",
    "```python\n",
    "# Exercise 42\n",
    "```\n",
    "\n",
    "---\n",
    "\n",
    "### Exercise 43:\n",
    "Write a Python script to find the most frequent word in a text file `\"book.txt\"`.\n",
    "\n",
    "```python\n",
    "# Exercise 43\n",
    "```\n",
    "\n",
    "---\n",
    "\n",
    "### Exercise 44:\n",
    "Write a Python script that reads a file and prints all the lines that contain exactly 5 words.\n",
    "\n",
    "```python\n",
    "# Exercise 44\n",
    "```\n",
    "\n",
    "---\n",
    "\n",
    "### Exercise 45:\n",
    "Write a Python script to read a file and print the first and last line of the file.\n",
    "\n",
    "```python\n",
    "# Exercise 45\n",
    "```\n",
    "\n",
    "---\n",
    "\n",
    "### Exercise 46:\n",
    "Write a Python script that checks if a file `\"students.txt\"` is writable.\n",
    "\n",
    "```python\n",
    "# Exercise 46\n",
    "```\n",
    "\n",
    "---\n",
    "\n",
    "### Exercise 47:\n",
    "Create a Python function that opens a file and returns the number of unique words in the file.\n",
    "\n",
    "```python\n",
    "# Exercise 47\n",
    "```\n",
    "\n",
    "---\n",
    "\n",
    "### Exercise 48:\n",
    "Write a Python script that reads a file and prints all lines in reverse order.\n",
    "\n",
    "```python\n",
    "# Exercise 48\n",
    "```\n",
    "\n",
    "---\n",
    "\n",
    "### Exercise 49:\n",
    "Write a Python function that reads a file and returns the most common letter in the text.\n",
    "\n",
    "```python\n",
    "# Exercise 49\n",
    "```\n",
    "\n",
    "---\n",
    "\n",
    "### Exercise 50:\n",
    "Write a Python script that reads a file and replaces every occurrence of `\"Python\"` with `\"Java\"`.\n",
    "\n",
    "```python\n",
    "# Exercise 50\n",
    "```\n",
    "\n",
    "---"
   ]
  }
 ],
 "metadata": {
  "colab": {
   "provenance": []
  },
  "kernelspec": {
   "display_name": "Python [conda env:base] *",
   "language": "python",
   "name": "conda-base-py"
  },
  "language_info": {
   "codemirror_mode": {
    "name": "ipython",
    "version": 3
   },
   "file_extension": ".py",
   "mimetype": "text/x-python",
   "name": "python",
   "nbconvert_exporter": "python",
   "pygments_lexer": "ipython3",
   "version": "3.13.5"
  }
 },
 "nbformat": 4,
 "nbformat_minor": 5
}
