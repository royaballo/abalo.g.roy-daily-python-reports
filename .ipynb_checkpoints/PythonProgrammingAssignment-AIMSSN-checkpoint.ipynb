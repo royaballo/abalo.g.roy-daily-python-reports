{
 "cells": [
  {
   "cell_type": "markdown",
   "id": "88c8acbe-ac9d-4ba0-adab-2e0a01c67866",
   "metadata": {},
   "source": [
    "![AIMS Logo](https://www.uni-bielefeld.de/fakultaeten/mathematik/ag/hofmanova/daad-aims/aims-senegal.png)"
   ]
  },
  {
   "cell_type": "markdown",
   "id": "710acdda-eec7-466b-b845-db9d338c889f",
   "metadata": {},
   "source": [
    "****\n",
    "\n",
    "# <center> <b> <span style=\"color:orange;\"> Python Proficiency for Scientific Computing and Data Science (PyPro-SCiDaS)  </span> </b></center>\n",
    "\n",
    "### <center> <b> <span style=\"color:green;\">An Initiation to Programming using Python (Init2Py) </span> </b></center>\n",
    "    "
   ]
  },
  {
   "cell_type": "markdown",
   "id": "bebdbf0e-70fe-4e92-b5fd-b4daf7afc691",
   "metadata": {},
   "source": [
    "****\n",
    "# <center> <b> <span style=\"color:blue;\">Assignment </span> </b></center>\n",
    "\n",
    "****\n",
    "### Instructions:\n",
    "You should solve these problems using only:\n",
    "- Standard Python data types (e.g., str, list, dict, int).\n",
    "- Built-in and user-defined functions.\n",
    "- Basic flow control (if/else, for loops, while loops).\n",
    "- Standard library modules such as math\n",
    "****"
   ]
  },
  {
   "cell_type": "markdown",
   "id": "0eb74f98",
   "metadata": {},
   "source": [
    "## Section 1: Python Fundamentals"
   ]
  },
  {
   "cell_type": "markdown",
   "id": "849b7917",
   "metadata": {},
   "source": [
    "### Exercise 1\n",
    "Compute the following expressions for a natural number $n$ chosen by the user:\n",
    "\n",
    "a) $$\\sum_{\\substack{i=0 \\\\ i \\text{ is odd}}}^{n-1} (i + 3)$$\n"
   ]
  },
  {
   "cell_type": "code",
   "execution_count": 2,
   "id": "c884045d",
   "metadata": {},
   "outputs": [],
   "source": [
    "# Your code here\n",
    "\n"
   ]
  },
  {
   "cell_type": "markdown",
   "id": "8439b5e6-7ba3-440a-891a-463eb91f51ad",
   "metadata": {},
   "source": [
    "b) $$\\prod_{\\substack{i=0 \\\\ i \\text{ is even}}}^{n-1} (i + 3)$$"
   ]
  },
  {
   "cell_type": "code",
   "execution_count": null,
   "id": "9b9b285d-00ef-4ecd-90ac-9efd2ca3d792",
   "metadata": {},
   "outputs": [],
   "source": [
    "# Your code here\n",
    "\n"
   ]
  },
  {
   "cell_type": "markdown",
   "id": "669720a3",
   "metadata": {},
   "source": [
    "### Exercise 2\n",
    "a) Write python code that computes the sum of the square of the first $n$ natural numbers. One version with a \"for loop\" and another version with a \"while loop\"."
   ]
  },
  {
   "cell_type": "code",
   "execution_count": null,
   "id": "94d27ad3",
   "metadata": {},
   "outputs": [],
   "source": [
    "# Part a: For loop version\n"
   ]
  },
  {
   "cell_type": "code",
   "execution_count": null,
   "id": "4c55fb35",
   "metadata": {},
   "outputs": [],
   "source": [
    "# Part a: While loop version\n"
   ]
  },
  {
   "cell_type": "markdown",
   "id": "51865abb-c5c5-40ab-a1e7-d7cd45da4387",
   "metadata": {},
   "source": [
    "b) Write python code that prints, for a natural number $M$, the smallest natural number $n$ such that $1^2 + 2^2 + \\cdots + n^2 \\geq M$. One version with a \"for loop\" and another version with a \"while loop\"."
   ]
  },
  {
   "cell_type": "code",
   "execution_count": null,
   "id": "f556ff56",
   "metadata": {},
   "outputs": [],
   "source": [
    "# Part b: While loop version\n"
   ]
  },
  {
   "cell_type": "code",
   "execution_count": null,
   "id": "a27928e9",
   "metadata": {},
   "outputs": [],
   "source": [
    "# Part b: For loop version\n"
   ]
  },
  {
   "cell_type": "markdown",
   "id": "ebe9f8cf",
   "metadata": {},
   "source": [
    "### Exercise 3\n",
    "Write a python script that asks the user for the values of $x$ and $y$ and uses these inputs to compute the numerical value of the expression:\n",
    "\n",
    "$$\\frac{\\sqrt{x^2+y}}{\\frac{1}{x} + 2\\sin y}$$"
   ]
  },
  {
   "cell_type": "code",
   "execution_count": null,
   "id": "45ed183b",
   "metadata": {},
   "outputs": [],
   "source": [
    "# Your code here\n"
   ]
  },
  {
   "cell_type": "markdown",
   "id": "5dd987b9",
   "metadata": {},
   "source": [
    "### Exercise 4\n",
    "\n",
    "A store charges XOF $12$ per item if fewer than $10$ items are purchased. If the number of items is between $10$ and $99$ (inclusive), the price is XOF $10$ per item. For $100$ items or more, the price drops to XOF $7$ per item.\n",
    "\n",
    "a) Write a function called `Cost` that takes as input the number of items $n$ and returns the total cost.\n"
   ]
  },
  {
   "cell_type": "code",
   "execution_count": null,
   "id": "2e2d41c7-638a-4833-8214-88d004eac4c1",
   "metadata": {},
   "outputs": [],
   "source": [
    "# Your code here\n"
   ]
  },
  {
   "cell_type": "markdown",
   "id": "d49716e4-ecee-44ea-980d-558ed78c9802",
   "metadata": {},
   "source": [
    "b) Test the function `Cost` for $n = 50 \\text{ and } 255$."
   ]
  },
  {
   "cell_type": "code",
   "execution_count": null,
   "id": "b945be28-8c9e-4974-84fe-2e709351df63",
   "metadata": {},
   "outputs": [],
   "source": [
    "# Your code here\n"
   ]
  },
  {
   "cell_type": "markdown",
   "id": "81add996",
   "metadata": {},
   "source": [
    "### Exercise 5\n",
    "For a fixed real number $x$ and a natural number $n$, we can define recursively $x^n$ using the relations:\n",
    "\n",
    "$$x^0 = 1 \\quad \\text{and} \\quad x^{n+1} = x \\cdot x^n$$\n",
    "\n",
    "Write a function `power(x,n)` that implements the above recursion."
   ]
  },
  {
   "cell_type": "code",
   "execution_count": null,
   "id": "d7f39afd",
   "metadata": {},
   "outputs": [],
   "source": [
    "# Your code here\n"
   ]
  },
  {
   "cell_type": "markdown",
   "id": "6a2c61c6",
   "metadata": {},
   "source": [
    "### Exercise 6\n",
    "\n",
    "a) Write two functions: `arithmetic_mean`, which takes two numbers and returns their [**arithmetic mean**](https://en.wikipedia.org/wiki/Arithmetic_mean)\n",
    ", and `geometric_mean`, which takes two numbers and returns their [**geometric mean**](https://en.wikipedia.org/wiki/Geometric_mean). Then write a function `avggeom` that takes two input numbers and, for 10 iterations, repeatedly computes both their arithmetic mean and geometric mean, using the results from the previous iteration as the new inputs.\n"
   ]
  },
  {
   "cell_type": "code",
   "execution_count": null,
   "id": "8c8ec37f",
   "metadata": {},
   "outputs": [],
   "source": [
    "# Your code here\n"
   ]
  },
  {
   "cell_type": "markdown",
   "id": "31ecdd87-a731-485f-9110-59cba9b46f5b",
   "metadata": {},
   "source": [
    "b) Write a function called `distancefn` that computes the [**Euclidean distance**](https://en.wikipedia.org/wiki/Euclidean_distance) between two points $(x_1, y_1)$ and $(x_2, y_2)$ in the plane. Use it in another program that computes the perimeter and the area of a triangle, given three points in the plane (each given as coordinates).\n",
    "\n",
    " \n"
   ]
  },
  {
   "cell_type": "code",
   "execution_count": null,
   "id": "33a9cfd9",
   "metadata": {},
   "outputs": [],
   "source": [
    "# Your code here\n"
   ]
  },
  {
   "cell_type": "markdown",
   "id": "9fcbb79e-0cd9-41cc-aab5-530155b7faf9",
   "metadata": {},
   "source": [
    "### Exercise 7\n",
    "\n",
    "a) Let `L=[2,3,5,7,11,13,17,19,23,29,31,37,41,43,47]`. Use list comprehension to produce a list of the gaps (differences) between consecutive entries in `L`. Then find the maximum gap size and the percentage of gaps that have size $2$."
   ]
  },
  {
   "cell_type": "code",
   "execution_count": null,
   "id": "6de22a29-0917-42e1-9eac-281aac5f8473",
   "metadata": {},
   "outputs": [],
   "source": [
    "# Your code here\n"
   ]
  },
  {
   "cell_type": "markdown",
   "id": "5c4be925-e334-475f-a478-75b39131fe4d",
   "metadata": {},
   "source": [
    "b) i) Using list comprehensions, write a function `ListComp` that takes a list of strings as input and returns three objects:\n",
    "\n",
    "- a list that consists of the strings with their first characters removed\n",
    "- a list of the lengths of the strings\n",
    "- a list that consists of only those strings that are at least 5 characters long\n"
   ]
  },
  {
   "cell_type": "code",
   "execution_count": null,
   "id": "14b517b1-1fef-4659-9952-8d66c2560aac",
   "metadata": {},
   "outputs": [],
   "source": [
    "# Your code here\n"
   ]
  },
  {
   "cell_type": "markdown",
   "id": "8712badb-0d34-4907-8828-7fa1d78b2672",
   "metadata": {},
   "source": [
    "ii) Test your function with the list: `[\"hello\", \"world\", \"python\", \"programming\", \"AI\", \"code\"]`"
   ]
  },
  {
   "cell_type": "code",
   "execution_count": null,
   "id": "2a7c2ddd-5db1-4fba-945b-92a661a580d1",
   "metadata": {},
   "outputs": [],
   "source": [
    "# Your code here\n"
   ]
  },
  {
   "cell_type": "markdown",
   "id": "e37c36d8-f769-4a73-a642-d2dd1f04fcb0",
   "metadata": {},
   "source": [
    "### Exercise 8\n",
    "\n",
    "a) Write a program that repeatedly asks the user to enter product names and prices. Store all of these in a dictionary whose keys are the product names and whose values are the prices. When the user is done entering products and prices, allow them to repeatedly enter a product name and print the corresponding price or a message if the product is not in the dictionary."
   ]
  },
  {
   "cell_type": "code",
   "execution_count": null,
   "id": "a577ce2e-6c93-44ab-8113-f95a0b1f6292",
   "metadata": {},
   "outputs": [],
   "source": [
    "# Your code here\n"
   ]
  },
  {
   "cell_type": "markdown",
   "id": "0c290f12-f56b-4377-ad30-1bc7cd0d6667",
   "metadata": {},
   "source": [
    "b) Using the dictionary created above, allow the user to enter an amount and print out a list of the products whose price is less than that amount."
   ]
  },
  {
   "cell_type": "code",
   "execution_count": null,
   "id": "656979c5-eb60-4fb8-abbe-e4c3dcc4ddd7",
   "metadata": {},
   "outputs": [],
   "source": [
    "# Your code here\n"
   ]
  },
  {
   "cell_type": "markdown",
   "id": "cf33be4c-5b93-489c-9731-aafad88900d9",
   "metadata": {},
   "source": [
    "c) Using the dictionary created above, evaluate the most expensive product."
   ]
  },
  {
   "cell_type": "code",
   "execution_count": null,
   "id": "f120a069-b5eb-4ac8-8fd5-27ec6abca426",
   "metadata": {},
   "outputs": [],
   "source": [
    "# Your code here\n"
   ]
  },
  {
   "cell_type": "markdown",
   "id": "9dc09c3e-5a73-4361-894b-0b69ea01f9c5",
   "metadata": {},
   "source": [
    "d) Using the dictionary created above, calculate the average price of all products."
   ]
  },
  {
   "cell_type": "code",
   "execution_count": null,
   "id": "1b3055d2-05dd-4bde-b53f-504ea9755ccc",
   "metadata": {},
   "outputs": [],
   "source": [
    "# Your code here\n"
   ]
  },
  {
   "cell_type": "markdown",
   "id": "d608f5c3-22a4-4a77-bc29-0c54a3ae210f",
   "metadata": {},
   "source": [
    "e) Using the dictionary created above, update the prices of multiple products at once."
   ]
  },
  {
   "cell_type": "code",
   "execution_count": null,
   "id": "56dc6214-63b1-4e67-ab84-c248d12f0c93",
   "metadata": {},
   "outputs": [],
   "source": [
    "# Your code here\n"
   ]
  },
  {
   "cell_type": "markdown",
   "id": "69987d36-94b2-4a35-8797-3bfbfa98d72e",
   "metadata": {},
   "source": [
    "### Exercise 9\n",
    "\n",
    "Use string methods and attributes to solve the following:"
   ]
  },
  {
   "cell_type": "markdown",
   "id": "d0e93ff1-82e5-4f2b-a39b-4013979c1968",
   "metadata": {},
   "source": [
    "a) Write a function called `word_counter` that reads in the file `example.txt` and estimates the total number of words in the file. Assume words are separated by spaces."
   ]
  },
  {
   "cell_type": "code",
   "execution_count": null,
   "id": "6a4155a9-4d99-4ded-8103-5395f2195a97",
   "metadata": {},
   "outputs": [],
   "source": [
    "# Your code here\n"
   ]
  },
  {
   "cell_type": "markdown",
   "id": "cb6d8e35-f0e2-4285-aa1c-977591f8c288",
   "metadata": {},
   "source": [
    "b) Write a function called `UpLow` that reads the content of `example.txt` and then returns a dictionary containing the total number of uppercase letters and the total number of lowercase letters."
   ]
  },
  {
   "cell_type": "code",
   "execution_count": null,
   "id": "b73e1286-0941-4525-947d-3c6f7ffd71b2",
   "metadata": {},
   "outputs": [],
   "source": [
    "# Your code here\n"
   ]
  },
  {
   "cell_type": "markdown",
   "id": "09d10eca-395d-4a37-9347-98be9c9988e7",
   "metadata": {},
   "source": [
    "c) Write a function called `count_word` that reads in `example.txt` and returns how many times the `target_word` (\"the\") appears in the text. Take note that the count must be case-insensitive (e.g., \"The\", \"the\", \"THE\" all count as one) and that it must only count whole word matches, not partial matches (e.g., \"them\" should not count if the target is \"the\")."
   ]
  },
  {
   "cell_type": "code",
   "execution_count": null,
   "id": "16c56340-547d-455b-b23d-4432141c9967",
   "metadata": {},
   "outputs": [],
   "source": [
    "# Your code here\n"
   ]
  },
  {
   "cell_type": "markdown",
   "id": "1aa05af8-19f8-49f5-a3d1-7c90fa708d0e",
   "metadata": {},
   "source": [
    "d) Write a function called `swap_and_clean` that reads the content of the file `example.txt`. The function should process the text by converting all uppercase letters to lowercase and all lowercase letters to uppercase. It should also remove all characters that are not letters, such as numbers and punctuation, while keeping spaces intact. After performing these modifications, the function should write the resulting text to a new file called `output1.txt`."
   ]
  },
  {
   "cell_type": "code",
   "execution_count": null,
   "id": "c697a0ff-5e8e-4197-b3cf-01fdae99d8eb",
   "metadata": {},
   "outputs": [],
   "source": [
    "# Your code here\n"
   ]
  },
  {
   "cell_type": "markdown",
   "id": "3495f4ec-32c1-4dc4-83f2-e960f6bdd904",
   "metadata": {},
   "source": [
    "e) Write a function called `palindromes` that reads the content of `example.txt`. The function should first split the text into individual words. For each word, it should be cleaned by converting it to lowercase and removing any leading or trailing punctuation. After cleaning, the function should check whether the word is a [**palindrome**](https://en.wikipedia.org/wiki/Palindrome). A palindrome is a word that reads the same forwards and backwards eg \"madam\". If a word is a palindrome, the function should print the original, uncleaned version of that word to the console."
   ]
  },
  {
   "cell_type": "code",
   "execution_count": null,
   "id": "f6055bd5-9777-4670-bc86-c4fa1bac10fc",
   "metadata": {},
   "outputs": [],
   "source": [
    "# Your code here\n"
   ]
  },
  {
   "cell_type": "markdown",
   "id": "59d86dbf-b8db-48c3-a30e-8171f459d93f",
   "metadata": {},
   "source": [
    "f) Write a function called `extract_and_format_numbers` that reads the file `example.txt` line by line. The function should identify any numbers that appear in the text, such as `100000000`. For each number found, it should format the number by inserting commas in the appropriate places (for example, converting `100000000` to `100,000,000`). Each formatted number should then be written on a separate line in a new file called `output2.txt`."
   ]
  },
  {
   "cell_type": "code",
   "execution_count": null,
   "id": "b2fd2ea1-ba51-4677-b59f-902fb08df1db",
   "metadata": {},
   "outputs": [],
   "source": [
    "# Your code here\n"
   ]
  },
  {
   "cell_type": "markdown",
   "id": "a7b3e2bc",
   "metadata": {},
   "source": [
    "### Exercise 10\n",
    "\n",
    "The [**digital root**](https://en.wikipedia.org/wiki/Digital_root) of a positive number $n$ is obtained as follows: \n",
    "- Add up the digits $n$ to get a new number.\n",
    "- Add up the digits of that to get another new number. Keep doing this until you get a number that has only one digit. That number is the digital root.\n",
    "\n",
    "For example, if $n = 45893$, we add up the digits to get $$4 + 5 + 8 + 9 + 3 = 29.$$ We then add up\n",
    "the digits of $29$ to get $$2 + 9 = 11.$$ We then add up the digits of $11$ to get $$1 + 1 = 2.$$ Since 2 has\n",
    "only one digit, 2 is our digital root.\n",
    "\n",
    "Write the Python code of the function `DigRoot` that returns the digital root of an integer $n$ given as input.\n",
    "\n"
   ]
  },
  {
   "cell_type": "code",
   "execution_count": null,
   "id": "5bce0733",
   "metadata": {},
   "outputs": [],
   "source": [
    "# Your code here\n"
   ]
  },
  {
   "cell_type": "markdown",
   "id": "38c8dc59",
   "metadata": {},
   "source": [
    "## Section 2: Mathematical Applications"
   ]
  },
  {
   "cell_type": "markdown",
   "id": "bd7b508f",
   "metadata": {},
   "source": [
    "### Exercise 1\n",
    "Compute the first 30 terms of the sequence defined by $2x_{n+2} - x_{n+1} - 6x_n = 0$ sequence, given any two initial values $x_0$ and $x_1$."
   ]
  },
  {
   "cell_type": "code",
   "execution_count": null,
   "id": "ab40f242",
   "metadata": {},
   "outputs": [],
   "source": [
    "# Your code here"
   ]
  },
  {
   "cell_type": "markdown",
   "id": "4604ea6c-10e6-41c4-9a7b-9d9cf3c4f456",
   "metadata": {},
   "source": [
    "### Exercise 2\n",
    "\n",
    "Let $f$ be a continuous function defined on the closed interval $[a, b]$ such that $f(a)$ and $f(b)$ have opposite signs. By the [**Intermediate Value Theorem**](https://en.wikipedia.org/wiki/Intermediate_value_theorem), there exists a root $x_0 \\in (a, b)$ for which $f(x_0) = 0$.\n",
    "\n",
    "The [**bisection method**](https://fiveable.me/numerical-analysis-i/unit-3/bisection-method-algorithm/study-guide/5LfBknp8yfSe5lse) is an iterative method for approximating the root of such a function. At each step, it divides the interval in half and selects the subinterval where the sign change occurs, repeating this process until the interval width is smaller than a given tolerance ($\\epsilon$).\n",
    "\n",
    "a) Write a function named `bisection(f, a, b, epsilon=1e-2)` that:\n",
    "\n",
    "- Returns a tuple $(\\bar{x}, f(\\bar{x}))$, where $\\bar{x}$ is an approximation of the root such that\n",
    "$$\n",
    "|\\bar{x} - x_0| \\le \\epsilon\n",
    "$$\n",
    "if $f(a)\\cdot f(b) < 0$.  \n",
    "\n",
    "- Prints ``Bisection method failed'' if $f(a)\\cdot f(b) \\ge 0$.\n"
   ]
  },
  {
   "cell_type": "code",
   "execution_count": null,
   "id": "f7a47901",
   "metadata": {},
   "outputs": [],
   "source": [
    "# Your code here"
   ]
  },
  {
   "cell_type": "markdown",
   "id": "7b292b20",
   "metadata": {},
   "source": [
    "b) Test your function `bisection` for $ f(x) = x^3 -3x - 5$, $a=-10$ and $b=10$"
   ]
  },
  {
   "cell_type": "code",
   "execution_count": null,
   "id": "65055df7",
   "metadata": {},
   "outputs": [],
   "source": [
    "# Your code here"
   ]
  },
  {
   "cell_type": "markdown",
   "id": "e4a009bd",
   "metadata": {},
   "source": [
    "### Exercise 3\n",
    "An irrational decimal fraction, [**Champernowne constant**](https://en.wikipedia.org/wiki/Champernowne_constant), is created by concatenating the positive integers: 0.12345678910<font color='red'>1</font>112131415161718192021...\n",
    "\n",
    "It can be seen that the 12th digit of the fractional part is <font color='red'>1</font>. If $d_n$ represents the nth digit of the fractional part, find the value of the following expression.\n",
    "\n",
    "$$d_1 × d_{10} × d_{100} × d_{1000} × d_{10000} × d_{100000} × d_{1000000}$$"
   ]
  },
  {
   "cell_type": "code",
   "execution_count": null,
   "id": "6e8209b5",
   "metadata": {},
   "outputs": [],
   "source": [
    "# Your code here"
   ]
  },
  {
   "cell_type": "markdown",
   "id": "b71b5cf3",
   "metadata": {},
   "source": [
    "## Section 3: Advanced Programming"
   ]
  },
  {
   "cell_type": "markdown",
   "id": "09c75521",
   "metadata": {},
   "source": [
    "### Exercise 1\n",
    "\n",
    "a) Write a Python function named `factorial2` that takes a non-negative integer $n$ as input and returns $n!$ (the factorial of $n$)."
   ]
  },
  {
   "cell_type": "code",
   "execution_count": null,
   "id": "70ed6655",
   "metadata": {},
   "outputs": [],
   "source": [
    "# Your code here"
   ]
  },
  {
   "cell_type": "markdown",
   "id": "695589d1-8ae4-494d-b032-d8cd9683cd0a",
   "metadata": {},
   "source": [
    "b) i) Write a Python function named `QuadEqu` that solves a quadratic equation of the form:\n",
    "$$ax^2 + bx + c = 0$$\n",
    "\n",
    "Your function should:\n",
    "- Take three real numbers $a$, $b$, and $c$ as inputs, with $a$ defaulting to 1.\n",
    "- Return the real solutions of the equation (if any) in a suitable format."
   ]
  },
  {
   "cell_type": "code",
   "execution_count": null,
   "id": "849e4304-863d-49f7-a516-6437b150e7ea",
   "metadata": {},
   "outputs": [],
   "source": [
    "# Your code here"
   ]
  },
  {
   "cell_type": "markdown",
   "id": "f41a3fa9-a38f-4696-9bb1-9be33ee34bab",
   "metadata": {},
   "source": [
    "ii) Test the function `QuadEqu` for:\n",
    "  - $a=1, b=2, c=1$\n",
    "  - $a=2, b=2, c=40$\n",
    "  - $a=2, b=3, c=-5$"
   ]
  },
  {
   "cell_type": "code",
   "execution_count": null,
   "id": "a755c928-76eb-4494-bd5b-39ccd3fc8678",
   "metadata": {},
   "outputs": [],
   "source": [
    "# Your code here"
   ]
  },
  {
   "cell_type": "markdown",
   "id": "6288bbf2-5dcf-4eb8-b429-64bf329576bf",
   "metadata": {},
   "source": [
    "c) Write a Python program named `fact2nddeg` that repeatedly offers the user a menu with three options:\n",
    "- Compute a factorial using factorial2\n",
    "- Solve a quadratic equation using QuadEqu\n",
    "- Exit the program\n",
    "\n",
    "The program should:\n",
    "- Ask the user to select an option.\n",
    "- Request the necessary input values for the chosen option.\n",
    "- Call the corresponding function and display the result.\n",
    "- Repeat the process until the user chooses to exit."
   ]
  },
  {
   "cell_type": "code",
   "execution_count": null,
   "id": "882a1bae",
   "metadata": {},
   "outputs": [],
   "source": [
    "# Your code here"
   ]
  },
  {
   "cell_type": "markdown",
   "id": "98af1679",
   "metadata": {},
   "source": [
    "### Exercise 2\n",
    "This exercise builds the essential mathematical tools used in public-key cryptography, like [**Rivest–Shamir–Adleman (RSA)**](https://en.wikipedia.org/wiki/RSA_cryptosystem). Security relies on the unique properties of prime numbers and the extreme difficulty of factoring very large numbers.\n",
    "\n",
    "The Core Principle: Prime Factoring is Hard\n",
    "   - **Easy**: Multiplying two large prime numbers ($p$ and $q$) to get a huge composite number ($N=p \\cdot q$) is very fast for computers.\n",
    "   - **Hard**: Given only the product $N$, finding the original two prime factors, $p$ and $q$, takes an enormous amount of time. The time required grows exponentially with the size of $N$. This difficulty is what guarantees security.\n",
    "\n",
    "a) Write a function called `number_of_factors` that takes a positive integer $n$ and returns how many factors the number has together with a list of its factors."
   ]
  },
  {
   "cell_type": "code",
   "execution_count": null,
   "id": "bc869862",
   "metadata": {},
   "outputs": [],
   "source": [
    "# Your code here"
   ]
  },
  {
   "cell_type": "markdown",
   "id": "fa1fbcc4",
   "metadata": {},
   "source": [
    "b) Write a Python function called `is_prime` that takes a positive integer, $n$, as input and returns the boolean True if $n$ is a prime number and False, otherwise.\n",
    "\n",
    "Note : A prime number (or a prime) is a natural number greater than 1 and that has no positive divisors other than 1 and itself."
   ]
  },
  {
   "cell_type": "code",
   "execution_count": null,
   "id": "1a8c5643",
   "metadata": {},
   "outputs": [],
   "source": [
    "# Your code here"
   ]
  },
  {
   "cell_type": "markdown",
   "id": "7faeebfc",
   "metadata": {},
   "source": [
    "c) Cryptographic systems need a large pool of primes. Write a function called `primes(k)` that returns a list of the first k prime numbers. (Set the default value of $k$ to 100)."
   ]
  },
  {
   "cell_type": "code",
   "execution_count": null,
   "id": "4581b7e3",
   "metadata": {},
   "outputs": [],
   "source": [
    "# Your code here"
   ]
  },
  {
   "cell_type": "markdown",
   "id": "97aaa822",
   "metadata": {},
   "source": [
    "d) Modify the `primes` function to accept an optional argument called start (default value is 2). The function should now return the first $k$ prime numbers that are greater than or equal to start. This simulates searching for primes in a specific high-security range."
   ]
  },
  {
   "cell_type": "code",
   "execution_count": null,
   "id": "ea01e512",
   "metadata": {},
   "outputs": [],
   "source": [
    "# Your code here"
   ]
  },
  {
   "cell_type": "markdown",
   "id": "2277d219",
   "metadata": {},
   "source": [
    "e) The [**Fundamental theorem of arithmetic**](https://en.wikipedia.org/wiki/Fundamental_theorem_of_arithmetic) states that every integer $n$ is a prime number or can be uniquely written as a product of prime powers (e.g., $12=2^2 \\cdot 3^1$. We are interested in finding the exponent of a specific prime in such a factorization. Write a function `V(n, p)` that takes a positive integer $n$ and a prime $p$, and returns the largest integer $r$ such that $p^r$ divides $n$. This value, $r$, is known as the [**p-adic valuation**](https://en.wikipedia.org/wiki/P-adic_valuation)."
   ]
  },
  {
   "cell_type": "code",
   "execution_count": null,
   "id": "b99888bb",
   "metadata": {},
   "outputs": [],
   "source": [
    "# Your code here"
   ]
  },
  {
   "cell_type": "markdown",
   "id": "0b5b6a45",
   "metadata": {},
   "source": [
    "f) We would like now to compare the prime-factor structure of two numbers, $n$ and $m$, that is, we would like to measure how different two numbers are in terms of the powers of the primes in their factorizations. Write a function `D(n, m)` that takes two positive integers, $n$ and $m$, and returns a total score $S_1$ calculated as follows:\n",
    "\n",
    " $$ S_1 = \\sum_{p\\; prime} \\Bigl| \\nu_p(n) - \\nu_p(m)\\Bigr| $$\n",
    "\n",
    "Note that `D(14,24)=4`.\n",
    "\n"
   ]
  },
  {
   "cell_type": "code",
   "execution_count": null,
   "id": "d36c528f",
   "metadata": {},
   "outputs": [],
   "source": [
    "# Your code here"
   ]
  },
  {
   "cell_type": "markdown",
   "id": "d3341aa5",
   "metadata": {},
   "source": [
    "g) The final problem requires you to analyze the average behavior of the `D(n,m)` function by computing a large, iterated sum.  Hence, write a function `P` that takes a positive integer `N` and returns the sum $S_2$ given by:\n",
    "\n",
    "$$S_2  = \\sum_{n=1}^{N}\\sum_{m=1}^{N}D(n,m).$$\n",
    "\n",
    "Note that $P(10)=210$ and $P(10^2) = 37018$.\n"
   ]
  },
  {
   "cell_type": "code",
   "execution_count": null,
   "id": "220bba4a",
   "metadata": {},
   "outputs": [],
   "source": [
    "# Your code here"
   ]
  },
  {
   "cell_type": "markdown",
   "id": "2336829c-4e61-49ad-955c-364ae234a725",
   "metadata": {},
   "source": [
    "### Exercise 3\n",
    "\n",
    "Imagine a population of bacteria that grows at a rate proportional to its current size, but with limited food supply. Suppose its growth is modeled by\n",
    "\n",
    "$$\\dfrac{dy}{dt}=0.5y$$\n",
    "\n",
    "with initial population $y(0)=2$.\n",
    "\n",
    "a) Explain in words what this equation means about how the population changes over time."
   ]
  },
  {
   "cell_type": "markdown",
   "id": "fc7a47fb-0509-4a8b-b8c2-11ee3394cb6c",
   "metadata": {},
   "source": [
    "**Your explanation here**"
   ]
  },
  {
   "cell_type": "markdown",
   "id": "6e7ac82b-5593-4daa-9320-926192c42102",
   "metadata": {},
   "source": [
    "b) [**Euler’s method**](https://en.wikipedia.org/wiki/Euler_method) is a numerical technique to approximate solutions of ordinary differential equations (ODEs) when an exact solution is hard (or impossible) to find.\n",
    "\n",
    "Suppose we have an ODE:\n",
    "$$\\dfrac{dy}{dt} = f(t, y), \\quad y(t_0)=y_0$$\n",
    "\n",
    "The idea is:\n",
    "\n",
    "- Start from an initial point $(t_0, y_0)$\n",
    "- Move forward in small steps of size $h$\n",
    "- At each step, estimate the new value of $y$ using the slope $f(t,y)$ at the current point\n",
    "\n",
    "The update formula is thus given by:\n",
    "$$y_{n+1} = y_n + h \\cdot f(t_n,y_n)$$\n",
    "$$t_{n+1} = t_n + h$$\n",
    "\n",
    "The pseudocode is given as follows:"
   ]
  },
  {
   "cell_type": "raw",
   "id": "cd6dd625-099b-4958-b019-76d584c39873",
   "metadata": {},
   "source": [
    "euler(f, t0, y0, h, n):\n",
    "    input: \n",
    "        f  = function representing dy/dt = f(t, y)\n",
    "        t0 = initial time\n",
    "        y0 = initial value\n",
    "        h  = step size\n",
    "        n  = number of steps\n",
    "    output: approximate solution y_n after n steps\n",
    "    \n",
    "    set t = t0\n",
    "    set y = y0\n",
    "    \n",
    "    for i from 1 to n:\n",
    "        y = y + h * f(t, y)\n",
    "        t = t + h\n",
    "    \n",
    "    return y\n"
   ]
  },
  {
   "cell_type": "markdown",
   "id": "4a8b4070-f302-4515-87ac-2e9186a35596",
   "metadata": {},
   "source": [
    "c) i) Write $f(t, y) = 0.5y$ as a lambda function."
   ]
  },
  {
   "cell_type": "code",
   "execution_count": null,
   "id": "e7945c33-fc9e-4bf5-a430-7b5b57d898f7",
   "metadata": {},
   "outputs": [],
   "source": []
  },
  {
   "cell_type": "markdown",
   "id": "63cbe25c-85a0-486a-8dbc-f69658cc7003",
   "metadata": {},
   "source": [
    "ii) Now, use Euler’s method with a step size $h=0.1$ to approximate the population at $t=0.3$. Strictly use lists."
   ]
  },
  {
   "cell_type": "code",
   "execution_count": null,
   "id": "681af205-4795-4986-bdf9-b71fd19a9ddc",
   "metadata": {},
   "outputs": [],
   "source": []
  },
  {
   "cell_type": "markdown",
   "id": "3011b990-9ec4-4045-977e-806cf2a01489",
   "metadata": {},
   "source": [
    "d) Compare your result at $t=0.3$ with the exact solution $y(t) = 2\\exp^{0.5t}$, that is, compute the absolute error."
   ]
  },
  {
   "cell_type": "code",
   "execution_count": null,
   "id": "752d3ba9-b5ca-44b0-bee3-fa9fab03a03c",
   "metadata": {},
   "outputs": [],
   "source": []
  },
  {
   "cell_type": "markdown",
   "id": "23e54ea3-994e-4351-ba36-a6fdfbc07e43",
   "metadata": {},
   "source": [
    "e) Compare your answers for $y(0.3)$ with $h=0.1$ and $h=0.05$. Which one is closer to the exact solution $y(0.3) = 2\\exp^{0.15}$ ? Reflect on this."
   ]
  },
  {
   "cell_type": "code",
   "execution_count": null,
   "id": "c6eb7840-6a86-42f4-bb0d-181038445e4b",
   "metadata": {},
   "outputs": [],
   "source": []
  },
  {
   "cell_type": "markdown",
   "id": "fbd0292f-9bb4-48b9-8714-264d7a4e30c1",
   "metadata": {},
   "source": [
    "### Exercise 4\n",
    "\n",
    "Determine how many Sundays fell on the first day of a month during the twentieth century, that is, from 1 January 1901 to 31 December 2000.\n",
    "\n",
    "The following information might be useful (though you may also verify or research independently):\n",
    "\n",
    "- 1 January 1900 was a Monday.\n",
    "- The number of days in each month is as follows:\n",
    "    - September, April, June, and November each have 30 days.\n",
    "    - All other months have 31 days, except February, which has 28 days in a common year and 29 days in a leap year.\n",
    "- Leap year rules:\n",
    "    - A year is a leap year if it is divisible by 4.\n",
    "    - However, if the year is a century (i.e., divisible by 100), it is only a leap year if it is also divisible by 400."
   ]
  },
  {
   "cell_type": "code",
   "execution_count": null,
   "id": "15009fdd-575a-4ed7-bee2-72ea31ca554e",
   "metadata": {},
   "outputs": [],
   "source": [
    "# Your code here"
   ]
  }
 ],
 "metadata": {
  "kernelspec": {
   "display_name": "Python 3 (ipykernel)",
   "language": "python",
   "name": "python3"
  },
  "language_info": {
   "codemirror_mode": {
    "name": "ipython",
    "version": 3
   },
   "file_extension": ".py",
   "mimetype": "text/x-python",
   "name": "python",
   "nbconvert_exporter": "python",
   "pygments_lexer": "ipython3",
   "version": "3.13.9"
  }
 },
 "nbformat": 4,
 "nbformat_minor": 5
}
