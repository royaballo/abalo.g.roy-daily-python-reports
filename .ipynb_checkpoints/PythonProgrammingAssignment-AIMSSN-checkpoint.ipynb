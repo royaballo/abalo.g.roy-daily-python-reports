{
 "cells": [
  {
   "cell_type": "markdown",
   "id": "88c8acbe-ac9d-4ba0-adab-2e0a01c67866",
   "metadata": {},
   "source": [
    "![AIMS Logo](https://www.uni-bielefeld.de/fakultaeten/mathematik/ag/hofmanova/daad-aims/aims-senegal.png)"
   ]
  },
  {
   "cell_type": "markdown",
   "id": "710acdda-eec7-466b-b845-db9d338c889f",
   "metadata": {},
   "source": [
    "****\n",
    "\n",
    "# <center> <b> <span style=\"color:orange;\"> Python Proficiency for Scientific Computing and Data Science (PyPro-SCiDaS)  </span> </b></center>\n",
    "\n",
    "### <center> <b> <span style=\"color:green;\">An Initiation to Programming using Python (Init2Py) </span> </b></center>\n",
    "    "
   ]
  },
  {
   "cell_type": "markdown",
   "id": "bebdbf0e-70fe-4e92-b5fd-b4daf7afc691",
   "metadata": {},
   "source": [
    "****\n",
    "# <center> <b> <span style=\"color:blue;\">Assignment </span> </b></center>\n",
    "\n",
    "****\n",
    "### Instructions:\n",
    "You should solve these problems using only:\n",
    "- Standard Python data types (e.g., str, list, dict, int).\n",
    "- Built-in and user-defined functions.\n",
    "- Basic flow control (if/else, for loops, while loops).\n",
    "- Standard library modules such as math\n",
    "****"
   ]
  },
  {
   "cell_type": "code",
   "execution_count": 3,
   "id": "bac80faa-6a82-493c-a6b0-4d5cff03f341",
   "metadata": {},
   "outputs": [],
   "source": [
    "import time\n",
    "\n",
    "# Just not to repeat my self\n",
    "def input_natural_number():\n",
    "    is_not_int = True\n",
    "    while is_not_int:\n",
    "        try:\n",
    "            n = int(input(\"Give me any natural number and I will give you the result: \"))\n",
    "            if n < 0:\n",
    "                raise ValueError(\"I don't take negative number\")\n",
    "        except Exception as e:\n",
    "            time.sleep(1)\n",
    "            print(f\"Error: {str(e)}\")\n",
    "            print(\"Please, I only accept natural numbers.\")\n",
    "            time.sleep(1)\n",
    "            continue\n",
    "        else:\n",
    "            is_not_int = False\n",
    "    \n",
    "    return n"
   ]
  },
  {
   "cell_type": "markdown",
   "id": "0eb74f98",
   "metadata": {},
   "source": [
    "## Section 1: Python Fundamentals"
   ]
  },
  {
   "cell_type": "markdown",
   "id": "849b7917",
   "metadata": {},
   "source": [
    "### Exercise 1\n",
    "Compute the following expressions for a natural number $n$ chosen by the user:\n",
    "\n",
    "a) $$\\sum_{\\substack{i=0 \\\\ i \\text{ is odd}}}^{n-1} (i + 3)$$\n"
   ]
  },
  {
   "cell_type": "code",
   "execution_count": 4,
   "id": "c884045d",
   "metadata": {},
   "outputs": [
    {
     "name": "stdin",
     "output_type": "stream",
     "text": [
      "Give me any natural number and I will give you the result:  3\n"
     ]
    },
    {
     "name": "stdout",
     "output_type": "stream",
     "text": [
      "Here is your answer: 4\n"
     ]
    }
   ],
   "source": [
    "# Your code here\n",
    "n = input_natural_number()\n",
    "result = 0\n",
    "for i in range(n):\n",
    "    if i % 2 != 0:\n",
    "        result += i + 3\n",
    "\n",
    "time.sleep(1)\n",
    "print(f\"Here is your answer: {result}\")"
   ]
  },
  {
   "cell_type": "markdown",
   "id": "8439b5e6-7ba3-440a-891a-463eb91f51ad",
   "metadata": {},
   "source": [
    "b) $$\\prod_{\\substack{i=0 \\\\ i \\text{ is even}}}^{n-1} (i + 3)$$"
   ]
  },
  {
   "cell_type": "code",
   "execution_count": 5,
   "id": "9b9b285d-00ef-4ecd-90ac-9efd2ca3d792",
   "metadata": {},
   "outputs": [
    {
     "name": "stdin",
     "output_type": "stream",
     "text": [
      "Give me any natural number and I will give you the result:  5\n"
     ]
    },
    {
     "name": "stdout",
     "output_type": "stream",
     "text": [
      "Here is your answer: 105\n"
     ]
    }
   ],
   "source": [
    "# Your code here\n",
    "n = input_natural_number()\n",
    "\n",
    "result = 1\n",
    "for i in range(n):\n",
    "    if i % 2 == 0:\n",
    "        result *= i + 3\n",
    "\n",
    "time.sleep(1)\n",
    "print(f\"Here is your answer: {result}\")"
   ]
  },
  {
   "cell_type": "markdown",
   "id": "669720a3",
   "metadata": {},
   "source": [
    "### Exercise 2\n",
    "a) Write python code that computes the sum of the square of the first $n$ natural numbers. One version with a \"for loop\" and another version with a \"while loop\"."
   ]
  },
  {
   "cell_type": "code",
   "execution_count": 6,
   "id": "94d27ad3",
   "metadata": {},
   "outputs": [
    {
     "name": "stdin",
     "output_type": "stream",
     "text": [
      "Give me any natural number and I will give you the result:  4\n"
     ]
    },
    {
     "name": "stdout",
     "output_type": "stream",
     "text": [
      "Here is your answer: 14\n"
     ]
    }
   ],
   "source": [
    "# Part a: For loop version\n",
    "n = input_natural_number()\n",
    "\n",
    "result = 0\n",
    "for i in range(n):\n",
    "    result += i ** 2\n",
    "\n",
    "time.sleep(1)\n",
    "print(f\"Here is your answer: {result}\")"
   ]
  },
  {
   "cell_type": "code",
   "execution_count": 7,
   "id": "4c55fb35",
   "metadata": {},
   "outputs": [
    {
     "name": "stdin",
     "output_type": "stream",
     "text": [
      "Give me any natural number and I will give you the result:  5\n"
     ]
    },
    {
     "name": "stdout",
     "output_type": "stream",
     "text": [
      "Here is your answer: 30\n"
     ]
    }
   ],
   "source": [
    "# Part a: While loop version\n",
    "n = input_natural_number()\n",
    "\n",
    "result = 0\n",
    "while n > 0:\n",
    "    result += (n - 1) ** 2\n",
    "    n = n - 1\n",
    "\n",
    "time.sleep(1)\n",
    "print(f\"Here is your answer: {result}\")"
   ]
  },
  {
   "cell_type": "markdown",
   "id": "51865abb-c5c5-40ab-a1e7-d7cd45da4387",
   "metadata": {},
   "source": [
    "b) Write python code that prints, for a natural number $M$, the smallest natural number $n$ such that $1^2 + 2^2 + \\cdots + n^2 \\geq M$. One version with a \"for loop\" and another version with a \"while loop\"."
   ]
  },
  {
   "cell_type": "code",
   "execution_count": 8,
   "id": "f556ff56",
   "metadata": {},
   "outputs": [
    {
     "name": "stdin",
     "output_type": "stream",
     "text": [
      "Give me any natural number and I will give you the result:  6\n"
     ]
    },
    {
     "name": "stdout",
     "output_type": "stream",
     "text": [
      "Here is your answer: 3\n"
     ]
    }
   ],
   "source": [
    "# Part b: While loop version\n",
    "m = input_natural_number()\n",
    "\n",
    "sum_squares = 0\n",
    "for i in range(m):\n",
    "    sum_squares += i ** 2\n",
    "    if sum_squares >= m:\n",
    "        break\n",
    "\n",
    "time.sleep(1)\n",
    "print(f\"Here is your answer: {i}\") "
   ]
  },
  {
   "cell_type": "code",
   "execution_count": 9,
   "id": "a27928e9",
   "metadata": {},
   "outputs": [
    {
     "name": "stdin",
     "output_type": "stream",
     "text": [
      "Give me any natural number and I will give you the result:  4\n"
     ]
    },
    {
     "name": "stdout",
     "output_type": "stream",
     "text": [
      "Here is your answer: 3\n"
     ]
    }
   ],
   "source": [
    "# Part b: For loop version\n",
    "m = input_natural_number()\n",
    "\n",
    "sum_squares = 0\n",
    "n = 0\n",
    "while sum_squares < m:\n",
    "    n += 1\n",
    "    sum_squares += n ** 2\n",
    "\n",
    "time.sleep(1)\n",
    "print(f\"Here is your answer: {i}\") "
   ]
  },
  {
   "cell_type": "markdown",
   "id": "ebe9f8cf",
   "metadata": {},
   "source": [
    "### Exercise 3\n",
    "Write a python script that asks the user for the values of $x$ and $y$ and uses these inputs to compute the numerical value of the expression:\n",
    "\n",
    "$$\\frac{\\sqrt{x^2+y}}{\\frac{1}{x} + 2\\sin y}$$"
   ]
  },
  {
   "cell_type": "code",
   "execution_count": 15,
   "id": "db4752bb-61f9-45a0-822c-a10c3d9f5821",
   "metadata": {},
   "outputs": [],
   "source": [
    "import math"
   ]
  },
  {
   "cell_type": "code",
   "execution_count": 12,
   "id": "45ed183b",
   "metadata": {},
   "outputs": [
    {
     "name": "stdin",
     "output_type": "stream",
     "text": [
      "Give me two values x and y (separated by one space): 4 6\n"
     ]
    },
    {
     "name": "stdout",
     "output_type": "stream",
     "text": [
      "Here is your answer: -15.187645717339198\n"
     ]
    }
   ],
   "source": [
    "# Your code here\n",
    "user_input = input(\"Give me two values x and y (separated by one space):\")\n",
    "x, y = (float(i) for i in user_input.split(' '))\n",
    "\n",
    "result = math.sqrt(x ** 2 + y) / ((1 / x) + 2 * math.sin(y))\n",
    "\n",
    "time.sleep(1)\n",
    "print(f\"Here is your answer: {result}\")"
   ]
  },
  {
   "cell_type": "markdown",
   "id": "5dd987b9",
   "metadata": {},
   "source": [
    "### Exercise 4\n",
    "\n",
    "A store charges XOF $12$ per item if fewer than $10$ items are purchased. If the number of items is between $10$ and $99$ (inclusive), the price is XOF $10$ per item. For $100$ items or more, the price drops to XOF $7$ per item.\n",
    "\n",
    "a) Write a function called `Cost` that takes as input the number of items $n$ and returns the total cost.\n"
   ]
  },
  {
   "cell_type": "code",
   "execution_count": 36,
   "id": "2e2d41c7-638a-4833-8214-88d004eac4c1",
   "metadata": {},
   "outputs": [],
   "source": [
    "# Your code here\n",
    "def cost(n):\n",
    "    if n < 10:\n",
    "        total_cost = n * 12\n",
    "    elif n >= 10 and n <= 99:\n",
    "        total_cost = n * 10\n",
    "    else:\n",
    "        total_cost = n * 7\n",
    "    return total_cost"
   ]
  },
  {
   "cell_type": "markdown",
   "id": "d49716e4-ecee-44ea-980d-558ed78c9802",
   "metadata": {},
   "source": [
    "b) Test the function `Cost` for $n = 50 \\text{ and } 255$."
   ]
  },
  {
   "cell_type": "code",
   "execution_count": 38,
   "id": "b945be28-8c9e-4974-84fe-2e709351df63",
   "metadata": {},
   "outputs": [
    {
     "name": "stdout",
     "output_type": "stream",
     "text": [
      "500\n",
      "1785\n"
     ]
    }
   ],
   "source": [
    "# Your code here\n",
    "print(cost(50))\n",
    "print(cost(255))"
   ]
  },
  {
   "cell_type": "markdown",
   "id": "81add996",
   "metadata": {},
   "source": [
    "### Exercise 5\n",
    "For a fixed real number $x$ and a natural number $n$, we can define recursively $x^n$ using the relations:\n",
    "\n",
    "$$x^0 = 1 \\quad \\text{and} \\quad x^{n+1} = x \\cdot x^n$$\n",
    "\n",
    "Write a function `power(x,n)` that implements the above recursion."
   ]
  },
  {
   "cell_type": "code",
   "execution_count": 40,
   "id": "d7f39afd",
   "metadata": {},
   "outputs": [],
   "source": [
    "# Your code here\n",
    "def power(x, n):\n",
    "    if n == 0:\n",
    "        return 1\n",
    "    else:\n",
    "        return x * power(x, n-1)"
   ]
  },
  {
   "cell_type": "markdown",
   "id": "6a2c61c6",
   "metadata": {},
   "source": [
    "### Exercise 6\n",
    "\n",
    "a) Write two functions: `arithmetic_mean`, which takes two numbers and returns their [**arithmetic mean**](https://en.wikipedia.org/wiki/Arithmetic_mean)\n",
    ", and `geometric_mean`, which takes two numbers and returns their [**geometric mean**](https://en.wikipedia.org/wiki/Geometric_mean). Then write a function `avggeom` that takes two input numbers and, for 10 iterations, repeatedly computes both their arithmetic mean and geometric mean, using the results from the previous iteration as the new inputs.\n"
   ]
  },
  {
   "cell_type": "code",
   "execution_count": 43,
   "id": "8c8ec37f",
   "metadata": {},
   "outputs": [],
   "source": [
    "# Your code here\n",
    "def arithmetic_mean(x, y):\n",
    "    return (x + y) / 2\n",
    "\n",
    "def geometric_mean(x, y):\n",
    "    return (x * y) ** 0.5\n",
    "\n",
    "def avggeom(x,y):\n",
    "    for _ in range(10):\n",
    "        x = arithmetic_mean(x, y)\n",
    "        y = geometric_mean(x, y)\n",
    "    return x, y"
   ]
  },
  {
   "cell_type": "code",
   "execution_count": 44,
   "id": "03d6d81a-c847-4e36-82d6-d1d7bfffb07c",
   "metadata": {},
   "outputs": [
    {
     "data": {
      "text/plain": [
       "(12.664924570921587, 12.664925512176977)"
      ]
     },
     "execution_count": 44,
     "metadata": {},
     "output_type": "execute_result"
    }
   ],
   "source": [
    "avggeom(12, 13)"
   ]
  },
  {
   "cell_type": "markdown",
   "id": "31ecdd87-a731-485f-9110-59cba9b46f5b",
   "metadata": {},
   "source": [
    "b) Write a function called `distancefn` that computes the [**Euclidean distance**](https://en.wikipedia.org/wiki/Euclidean_distance) between two points $(x_1, y_1)$ and $(x_2, y_2)$ in the plane. Use it in another program that computes the perimeter and the area of a triangle, given three points in the plane (each given as coordinates).\n",
    "\n",
    " \n"
   ]
  },
  {
   "cell_type": "code",
   "execution_count": 14,
   "id": "33a9cfd9",
   "metadata": {},
   "outputs": [],
   "source": [
    "# Your code here\n",
    "def distancefn(_tuple1, _tuple2):\n",
    "    dist = math.sqrt((_tuple1[0] - _tuple2[0]) ** 2 + (_tuple1[1] - _tuple2[1]) ** 2)\n",
    "    return dist"
   ]
  },
  {
   "cell_type": "code",
   "execution_count": 16,
   "id": "c074281d-1ec1-4f1d-80de-8bf0bf76d9f2",
   "metadata": {},
   "outputs": [],
   "source": [
    "def perimeter_area(_tuple1, _tuple2, _tuple3):\n",
    "    a = distancefn(_tuple1, _tuple2)\n",
    "    b = distancefn(_tuple1, _tuple3)\n",
    "    c = distancefn(_tuple2, _tuple3)\n",
    "    p = a + b + c\n",
    "    half_p = p / 2\n",
    "    area = math.sqrt(half_p * (half_p - a) * (half_p - c) * (half_p - c))\n",
    "    return p, area"
   ]
  },
  {
   "cell_type": "code",
   "execution_count": 17,
   "id": "7c8c2f97-a24e-41d1-9aef-989a20c49ae7",
   "metadata": {},
   "outputs": [
    {
     "data": {
      "text/plain": [
       "(6.82842712474619, 3.1075479480600743)"
      ]
     },
     "execution_count": 17,
     "metadata": {},
     "output_type": "execute_result"
    }
   ],
   "source": [
    "perimeter_area((2, 1), (4, 1), (4, 3))"
   ]
  },
  {
   "cell_type": "markdown",
   "id": "9fcbb79e-0cd9-41cc-aab5-530155b7faf9",
   "metadata": {},
   "source": [
    "### Exercise 7\n",
    "\n",
    "a) Let `L=[2,3,5,7,11,13,17,19,23,29,31,37,41,43,47]`. Use list comprehension to produce a list of the gaps (differences) between consecutive entries in `L`. Then find the maximum gap size and the percentage of gaps that have size $2$."
   ]
  },
  {
   "cell_type": "code",
   "execution_count": 20,
   "id": "6de22a29-0917-42e1-9eac-281aac5f8473",
   "metadata": {},
   "outputs": [
    {
     "name": "stdout",
     "output_type": "stream",
     "text": [
      "6\n",
      "0.42857142857142855\n"
     ]
    }
   ],
   "source": [
    "# Your code here\n",
    "L=[2,3,5,7,11,13,17,19,23,29,31,37,41,43,47]\n",
    "gaps = [L[i] - L[i-1] for i in range(1, len(L))]\n",
    "\n",
    "# Max\n",
    "print(max(gaps))\n",
    "\n",
    "# Percentage\n",
    "print(gaps.count(2) / len(gaps))"
   ]
  },
  {
   "cell_type": "markdown",
   "id": "5c4be925-e334-475f-a478-75b39131fe4d",
   "metadata": {},
   "source": [
    "b) i) Using list comprehensions, write a function `ListComp` that takes a list of strings as input and returns three objects:\n",
    "\n",
    "- a list that consists of the strings with their first characters removed\n",
    "- a list of the lengths of the strings\n",
    "- a list that consists of only those strings that are at least 5 characters long\n"
   ]
  },
  {
   "cell_type": "code",
   "execution_count": 22,
   "id": "14b517b1-1fef-4659-9952-8d66c2560aac",
   "metadata": {},
   "outputs": [],
   "source": [
    "# Your code here\n",
    "def ListComp(_list):\n",
    "    removed_first_chr = [i[1:] for i in _list]\n",
    "    lengths = [len(i) for i in _list]\n",
    "    five_least = [i for i in _list if len(i) >= 5]\n",
    "\n",
    "    return removed_first_chr, lengths, five_least\n"
   ]
  },
  {
   "cell_type": "markdown",
   "id": "8712badb-0d34-4907-8828-7fa1d78b2672",
   "metadata": {},
   "source": [
    "ii) Test your function with the list: `[\"hello\", \"world\", \"python\", \"programming\", \"AI\", \"code\"]`"
   ]
  },
  {
   "cell_type": "code",
   "execution_count": 23,
   "id": "2a7c2ddd-5db1-4fba-945b-92a661a580d1",
   "metadata": {},
   "outputs": [
    {
     "data": {
      "text/plain": [
       "(['ello', 'orld', 'ython', 'rogramming', 'I', 'ode'],\n",
       " [5, 5, 6, 11, 2, 4],\n",
       " ['hello', 'world', 'python', 'programming'])"
      ]
     },
     "execution_count": 23,
     "metadata": {},
     "output_type": "execute_result"
    }
   ],
   "source": [
    "# Your code here\n",
    "ListComp([\"hello\", \"world\", \"python\", \"programming\", \"AI\", \"code\"])"
   ]
  },
  {
   "cell_type": "markdown",
   "id": "e37c36d8-f769-4a73-a642-d2dd1f04fcb0",
   "metadata": {},
   "source": [
    "### Exercise 8\n",
    "\n",
    "a) Write a program that repeatedly asks the user to enter product names and prices. Store all of these in a dictionary whose keys are the product names and whose values are the prices. When the user is done entering products and prices, allow them to repeatedly enter a product name and print the corresponding price or a message if the product is not in the dictionary."
   ]
  },
  {
   "cell_type": "code",
   "execution_count": 16,
   "id": "a577ce2e-6c93-44ab-8113-f95a0b1f6292",
   "metadata": {},
   "outputs": [
    {
     "name": "stdin",
     "output_type": "stream",
     "text": [
      "Register the product and its price (separate them by one space):  orange 60\n",
      "Are you done ? (yes/no):  no\n",
      "Register the product and its price (separate them by one space):  banana 200\n",
      "Are you done ? (yes/no):  yes\n"
     ]
    },
    {
     "name": "stdout",
     "output_type": "stream",
     "text": [
      "{'orange': 60.0, 'banana': 200.0}\n"
     ]
    }
   ],
   "source": [
    "# Your code here\n",
    "products = {}\n",
    "condition = True\n",
    "\n",
    "while condition:\n",
    "    product_price = input(\"Register the product and its price (separate them by one space): \")\n",
    "    product, price = product_price.split(' ')\n",
    "    products[product] = float(price)\n",
    "    all_stored = input(\"Are you done ? (yes/no): \")\n",
    "    if all_stored == 'yes':\n",
    "        condition = False   \n",
    "\n",
    "print(products)"
   ]
  },
  {
   "cell_type": "code",
   "execution_count": 29,
   "id": "3ed937f6-4da0-4710-90d1-76da1eea0bdf",
   "metadata": {},
   "outputs": [
    {
     "name": "stdin",
     "output_type": "stream",
     "text": [
      "Give me the product name, I will give you its price:  banana\n"
     ]
    },
    {
     "name": "stdout",
     "output_type": "stream",
     "text": [
      "8.0\n"
     ]
    },
    {
     "name": "stdin",
     "output_type": "stream",
     "text": [
      "Are you done ? (yes/no):  yes\n"
     ]
    }
   ],
   "source": [
    "condition = True\n",
    "while condition:\n",
    "    product = input(\"Give me the product name, I will give you its price: \")\n",
    "    try:\n",
    "        print(products[product])\n",
    "    except KeyError:\n",
    "        print(f\"Oups, this product {product} is not in our store\")\n",
    "    last_request = input(\"Are you done ? (yes/no): \")\n",
    "    if last_request == 'yes':\n",
    "        condition = False    "
   ]
  },
  {
   "cell_type": "markdown",
   "id": "0c290f12-f56b-4377-ad30-1bc7cd0d6667",
   "metadata": {},
   "source": [
    "b) Using the dictionary created above, allow the user to enter an amount and print out a list of the products whose price is less than that amount."
   ]
  },
  {
   "cell_type": "code",
   "execution_count": 32,
   "id": "656979c5-eb60-4fb8-abbe-e4c3dcc4ddd7",
   "metadata": {},
   "outputs": [
    {
     "name": "stdin",
     "output_type": "stream",
     "text": [
      "Give me a price and I'll print out a list of the products whose price is less than that amount:  10\n"
     ]
    },
    {
     "name": "stdout",
     "output_type": "stream",
     "text": [
      "['banana']\n"
     ]
    }
   ],
   "source": [
    "# Your code here\n",
    "condition = True\n",
    "filter_products = []\n",
    "\n",
    "while condition:\n",
    "    price = input(\"Give me a price and I'll print out a list of the products whose price is less than that amount: \")\n",
    "    try:\n",
    "        filter_products = [i for i, v in products.items() if v < float(price)]\n",
    "    except Exception as e:\n",
    "        print(f\"Oooh, error: {e}\")\n",
    "        continue\n",
    "    print(filter_products)\n",
    "    condition = False"
   ]
  },
  {
   "cell_type": "markdown",
   "id": "cf33be4c-5b93-489c-9731-aafad88900d9",
   "metadata": {},
   "source": [
    "c) Using the dictionary created above, evaluate the most expensive product."
   ]
  },
  {
   "cell_type": "code",
   "execution_count": 35,
   "id": "f120a069-b5eb-4ac8-8fd5-27ec6abca426",
   "metadata": {},
   "outputs": [
    {
     "data": {
      "text/plain": [
       "'apple'"
      ]
     },
     "execution_count": 35,
     "metadata": {},
     "output_type": "execute_result"
    }
   ],
   "source": [
    "# Your code here\n",
    "sorted(products, key=lambda x: x[1])[-1]"
   ]
  },
  {
   "cell_type": "markdown",
   "id": "9dc09c3e-5a73-4361-894b-0b69ea01f9c5",
   "metadata": {},
   "source": [
    "d) Using the dictionary created above, calculate the average price of all products."
   ]
  },
  {
   "cell_type": "code",
   "execution_count": 36,
   "id": "1b3055d2-05dd-4bde-b53f-504ea9755ccc",
   "metadata": {},
   "outputs": [
    {
     "data": {
      "text/plain": [
       "9.0"
      ]
     },
     "execution_count": 36,
     "metadata": {},
     "output_type": "execute_result"
    }
   ],
   "source": [
    "# Your code here\n",
    "sum(products.values())/len(products)"
   ]
  },
  {
   "cell_type": "markdown",
   "id": "d608f5c3-22a4-4a77-bc29-0c54a3ae210f",
   "metadata": {},
   "source": [
    "e) Using the dictionary created above, update the prices of multiple products at once."
   ]
  },
  {
   "cell_type": "code",
   "execution_count": 37,
   "id": "56dc6214-63b1-4e67-ab84-c248d12f0c93",
   "metadata": {},
   "outputs": [],
   "source": [
    "# Your code here\n",
    "products.update({'apple': 20, 'banana': 15})"
   ]
  },
  {
   "cell_type": "markdown",
   "id": "69987d36-94b2-4a35-8797-3bfbfa98d72e",
   "metadata": {},
   "source": [
    "### Exercise 9\n",
    "\n",
    "Use string methods and attributes to solve the following:"
   ]
  },
  {
   "cell_type": "markdown",
   "id": "d0e93ff1-82e5-4f2b-a39b-4013979c1968",
   "metadata": {},
   "source": [
    "a) Write a function called `word_counter` that reads in the file `example.txt` and estimates the total number of words in the file. Assume words are separated by spaces."
   ]
  },
  {
   "cell_type": "code",
   "execution_count": 39,
   "id": "6a4155a9-4d99-4ded-8103-5395f2195a97",
   "metadata": {},
   "outputs": [],
   "source": [
    "# Your code here\n",
    "def word_counter():\n",
    "    with open('example.txt', 'r') as f:\n",
    "        words_count = 0\n",
    "        for line in f:\n",
    "            words_count += len(words.strip().split())\n",
    "    return words_count"
   ]
  },
  {
   "cell_type": "markdown",
   "id": "cb6d8e35-f0e2-4285-aa1c-977591f8c288",
   "metadata": {},
   "source": [
    "b) Write a function called `UpLow` that reads the content of `example.txt` and then returns a dictionary containing the total number of uppercase letters and the total number of lowercase letters."
   ]
  },
  {
   "cell_type": "code",
   "execution_count": 3,
   "id": "b73e1286-0941-4525-947d-3c6f7ffd71b2",
   "metadata": {},
   "outputs": [],
   "source": [
    "# Your code here\n",
    "def UpLow():\n",
    "    with open('example.txt', 'r') as f:\n",
    "        letters = []\n",
    "        for line in f:\n",
    "            letters.extend(line.strip())\n",
    "    ups = 0\n",
    "    lows = 0\n",
    "    for letter in letters:\n",
    "        if letter.strip():\n",
    "            if letter.isupper():\n",
    "                ups += 1\n",
    "            elif letter.islower():\n",
    "                lows += 1\n",
    "    return {'ups': ups, 'lows': lows}"
   ]
  },
  {
   "cell_type": "markdown",
   "id": "09d10eca-395d-4a37-9347-98be9c9988e7",
   "metadata": {},
   "source": [
    "c) Write a function called `count_word` that reads in `example.txt` and returns how many times the `target_word` (\"the\") appears in the text. Take note that the count must be case-insensitive (e.g., \"The\", \"the\", \"THE\" all count as one) and that it must only count whole word matches, not partial matches (e.g., \"them\" should not count if the target is \"the\")."
   ]
  },
  {
   "cell_type": "code",
   "execution_count": 52,
   "id": "16c56340-547d-455b-b23d-4432141c9967",
   "metadata": {},
   "outputs": [],
   "source": [
    "# Your code here\n",
    "def count_word(_pattern):\n",
    "    with open('example.txt', 'r') as f:\n",
    "        words_count = 0\n",
    "        for line in f:\n",
    "            words_count += words.strip().split().count('the')\n",
    "            \n",
    "    return words_count"
   ]
  },
  {
   "cell_type": "markdown",
   "id": "1aa05af8-19f8-49f5-a3d1-7c90fa708d0e",
   "metadata": {},
   "source": [
    "d) Write a function called `swap_and_clean` that reads the content of the file `example.txt`. The function should process the text by converting all uppercase letters to lowercase and all lowercase letters to uppercase. It should also remove all characters that are not letters, such as numbers and punctuation, while keeping spaces intact. After performing these modifications, the function should write the resulting text to a new file called `output1.txt`."
   ]
  },
  {
   "cell_type": "code",
   "execution_count": 7,
   "id": "c697a0ff-5e8e-4197-b3cf-01fdae99d8eb",
   "metadata": {},
   "outputs": [],
   "source": [
    "# Your code here\n",
    "def swap_and_clean():\n",
    "    with open('example.txt', 'r') as f:\n",
    "        content = f.read()\n",
    "\n",
    "    new_content = ''\n",
    "    for letter in content:\n",
    "        if letter.isupper():\n",
    "            new_content += letter.lower()\n",
    "        if letter.islower():\n",
    "            new_content += letter.upper()\n",
    "    \n",
    "    with open('output1.txt', 'w') as f:\n",
    "        f.write(content)"
   ]
  },
  {
   "cell_type": "markdown",
   "id": "3495f4ec-32c1-4dc4-83f2-e960f6bdd904",
   "metadata": {},
   "source": [
    "e) Write a function called `palindromes` that reads the content of `example.txt`. The function should first split the text into individual words. For each word, it should be cleaned by converting it to lowercase and removing any leading or trailing punctuation. After cleaning, the function should check whether the word is a [**palindrome**](https://en.wikipedia.org/wiki/Palindrome). A palindrome is a word that reads the same forwards and backwards eg \"madam\". If a word is a palindrome, the function should print the original, uncleaned version of that word to the console."
   ]
  },
  {
   "cell_type": "code",
   "execution_count": null,
   "id": "8a906795",
   "metadata": {},
   "outputs": [],
   "source": [
    "import re"
   ]
  },
  {
   "cell_type": "code",
   "execution_count": 8,
   "id": "f6055bd5-9777-4670-bc86-c4fa1bac10fc",
   "metadata": {},
   "outputs": [],
   "source": [
    "# Your code here\n",
    "def palindromes():\n",
    "    with open('example.txt', 'r') as f:\n",
    "        content = f.read()\n",
    "        \n",
    "    words_list = content.split(' ')\n",
    "    words_list_clean = {re.sub('\\W','', i.lower()): i for i in words_list}\n",
    "    for k, v in words_list_clean.items():\n",
    "        if k == k[::-1]:\n",
    "            print(v)"
   ]
  },
  {
   "cell_type": "code",
   "execution_count": 62,
   "id": "54d7d7c2",
   "metadata": {},
   "outputs": [
    {
     "data": {
      "text/plain": [
       "'Qwert'"
      ]
     },
     "execution_count": 62,
     "metadata": {},
     "output_type": "execute_result"
    }
   ],
   "source": [
    "# test\n",
    "import re\n",
    "re.sub('\\W','', \"Qwer t;\")"
   ]
  },
  {
   "cell_type": "code",
   "execution_count": 57,
   "id": "43e81ecb",
   "metadata": {},
   "outputs": [],
   "source": [
    "?re.sub"
   ]
  },
  {
   "cell_type": "markdown",
   "id": "59d86dbf-b8db-48c3-a30e-8171f459d93f",
   "metadata": {},
   "source": [
    "f) Write a function called `extract_and_format_numbers` that reads the file `example.txt` line by line. The function should identify any numbers that appear in the text, such as `100000000`. For each number found, it should format the number by inserting commas in the appropriate places (for example, converting `100000000` to `100,000,000`). Each formatted number should then be written on a separate line in a new file called `output2.txt`."
   ]
  },
  {
   "cell_type": "code",
   "execution_count": 66,
   "id": "b2fd2ea1-ba51-4677-b59f-902fb08df1db",
   "metadata": {},
   "outputs": [],
   "source": [
    "# Your code here\n",
    "def extract_and_format_numbers():\n",
    "    with open('example.txt', 'r') as f:\n",
    "        content = f.read()\n",
    "    words_list = content.split(' ')\n",
    "    words_numbers_list = [i for i in words_list if i.isdigit()]\n",
    "    \n",
    "    num_to_save = []\n",
    "    for num in words_numbers_list:\n",
    "        if len(num) <= 3:\n",
    "            num_to_save.append(num)\n",
    "        else:\n",
    "            new_num = ''\n",
    "            for i, digit in enumerate(num[::-1], start=1):\n",
    "                if new_num and len(new_num) % 3 == 0:\n",
    "                    new_num += ','\n",
    "                else:\n",
    "                    new_num += digit\n",
    "            new_num = new_num[::-1]\n",
    "            num_to_save.append(new_num)\n",
    "\n",
    "    with open('output2.txt', 'a') as f:\n",
    "        for num in num_to_save:\n",
    "            f.write(num)"
   ]
  },
  {
   "cell_type": "code",
   "execution_count": 65,
   "id": "9cf18665",
   "metadata": {},
   "outputs": [
    {
     "data": {
      "text/plain": [
       "True"
      ]
     },
     "execution_count": 65,
     "metadata": {},
     "output_type": "execute_result"
    }
   ],
   "source": [
    "'100'.isdigit()"
   ]
  },
  {
   "cell_type": "markdown",
   "id": "a7b3e2bc",
   "metadata": {},
   "source": [
    "### Exercise 10\n",
    "\n",
    "The [**digital root**](https://en.wikipedia.org/wiki/Digital_root) of a positive number $n$ is obtained as follows: \n",
    "- Add up the digits $n$ to get a new number.\n",
    "- Add up the digits of that to get another new number. Keep doing this until you get a number that has only one digit. That number is the digital root.\n",
    "\n",
    "For example, if $n = 45893$, we add up the digits to get $$4 + 5 + 8 + 9 + 3 = 29.$$ We then add up\n",
    "the digits of $29$ to get $$2 + 9 = 11.$$ We then add up the digits of $11$ to get $$1 + 1 = 2.$$ Since 2 has\n",
    "only one digit, 2 is our digital root.\n",
    "\n",
    "Write the Python code of the function `DigRoot` that returns the digital root of an integer $n$ given as input.\n",
    "\n"
   ]
  },
  {
   "cell_type": "code",
   "execution_count": 20,
   "id": "5bce0733",
   "metadata": {},
   "outputs": [
    {
     "data": {
      "text/plain": [
       "9"
      ]
     },
     "execution_count": 20,
     "metadata": {},
     "output_type": "execute_result"
    }
   ],
   "source": [
    "# Your code here\n",
    "def DigRoot(number):\n",
    "    string_number = str(number)\n",
    "    if len(string_number) == 1:\n",
    "        return number\n",
    "    digit = 0\n",
    "    while len(string_number) > 1:\n",
    "        for i in string_number:\n",
    "            digit += int(i)\n",
    "        string_number = str(digit)\n",
    "        \n",
    "    return digit\n",
    "\n",
    "DigRoot(45)"
   ]
  },
  {
   "cell_type": "markdown",
   "id": "38c8dc59",
   "metadata": {},
   "source": [
    "## Section 2: Mathematical Applications"
   ]
  },
  {
   "cell_type": "markdown",
   "id": "bd7b508f",
   "metadata": {},
   "source": [
    "### Exercise 1\n",
    "Compute the first 30 terms of the sequence defined by $2x_{n+2} - x_{n+1} - 6x_n = 0$ sequence, given any two initial values $x_0$ and $x_1$."
   ]
  },
  {
   "cell_type": "code",
   "execution_count": 22,
   "id": "ab40f242",
   "metadata": {},
   "outputs": [
    {
     "data": {
      "text/plain": [
       "[0,\n",
       " 1,\n",
       " 0.5,\n",
       " 3.25,\n",
       " 3.125,\n",
       " 11.3125,\n",
       " 15.03125,\n",
       " 41.453125,\n",
       " 65.8203125,\n",
       " 157.26953125,\n",
       " 276.095703125,\n",
       " 609.8564453125,\n",
       " 1133.21533203125,\n",
       " 2396.177001953125,\n",
       " 4597.7344970703125,\n",
       " 9487.398254394531,\n",
       " 18536.902618408203,\n",
       " 37730.646072387695,\n",
       " 74476.03089141846,\n",
       " 150429.9536628723,\n",
       " 298643.0695056915,\n",
       " 600611.3957414627,\n",
       " 1196234.906387806,\n",
       " 2399951.640418291,\n",
       " 4788680.539372563,\n",
       " 9594195.190941155,\n",
       " 19163139.213588268,\n",
       " 38364155.1796176,\n",
       " 76671495.2305736,\n",
       " 153428213.15413958]"
      ]
     },
     "execution_count": 22,
     "metadata": {},
     "output_type": "execute_result"
    }
   ],
   "source": [
    "# Your code here\n",
    "def sequence(x0, x1, n=30):\n",
    "    seq = [x0, x1]\n",
    "    for i in range(2, n):\n",
    "        x = (1/2) * (x1 + 6 * x0)\n",
    "        x0, x1 = x1, x\n",
    "        seq.append(x)\n",
    "    return seq\n",
    "\n",
    "sequence(0, 1)"
   ]
  },
  {
   "cell_type": "markdown",
   "id": "4604ea6c-10e6-41c4-9a7b-9d9cf3c4f456",
   "metadata": {},
   "source": [
    "### Exercise 2\n",
    "\n",
    "Let $f$ be a continuous function defined on the closed interval $[a, b]$ such that $f(a)$ and $f(b)$ have opposite signs. By the [**Intermediate Value Theorem**](https://en.wikipedia.org/wiki/Intermediate_value_theorem), there exists a root $x_0 \\in (a, b)$ for which $f(x_0) = 0$.\n",
    "\n",
    "The [**bisection method**](https://fiveable.me/numerical-analysis-i/unit-3/bisection-method-algorithm/study-guide/5LfBknp8yfSe5lse) is an iterative method for approximating the root of such a function. At each step, it divides the interval in half and selects the subinterval where the sign change occurs, repeating this process until the interval width is smaller than a given tolerance ($\\epsilon$).\n",
    "\n",
    "a) Write a function named `bisection(f, a, b, epsilon=1e-2)` that:\n",
    "\n",
    "- Returns a tuple $(\\bar{x}, f(\\bar{x}))$, where $\\bar{x}$ is an approximation of the root such that\n",
    "$$\n",
    "|\\bar{x} - x_0| \\le \\epsilon\n",
    "$$\n",
    "if $f(a)\\cdot f(b) < 0$.  \n",
    "\n",
    "- Prints ``Bisection method failed'' if $f(a)\\cdot f(b) \\ge 0$.\n"
   ]
  },
  {
   "cell_type": "code",
   "execution_count": 27,
   "id": "f7a47901",
   "metadata": {},
   "outputs": [],
   "source": [
    "# Your code here\n",
    "def bisection(f, a, b, epsilon=1e-2):\n",
    "    if f(a) * f(b) >= 0:\n",
    "        print(\"Bisection failed\")\n",
    "        return\n",
    "    condition = True\n",
    "    while condition:\n",
    "        c = (a+b)/2\n",
    "        if f(a) * f(c) < 0:\n",
    "            a, b = a, c\n",
    "        elif f(b) * f(c) < 0:\n",
    "            a, b = b, c\n",
    "        if abs(a - b) <= epsilon:\n",
    "            condition = False\n",
    "\n",
    "    return b, f(b)\n"
   ]
  },
  {
   "cell_type": "markdown",
   "id": "7b292b20",
   "metadata": {},
   "source": [
    "b) Test your function `bisection` for $ f(x) = x^3 -3x - 5$, $a=-10$ and $b=10$"
   ]
  },
  {
   "cell_type": "code",
   "execution_count": 32,
   "id": "65055df7",
   "metadata": {},
   "outputs": [
    {
     "data": {
      "text/plain": [
       "(2.275390625, -0.04555877298116684)"
      ]
     },
     "execution_count": 32,
     "metadata": {},
     "output_type": "execute_result"
    }
   ],
   "source": [
    "# Your code here\n",
    "f = lambda x: x ** 3 - 3 * x - 5\n",
    "\n",
    "bisection(f, -10, 10)"
   ]
  },
  {
   "cell_type": "markdown",
   "id": "e4a009bd",
   "metadata": {},
   "source": [
    "### Exercise 3\n",
    "An irrational decimal fraction, [**Champernowne constant**](https://en.wikipedia.org/wiki/Champernowne_constant), is created by concatenating the positive integers: 0.12345678910<font color='red'>1</font>112131415161718192021...\n",
    "\n",
    "It can be seen that the 12th digit of the fractional part is <font color='red'>1</font>. If $d_n$ represents the nth digit of the fractional part, find the value of the following expression.\n",
    "\n",
    "$$d_1 × d_{10} × d_{100} × d_{1000} × d_{10000} × d_{100000} × d_{1000000}$$"
   ]
  },
  {
   "cell_type": "code",
   "execution_count": 38,
   "id": "6e8209b5",
   "metadata": {},
   "outputs": [
    {
     "data": {
      "text/plain": [
       "210"
      ]
     },
     "execution_count": 38,
     "metadata": {},
     "output_type": "execute_result"
    }
   ],
   "source": [
    "# Your code here\n",
    "n = ''\n",
    "i = 1\n",
    "while len(n) < 1000000:\n",
    "    n += str(i)\n",
    "    i += 1\n",
    "result = int(n[0]) * int(n[9]) * int(n[99]) * int(n[999]) * int(n[9999]) * int(n[99999]) * int(n[999999])\n",
    "result"
   ]
  },
  {
   "cell_type": "markdown",
   "id": "b71b5cf3",
   "metadata": {},
   "source": [
    "## Section 3: Advanced Programming"
   ]
  },
  {
   "cell_type": "markdown",
   "id": "09c75521",
   "metadata": {},
   "source": [
    "### Exercise 1\n",
    "\n",
    "a) Write a Python function named `factorial2` that takes a non-negative integer $n$ as input and returns $n!$ (the factorial of $n$)."
   ]
  },
  {
   "cell_type": "code",
   "execution_count": 34,
   "id": "70ed6655",
   "metadata": {},
   "outputs": [],
   "source": [
    "# Your code here\n",
    "def factorial2(n):\n",
    "    if n <= 1:\n",
    "         return 1\n",
    "    else:\n",
    "        return n * factorial2(n-1)"
   ]
  },
  {
   "cell_type": "code",
   "execution_count": 35,
   "id": "5d8ae866-b0c9-410b-be75-3baeb6b258ed",
   "metadata": {},
   "outputs": [
    {
     "data": {
      "text/plain": [
       "6"
      ]
     },
     "execution_count": 35,
     "metadata": {},
     "output_type": "execute_result"
    }
   ],
   "source": [
    "factorial2(3)"
   ]
  },
  {
   "cell_type": "markdown",
   "id": "695589d1-8ae4-494d-b032-d8cd9683cd0a",
   "metadata": {},
   "source": [
    "b) i) Write a Python function named `QuadEqu` that solves a quadratic equation of the form:\n",
    "$$ax^2 + bx + c = 0$$\n",
    "\n",
    "Your function should:\n",
    "- Take three real numbers $a$, $b$, and $c$ as inputs, with $a$ defaulting to 1.\n",
    "- Return the real solutions of the equation (if any) in a suitable format."
   ]
  },
  {
   "cell_type": "code",
   "execution_count": 46,
   "id": "849e4304-863d-49f7-a516-6437b150e7ea",
   "metadata": {},
   "outputs": [],
   "source": [
    "# Your code here\n",
    "import math\n",
    "\n",
    "def QuadEqu(a, b, c):\n",
    "    dis = b ** 2 - 4 * a * c\n",
    "    if dis > 0:\n",
    "        x1 = (-b + math.sqrt(dis))/(2*a)\n",
    "        x2 = (-b - math.sqrt(dis))/(2*a)\n",
    "        return x1, x2\n",
    "    elif dis == 0:\n",
    "        x0 = -b /(2*a)\n",
    "        return x0\n",
    "    else:\n",
    "        print(\"Oups, no solution !\")"
   ]
  },
  {
   "cell_type": "markdown",
   "id": "f41a3fa9-a38f-4696-9bb1-9be33ee34bab",
   "metadata": {},
   "source": [
    "ii) Test the function `QuadEqu` for:\n",
    "  - $a=1, b=2, c=1$\n",
    "  - $a=2, b=2, c=40$\n",
    "  - $a=2, b=3, c=-5$"
   ]
  },
  {
   "cell_type": "code",
   "execution_count": 48,
   "id": "a755c928-76eb-4494-bd5b-39ccd3fc8678",
   "metadata": {},
   "outputs": [
    {
     "data": {
      "text/plain": [
       "(1.0, -2.5)"
      ]
     },
     "execution_count": 48,
     "metadata": {},
     "output_type": "execute_result"
    }
   ],
   "source": [
    "# Your code here\n",
    "QuadEqu(2, 3, -5)"
   ]
  },
  {
   "cell_type": "markdown",
   "id": "6288bbf2-5dcf-4eb8-b429-64bf329576bf",
   "metadata": {},
   "source": [
    "c) Write a Python program named `fact2nddeg` that repeatedly offers the user a menu with three options:\n",
    "- Compute a factorial using factorial2\n",
    "- Solve a quadratic equation using QuadEqu\n",
    "- Exit the program\n",
    "\n",
    "The program should:\n",
    "- Ask the user to select an option.\n",
    "- Request the necessary input values for the chosen option.\n",
    "- Call the corresponding function and display the result.\n",
    "- Repeat the process until the user chooses to exit."
   ]
  },
  {
   "cell_type": "code",
   "execution_count": null,
   "id": "882a1bae",
   "metadata": {},
   "outputs": [],
   "source": [
    "# Your code here\n",
    "def fact2nddeg():\n",
    "    user_choice = input(\"\"\"What do you want to do (select a number):\n",
    "        1. Compute a factorial using factorial2\n",
    "        2. Solve a quadratic equation using QuadEqu\n",
    "        3. Exit the program\n",
    "    \"\"\")\n",
    "    if user_choice == 1:\n",
    "        n = input(\"Give me a number then: \")\n",
    "        n = int()\n",
    "        fact2nddeg()\n",
    "    while user_choice == 1\n",
    "        if user_choice == 1:\n",
    "        n = input(\"Give me a number then: \")\n",
    "        n = int(n)\n",
    "        fact2nddeg(n)"
   ]
  },
  {
   "cell_type": "markdown",
   "id": "98af1679",
   "metadata": {},
   "source": [
    "### Exercise 2\n",
    "This exercise builds the essential mathematical tools used in public-key cryptography, like [**Rivest–Shamir–Adleman (RSA)**](https://en.wikipedia.org/wiki/RSA_cryptosystem). Security relies on the unique properties of prime numbers and the extreme difficulty of factoring very large numbers.\n",
    "\n",
    "The Core Principle: Prime Factoring is Hard\n",
    "   - **Easy**: Multiplying two large prime numbers ($p$ and $q$) to get a huge composite number ($N=p \\cdot q$) is very fast for computers.\n",
    "   - **Hard**: Given only the product $N$, finding the original two prime factors, $p$ and $q$, takes an enormous amount of time. The time required grows exponentially with the size of $N$. This difficulty is what guarantees security.\n",
    "\n",
    "a) Write a function called `number_of_factors` that takes a positive integer $n$ and returns how many factors the number has together with a list of its factors."
   ]
  },
  {
   "cell_type": "code",
   "execution_count": 5,
   "id": "bc869862",
   "metadata": {},
   "outputs": [],
   "source": [
    "# Your code here\n",
    "def number_of_factors(n):\n",
    "    prime_factors = [i for i in range(1, n + 1) if n % i == 0]\n",
    "    return prime_factors"
   ]
  },
  {
   "cell_type": "code",
   "execution_count": 6,
   "id": "89bdf44d",
   "metadata": {},
   "outputs": [
    {
     "data": {
      "text/plain": [
       "[1, 2, 3, 4, 6, 12]"
      ]
     },
     "execution_count": 6,
     "metadata": {},
     "output_type": "execute_result"
    }
   ],
   "source": [
    "number_of_factors(12)"
   ]
  },
  {
   "cell_type": "markdown",
   "id": "fa1fbcc4",
   "metadata": {},
   "source": [
    "b) Write a Python function called `is_prime` that takes a positive integer, $n$, as input and returns the boolean True if $n$ is a prime number and False, otherwise.\n",
    "\n",
    "Note : A prime number (or a prime) is a natural number greater than 1 and that has no positive divisors other than 1 and itself."
   ]
  },
  {
   "cell_type": "code",
   "execution_count": 7,
   "id": "1a8c5643",
   "metadata": {},
   "outputs": [],
   "source": [
    "# Your code here\n",
    "def is_prime(n):\n",
    "    if n < 2:\n",
    "        return False\n",
    "    elif n == 2:\n",
    "        return True\n",
    "    else:\n",
    "        for i in range(2, n):\n",
    "            if n % i == 0:\n",
    "                return False\n",
    "        return True"
   ]
  },
  {
   "cell_type": "markdown",
   "id": "7faeebfc",
   "metadata": {},
   "source": [
    "c) Cryptographic systems need a large pool of primes. Write a function called `primes(k)` that returns a list of the first k prime numbers. (Set the default value of $k$ to 100)."
   ]
  },
  {
   "cell_type": "code",
   "execution_count": 20,
   "id": "4581b7e3",
   "metadata": {},
   "outputs": [],
   "source": [
    "# Your code here\n",
    "def primes(k):\n",
    "    k_list = []\n",
    "    n = 0\n",
    "    while len(k_list) < k:\n",
    "        if is_prime(n):\n",
    "            k_list.append(n)\n",
    "        n += 1\n",
    "    return k_list"
   ]
  },
  {
   "cell_type": "code",
   "execution_count": 21,
   "id": "7a297114",
   "metadata": {},
   "outputs": [
    {
     "data": {
      "text/plain": [
       "[2, 3, 5, 7, 11]"
      ]
     },
     "execution_count": 21,
     "metadata": {},
     "output_type": "execute_result"
    }
   ],
   "source": [
    "primes(5)"
   ]
  },
  {
   "cell_type": "markdown",
   "id": "97aaa822",
   "metadata": {},
   "source": [
    "d) Modify the `primes` function to accept an optional argument called start (default value is 2). The function should now return the first $k$ prime numbers that are greater than or equal to start. This simulates searching for primes in a specific high-security range."
   ]
  },
  {
   "cell_type": "code",
   "execution_count": 22,
   "id": "ea01e512",
   "metadata": {},
   "outputs": [],
   "source": [
    "# Your code here\n",
    "def primes(k, start=2):\n",
    "    k_list = []\n",
    "    n = start\n",
    "    while len(k_list) < k:\n",
    "        if is_prime(n):\n",
    "            k_list.append(n)\n",
    "        n += 1\n",
    "    return k_list"
   ]
  },
  {
   "cell_type": "code",
   "execution_count": 23,
   "id": "4a93b15e",
   "metadata": {},
   "outputs": [
    {
     "data": {
      "text/plain": [
       "[7, 11, 13, 17, 19, 23, 29, 31, 37, 41]"
      ]
     },
     "execution_count": 23,
     "metadata": {},
     "output_type": "execute_result"
    }
   ],
   "source": [
    "primes(10, 6)"
   ]
  },
  {
   "cell_type": "markdown",
   "id": "2277d219",
   "metadata": {},
   "source": [
    "e) The [**Fundamental theorem of arithmetic**](https://en.wikipedia.org/wiki/Fundamental_theorem_of_arithmetic) states that every integer $n$ is a prime number or can be uniquely written as a product of prime powers (e.g., $12=2^2 \\cdot 3^1$. We are interested in finding the exponent of a specific prime in such a factorization. Write a function `V(n, p)` that takes a positive integer $n$ and a prime $p$, and returns the largest integer $r$ such that $p^r$ divides $n$. This value, $r$, is known as the [**p-adic valuation**](https://en.wikipedia.org/wiki/P-adic_valuation)."
   ]
  },
  {
   "cell_type": "code",
   "execution_count": 26,
   "id": "b99888bb",
   "metadata": {},
   "outputs": [
    {
     "data": {
      "text/plain": [
       "0"
      ]
     },
     "execution_count": 26,
     "metadata": {},
     "output_type": "execute_result"
    }
   ],
   "source": [
    "# Your code here\n",
    "def V(n, p):\n",
    "    r = 0\n",
    "    while n % (p ** r) == 0:\n",
    "        r += 1\n",
    "    return r - 1\n",
    "\n",
    "V(12, 11)"
   ]
  },
  {
   "cell_type": "markdown",
   "id": "0b5b6a45",
   "metadata": {},
   "source": [
    "f) We would like now to compare the prime-factor structure of two numbers, $n$ and $m$, that is, we would like to measure how different two numbers are in terms of the powers of the primes in their factorizations. Write a function `D(n, m)` that takes two positive integers, $n$ and $m$, and returns a total score $S_1$ calculated as follows:\n",
    "\n",
    " $$ S_1 = \\sum_{p\\; prime} \\Bigl| \\nu_p(n) - \\nu_p(m)\\Bigr| $$\n",
    "\n",
    "Note that `D(14,24)=4`.\n",
    "\n"
   ]
  },
  {
   "cell_type": "code",
   "execution_count": 36,
   "id": "d36c528f",
   "metadata": {},
   "outputs": [],
   "source": [
    "# Your code here\n",
    "def D(n, m):\n",
    "    g = max(n, m)\n",
    "    s = 0\n",
    "    for i in range(g+1):\n",
    "        if is_prime(i):\n",
    "            s += abs(V(n, i) - V(m, i))\n",
    "    return s"
   ]
  },
  {
   "cell_type": "code",
   "execution_count": 37,
   "id": "c400fa96",
   "metadata": {},
   "outputs": [
    {
     "data": {
      "text/plain": [
       "4"
      ]
     },
     "execution_count": 37,
     "metadata": {},
     "output_type": "execute_result"
    }
   ],
   "source": [
    "D(14, 24)"
   ]
  },
  {
   "cell_type": "markdown",
   "id": "d3341aa5",
   "metadata": {},
   "source": [
    "g) The final problem requires you to analyze the average behavior of the `D(n,m)` function by computing a large, iterated sum.  Hence, write a function `P` that takes a positive integer `N` and returns the sum $S_2$ given by:\n",
    "\n",
    "$$S_2  = \\sum_{n=1}^{N}\\sum_{m=1}^{N}D(n,m).$$\n",
    "\n",
    "Note that $P(10)=210$ and $P(10^2) = 37018$.\n"
   ]
  },
  {
   "cell_type": "code",
   "execution_count": 38,
   "id": "220bba4a",
   "metadata": {},
   "outputs": [],
   "source": [
    "# Your code here\n",
    "def P(N):\n",
    "    s = 0\n",
    "    for i in range(1, N+1):\n",
    "        for j in range(1, N+1):\n",
    "            s += D(i, j)\n",
    "    return s"
   ]
  },
  {
   "cell_type": "code",
   "execution_count": 39,
   "id": "01492fc2",
   "metadata": {},
   "outputs": [
    {
     "data": {
      "text/plain": [
       "210"
      ]
     },
     "execution_count": 39,
     "metadata": {},
     "output_type": "execute_result"
    }
   ],
   "source": [
    "P(10)"
   ]
  },
  {
   "cell_type": "markdown",
   "id": "2336829c-4e61-49ad-955c-364ae234a725",
   "metadata": {},
   "source": [
    "### Exercise 3\n",
    "\n",
    "Imagine a population of bacteria that grows at a rate proportional to its current size, but with limited food supply. Suppose its growth is modeled by\n",
    "\n",
    "$$\\dfrac{dy}{dt}=0.5y$$\n",
    "\n",
    "with initial population $y(0)=2$.\n",
    "\n",
    "a) Explain in words what this equation means about how the population changes over time."
   ]
  },
  {
   "cell_type": "markdown",
   "id": "fc7a47fb-0509-4a8b-b8c2-11ee3394cb6c",
   "metadata": {},
   "source": [
    "**Your explanation here**\n",
    "\n",
    "It means that the population of bacteria grows exponentially over time. Moreover, per time unit, the popuplation increases by half its size."
   ]
  },
  {
   "cell_type": "markdown",
   "id": "6e7ac82b-5593-4daa-9320-926192c42102",
   "metadata": {},
   "source": [
    "b) [**Euler’s method**](https://en.wikipedia.org/wiki/Euler_method) is a numerical technique to approximate solutions of ordinary differential equations (ODEs) when an exact solution is hard (or impossible) to find.\n",
    "\n",
    "Suppose we have an ODE:\n",
    "$$\\dfrac{dy}{dt} = f(t, y), \\quad y(t_0)=y_0$$\n",
    "\n",
    "The idea is:\n",
    "\n",
    "- Start from an initial point $(t_0, y_0)$\n",
    "- Move forward in small steps of size $h$\n",
    "- At each step, estimate the new value of $y$ using the slope $f(t,y)$ at the current point\n",
    "\n",
    "The update formula is thus given by:\n",
    "$$y_{n+1} = y_n + h \\cdot f(t_n,y_n)$$\n",
    "$$t_{n+1} = t_n + h$$\n",
    "\n",
    "The pseudocode is given as follows:"
   ]
  },
  {
   "cell_type": "raw",
   "id": "cd6dd625-099b-4958-b019-76d584c39873",
   "metadata": {},
   "source": [
    "euler(f, t0, y0, h, n):\n",
    "    input: \n",
    "        f  = function representing dy/dt = f(t, y)\n",
    "        t0 = initial time\n",
    "        y0 = initial value\n",
    "        h  = step size\n",
    "        n  = number of steps\n",
    "    output: approximate solution y_n after n steps\n",
    "    \n",
    "    set t = t0\n",
    "    set y = y0\n",
    "    \n",
    "    for i from 1 to n:\n",
    "        y = y + h * f(t, y)\n",
    "        t = t + h\n",
    "    \n",
    "    return y\n"
   ]
  },
  {
   "cell_type": "markdown",
   "id": "4a8b4070-f302-4515-87ac-2e9186a35596",
   "metadata": {},
   "source": [
    "c) i) Write $f(t, y) = 0.5y$ as a lambda function."
   ]
  },
  {
   "cell_type": "code",
   "execution_count": 40,
   "id": "e7945c33-fc9e-4bf5-a430-7b5b57d898f7",
   "metadata": {},
   "outputs": [],
   "source": [
    "f = lambda y: 0.5 * y "
   ]
  },
  {
   "cell_type": "markdown",
   "id": "63cbe25c-85a0-486a-8dbc-f69658cc7003",
   "metadata": {},
   "source": [
    "ii) Now, use Euler’s method with a step size $h=0.1$ to approximate the population at $t=0.3$. Strictly use lists."
   ]
  },
  {
   "cell_type": "code",
   "execution_count": 47,
   "id": "681af205-4795-4986-bdf9-b71fd19a9ddc",
   "metadata": {},
   "outputs": [],
   "source": [
    "f_1 = 2 + 0.1 * f(2)\n",
    "f_2 = f_1 + 0.1 * f(3)\n",
    "f_3 = f_2 + 0.1 * f(4)\n",
    "f_3\n"
   ]
  },
  {
   "cell_type": "markdown",
   "id": "3011b990-9ec4-4045-977e-806cf2a01489",
   "metadata": {},
   "source": [
    "d) Compare your result at $t=0.3$ with the exact solution $y(t) = 2\\exp^{0.5t}$, that is, compute the absolute error."
   ]
  },
  {
   "cell_type": "code",
   "execution_count": 49,
   "id": "752d3ba9-b5ca-44b0-bee3-fa9fab03a03c",
   "metadata": {},
   "outputs": [
    {
     "data": {
      "text/plain": [
       "0.22366848545656604"
      ]
     },
     "execution_count": 49,
     "metadata": {},
     "output_type": "execute_result"
    }
   ],
   "source": [
    "abs(f_3 - 2 * math.exp(0.5 * 0.3))"
   ]
  },
  {
   "cell_type": "markdown",
   "id": "23e54ea3-994e-4351-ba36-a6fdfbc07e43",
   "metadata": {},
   "source": [
    "e) Compare your answers for $y(0.3)$ with $h=0.1$ and $h=0.05$. Which one is closer to the exact solution $y(0.3) = 2\\exp^{0.15}$ ? Reflect on this."
   ]
  },
  {
   "cell_type": "code",
   "execution_count": 51,
   "id": "c6eb7840-6a86-42f4-bb0d-181038445e4b",
   "metadata": {},
   "outputs": [
    {
     "data": {
      "text/plain": [
       "2.225"
      ]
     },
     "execution_count": 51,
     "metadata": {},
     "output_type": "execute_result"
    }
   ],
   "source": [
    "f_1 = 2 + 0.05 * f(2)\n",
    "f_2 = f_1 + 0.05 * f(3)\n",
    "f_3 = f_2 + 0.05 * f(4)\n",
    "f_3"
   ]
  },
  {
   "cell_type": "markdown",
   "id": "fbd0292f-9bb4-48b9-8714-264d7a4e30c1",
   "metadata": {},
   "source": [
    "### Exercise 4\n",
    "\n",
    "Determine how many Sundays fell on the first day of a month during the twentieth century, that is, from 1 January 1901 to 31 December 2000.\n",
    "\n",
    "The following information might be useful (though you may also verify or research independently):\n",
    "\n",
    "- 1 January 1900 was a Monday.\n",
    "- The number of days in each month is as follows:\n",
    "    - September, April, June, and November each have 30 days.\n",
    "    - All other months have 31 days, except February, which has 28 days in a common year and 29 days in a leap year.\n",
    "- Leap year rules:\n",
    "    - A year is a leap year if it is divisible by 4.\n",
    "    - However, if the year is a century (i.e., divisible by 100), it is only a leap year if it is also divisible by 400."
   ]
  },
  {
   "cell_type": "code",
   "execution_count": null,
   "id": "15009fdd-575a-4ed7-bee2-72ea31ca554e",
   "metadata": {},
   "outputs": [],
   "source": [
    "# Your code here\n"
   ]
  }
 ],
 "metadata": {
  "kernelspec": {
   "display_name": "Python 3 (ipykernel)",
   "language": "python",
   "name": "python3"
  },
  "language_info": {
   "codemirror_mode": {
    "name": "ipython",
    "version": 3
   },
   "file_extension": ".py",
   "mimetype": "text/x-python",
   "name": "python",
   "nbconvert_exporter": "python",
   "pygments_lexer": "ipython3",
   "version": "3.10.12"
  }
 },
 "nbformat": 4,
 "nbformat_minor": 5
}
