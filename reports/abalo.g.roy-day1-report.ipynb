{
 "cells": [
  {
   "cell_type": "markdown",
   "metadata": {},
   "source": [
    "****\n",
    "\n",
    "# <center> <b> <span style=\"color:orange;\"> Python Proficiency for Scientific Computing and Data Science (PyPro-SCiDaS)  </span> </b></center>\n",
    "\n",
    "### <center> <b> <span style=\"color:green;\">An Initiation to Programming using Python (Init2Py) </span> </b></center>\n",
    "    \n"
   ]
  },
  {
   "cell_type": "markdown",
   "metadata": {},
   "source": [
    "****\n",
    "\n",
    "# <center> <b> <span style=\"color:blue;\">Lecture 2: Strings & Files</span> </b></center>\n",
    "\n",
    "\n",
    "****"
   ]
  },
  {
   "cell_type": "markdown",
   "metadata": {},
   "source": [
    "### <left> <b> <span style=\"color:brown;\">Instructeur : </span> </b></left>[Yaé Ulrich Gaba](https://github.com/gabayae)\n",
    "\n",
    "> **Summary:** This lecture aims to present `strings`, reviewing some of the most commonly encountered operations, particularly in text processing tasks. We will also examine the string class in greater detail, including how to use the `open()` function to open, read, and write to `files`.\n",
    "\n",
    "****\n",
    "\n",
    "\n"
   ]
  },
  {
   "cell_type": "markdown",
   "metadata": {},
   "source": [
    "## 0. Introduction\n",
    "\n",
    "\n",
    "\n",
    "Strings in Python are not merely standalone objects; rather, they are sequences of characters that represent text data. Similar to numerical data types, which consist of sequences of digits, strings consist of sequences of characters. These sequences are fundamental in Python programming, as they are often used to construct and manipulate more complex data structures like lists, tuples, and dictionaries.\n",
    "\n",
    "Python treats strings as immutable sequences, meaning that once a string is created, its contents cannot be changed. However, various operations can be performed on strings to generate new strings or extract specific information. These operations include concatenation, slicing, formatting, and various methods for searching and transforming the text. Understanding how to effectively manipulate strings is crucial, as strings are one of the most commonly used data types in Python, especially in tasks involving data processing, file handling, and user input.\n",
    "\n",
    "Moreover, strings serve as the foundation for more advanced objects and data structures. For instance, strings can be used to represent elements within lists or tuples, and they play a critical role in tasks ranging from basic text processing to complex data analysis. As we delve deeper into Python, we will explore the extensive functionality provided by string operations and how they integrate with other Python data types.\n",
    "\n",
    "In addition to handling strings, Python provides robust support for working with files, which is essential for tasks like reading input data, storing output, or simply managing data over the course of a program's execution. Python uses the `open()` function to handle files, allowing you to open, read, write, and close them efficiently. \n",
    "\n",
    "The `open()` function is versatile, enabling you to open a file in various modes, such as reading ('r'), writing ('w'), appending ('a'), or even reading and writing in binary mode ('rb', 'wb'). Once a file is opened, you can perform operations like reading the entire file content into a string, reading it line by line, or writing data back into the file. After completing these operations, it is important to close the file using the `close()` method to free up system resources and ensure data integrity.\n",
    "\n",
    "Understanding how to work with files in Python is critical, especially when dealing with real-world data that often needs to be read from or written to external files. This capability, combined with string manipulation techniques, forms the backbone of many Python programs, enabling efficient data processing, storage, and retrieval.\n"
   ]
  },
  {
   "cell_type": "markdown",
   "metadata": {},
   "source": [
    "## 1. Strings\n",
    "\n",
    "### 1.0. Definition of a string variable\n",
    "\n",
    "A string variable is defined in the traditional manner by direct assignment using the equality symbol (as discussed in the section on variable creation). The only distinction between string variables and numerical variables is that the values of string variables must be enclosed in quotation marks during assignment. The three examples below illustrate this."
   ]
  },
  {
   "cell_type": "code",
   "execution_count": 1,
   "metadata": {},
   "outputs": [
    {
     "name": "stdout",
     "output_type": "stream",
     "text": [
      "Will you be at the meeting tonight?\n",
      "================================================\n",
      "\t\n",
      "\"Yes,\" he replies.\n",
      "================================================\n",
      "\t\n",
      "Alright, I would appreciate it.\n",
      "================================================\n",
      "\t\n",
      "This sentence is a long string containing all types of quotes: \" ' « » as well as many special characters.\n"
     ]
    }
   ],
   "source": [
    "ch1 = 'Will you be at the meeting tonight?'\n",
    "ch2 = '\"Yes,\" he replies.'\n",
    "ch3 = \"Alright, I would appreciate it.\"\n",
    "ch4 = \"\"\"This sentence is a long string containing all types of quotes: \" ' « » as well as many special characters.\"\"\"\n",
    "\n",
    "print(ch1)\n",
    "print(\"================================================\")\n",
    "print('\\t')\n",
    "\n",
    "print(ch2)\n",
    "print(\"================================================\")\n",
    "print('\\t')\n",
    "\n",
    "print(ch3)\n",
    "print(\"================================================\")\n",
    "print('\\t')\n",
    "\n",
    "print(ch4)\n"
   ]
  },
  {
   "cell_type": "markdown",
   "metadata": {},
   "source": [
    "These four examples demonstrate different uses of quotation marks when defining a string variable.\n",
    "\n",
    "- In the first example (`ch1`), single quotes are used because there is no issue with the string specified. Double quotes could also be used.\n",
    "- In the second example (`ch2`), single quotes are used because the specified string already contains double quotes as values.\n",
    "- In the third example (`ch3`), double quotes are used because the text contains apostrophes, which are actually single quotes.\n",
    "- In the fourth example (`ch4`), triple quotes are used because the text contains not only single quotes, apostrophes, and double quotes but also spans multiple lines. In this case, triple quotes are necessary."
   ]
  },
  {
   "cell_type": "markdown",
   "metadata": {},
   "source": [
    "### 1.1. Indexing strings and slicing\n",
    "\n",
    "A string is a sequence of ordered and indexed values. This means you can access each element in the sequence by specifying its index, similar to lists. Portions of a string can also be extracted using slices, with the general notation `[start=0]:[stop=len][:step=1]`. Indexing in Python starts at 0: the 1st element of a list is at index 0, the 2nd is at index 1, and so on. Thus, the n elements of a list are indexed from *0* to *n-1*. The examples below illustrate this.\n",
    "\n",
    "\n",
    "**Indexing:**\n",
    "\n",
    "To access a specific character in a string, you use the index inside square brackets. For example:\n",
    "- `ch[0]` returns the first character of the string `ch`.\n",
    "- `ch[2]` returns the third character.\n",
    "- `ch[-1]` returns the last character of the string.\n",
    "\n",
    "**Slicing:**\n",
    "\n",
    "Slicing allows you to extract a portion of the string. The syntax for slicing is `[start:stop:step]`, where:\n",
    "- `start` is the index of the first character you want to include in the slice.\n",
    "- `stop` is the index of the character just after the last character you want to include.\n",
    "- `step` specifies the interval between characters in the slice (optional; default is 1).\n",
    "\n",
    "Examples of slicing:\n",
    "- `ch[:6]` returns a substring from the beginning of `ch` up to, but not including, index 6.\n",
    "- `ch[6:]` returns a substring from index 6 to the end of the string.\n",
    "- `ch[0:10:2]` returns every second character from index 0 to 10.\n",
    "\n",
    "**Examples:**\n",
    "\n",
    "```python\n",
    "ch = \"Christelle\"\n",
    "print(ch[0])    # Returns 'C'\n",
    "print(ch[2])    # Returns 'r'\n",
    "print(ch[-1])   # Returns 'e', the last character\n",
    "print(ch[:6])   # Returns 'Christ'\n",
    "print(ch[6:])   # Returns 'elle'\n",
    "print(ch[0:10:2]) # Returns 'Crsel'\n",
    "```\n",
    "\n",
    "These operations make it easy to manipulate and extract data from strings, which is crucial for text processing and data manipulation in Python.\n",
    "\n",
    "---"
   ]
  },
  {
   "cell_type": "code",
   "execution_count": 2,
   "metadata": {},
   "outputs": [
    {
     "name": "stdout",
     "output_type": "stream",
     "text": [
      "C\n",
      "r\n",
      "e\n",
      "Christ\n",
      "elle\n",
      "Crsel\n"
     ]
    }
   ],
   "source": [
    "ch=\"Christelle\"\n",
    "print(ch[0]) # returns 'C'\n",
    "print(ch[2]) # returns 'r'\n",
    "print(ch[-1]) # returns 'e', the last element of ch\n",
    "print(ch[:6]) # returns 'Christ'\n",
    "print(ch[6 :]) # returns 'elle'\n",
    "print(ch[0:10:2]) # returns 'Crsel'"
   ]
  },
  {
   "cell_type": "code",
   "execution_count": 3,
   "metadata": {},
   "outputs": [
    {
     "name": "stdout",
     "output_type": "stream",
     "text": [
      "l\n",
      "\n",
      "\n",
      "Christ\n",
      "hitl\n"
     ]
    }
   ],
   "source": [
    "print(ch[-3])\n",
    "print(ch[-1:-4])\n",
    "print(ch[3:6:-1])\n",
    "print(ch[:6])\n",
    "print(ch[1:8:2])"
   ]
  },
  {
   "cell_type": "markdown",
   "metadata": {},
   "source": [
    "The elements of a string are not defined by words separated by spaces but by the characters that make up the string. In fact, even if the string consists of a sentence with multiple words, indexing is done solely based on the individual characters that form the entire string."
   ]
  },
  {
   "cell_type": "markdown",
   "metadata": {},
   "source": [
    "<left> <b> <span style=\"color:brown;\">You can manipulate a string (and generally any sequence) using functions (procedural concept) or methods (object-oriented concept). We will discuss this further below.</span> </b></left>"
   ]
  },
  {
   "cell_type": "markdown",
   "metadata": {},
   "source": [
    "### 1.2.  Length of a string\n",
    "\n",
    "To determine the length of a string, the `len()` function is used."
   ]
  },
  {
   "cell_type": "code",
   "execution_count": 4,
   "metadata": {},
   "outputs": [
    {
     "name": "stdout",
     "output_type": "stream",
     "text": [
      "37\n"
     ]
    }
   ],
   "source": [
    "ch = \"Ceci est une chaîne de plusieurs mots\"\n",
    "print(len(ch))  # returns 37; The string 'ch' consists of 37 characters, including spaces."
   ]
  },
  {
   "cell_type": "markdown",
   "metadata": {},
   "source": [
    "### 1.3. Addition of strings (**Concatenation**)\n",
    "\n",
    "String addition refers to the process of placing strings together, one after the other, to form a single string. This operation is known as **concatenation**. To perform concatenation, the `+` symbol is used between the string variable names. The resulting string is then assigned to a new variable. Examples:\n",
    "\n",
    "```python\n",
    "str1 = \"Hello\"\n",
    "str2 = \"World\"\n",
    "result = str1 + \" \" + str2  # Concatenates 'Hello' and 'World' with a space in between\n",
    "print(result)  # Outputs: Hello World\n",
    "```"
   ]
  },
  {
   "cell_type": "code",
   "execution_count": 5,
   "metadata": {},
   "outputs": [
    {
     "name": "stdout",
     "output_type": "stream",
     "text": [
      "Un petit pas pour l'homme, un grand pas pour l'humanité\n"
     ]
    }
   ],
   "source": [
    "x = \"Un petit pas pour l'homme,\"\n",
    "y = \"un grand pas pour l'humanité\"\n",
    "z = x + \" \" + y  # Concatenates the two strings with a space in between\n",
    "print(z)  # Outputs: 'Un petit pas pour l'homme, un grand pas pour l'humanité'\n"
   ]
  },
  {
   "cell_type": "code",
   "execution_count": 6,
   "metadata": {},
   "outputs": [
    {
     "data": {
      "text/plain": [
       "'Tout est fait mais on va faire mieux'"
      ]
     },
     "execution_count": 6,
     "metadata": {},
     "output_type": "execute_result"
    }
   ],
   "source": [
    "v = \"Tout est fait\"\n",
    "w = \"mais on va faire mieux\"\n",
    "\n",
    "m = v + \" \" + w\n",
    "m"
   ]
  },
  {
   "cell_type": "markdown",
   "metadata": {},
   "source": [
    "Be cautious when using the concatenation operator to combine a numeric value with a string to form a single string. For example:\n",
    "\n",
    "```python\n",
    "x = 'Le prix du stylo est'\n",
    "y = 5\n",
    "z = 'euros'\n",
    "```\n",
    "\n",
    "If you want to concatenate `x`, `y`, and `z` to obtain the sentence 'Le prix du stylo est 5 euros', you can't directly do `x + y + z` because `y` is a numeric type. You need to first convert `y` to a string using the `str()` function. Here's how it should be done:\n",
    "\n",
    "```python\n",
    "result = x + \" \" + str(y) + \" \" + z\n",
    "print(result)  # Outputs: 'Le prix du stylo est 5 euros'\n",
    "```"
   ]
  },
  {
   "cell_type": "code",
   "execution_count": 7,
   "metadata": {},
   "outputs": [
    {
     "name": "stdout",
     "output_type": "stream",
     "text": [
      "Le prix du stylo est  5 euros\n"
     ]
    }
   ],
   "source": [
    "x = 'Le prix du stylo est'\n",
    "y = 5\n",
    "z = 'euros'\n",
    "ch = x + \" \" + \" \" + str(y) + \" \" + z\n",
    "print(ch) # returns 'Le prix du stylo est5euros'"
   ]
  },
  {
   "cell_type": "markdown",
   "metadata": {},
   "source": [
    "### 1.4.  Methods\n",
    "\n",
    "Strings come with [numerous features](https://docs.python.org/2/library/stdtypes.html#string-methods)—referred to as `methods` in Object-Oriented Programming (OOP)—that facilitate their manipulation. The `dir()` function lists all available methods for strings. Among these, the most commonly used are `upper()`, `lower()`, `capitalize()`, `find()`, `replace()`, `count()`, `startswith()`, `endswith()`, and the `in` keyword. \n",
    "\n",
    "These methods allow for operations such as converting text to different cases, searching for and replacing substrings, and checking string content for specific patterns. They are crucial for text processing and data manipulation tasks, enabling efficient handling and transformation of string data. Understanding and utilizing these methods effectively can greatly enhance the capability to work with and analyze text-based information in Python."
   ]
  },
  {
   "cell_type": "code",
   "execution_count": 8,
   "metadata": {},
   "outputs": [
    {
     "name": "stdout",
     "output_type": "stream",
     "text": [
      "Help on built-in function replace:\n",
      "\n",
      "replace(old, new, /, count=-1) method of builtins.str instance\n",
      "    Return a copy with all occurrences of substring old replaced by new.\n",
      "\n",
      "      count\n",
      "        Maximum number of occurrences to replace.\n",
      "        -1 (the default value) means replace all occurrences.\n",
      "\n",
      "    If the optional argument count is given, only the first count occurrences are\n",
      "    replaced.\n",
      "\n"
     ]
    }
   ],
   "source": [
    "title = \"Python course\"\n",
    "help(title.replace)"
   ]
  },
  {
   "cell_type": "code",
   "execution_count": 9,
   "metadata": {},
   "outputs": [
    {
     "name": "stdout",
     "output_type": "stream",
     "text": [
      "Calvin et Hobbes\n",
      "================================================\n",
      "\t\n",
      "Calvin & Hobbes\n",
      "================================================\n",
      "\t\n",
      "Calvin & Hobbes\n",
      "================================================\n",
      "\t\n",
      "True\n",
      "================================================\n",
      "\t\n",
      "10\n",
      "-------Calvin et Hobbes-------\n"
     ]
    },
    {
     "data": {
      "text/plain": [
       "['__add__',\n",
       " '__class__',\n",
       " '__contains__',\n",
       " '__delattr__',\n",
       " '__dir__',\n",
       " '__doc__',\n",
       " '__eq__',\n",
       " '__format__',\n",
       " '__ge__',\n",
       " '__getattribute__',\n",
       " '__getitem__',\n",
       " '__getnewargs__',\n",
       " '__getstate__',\n",
       " '__gt__',\n",
       " '__hash__',\n",
       " '__init__',\n",
       " '__init_subclass__',\n",
       " '__iter__',\n",
       " '__le__',\n",
       " '__len__',\n",
       " '__lt__',\n",
       " '__mod__',\n",
       " '__mul__',\n",
       " '__ne__',\n",
       " '__new__',\n",
       " '__reduce__',\n",
       " '__reduce_ex__',\n",
       " '__repr__',\n",
       " '__rmod__',\n",
       " '__rmul__',\n",
       " '__setattr__',\n",
       " '__sizeof__',\n",
       " '__str__',\n",
       " '__subclasshook__',\n",
       " 'capitalize',\n",
       " 'casefold',\n",
       " 'center',\n",
       " 'count',\n",
       " 'encode',\n",
       " 'endswith',\n",
       " 'expandtabs',\n",
       " 'find',\n",
       " 'format',\n",
       " 'format_map',\n",
       " 'index',\n",
       " 'isalnum',\n",
       " 'isalpha',\n",
       " 'isascii',\n",
       " 'isdecimal',\n",
       " 'isdigit',\n",
       " 'isidentifier',\n",
       " 'islower',\n",
       " 'isnumeric',\n",
       " 'isprintable',\n",
       " 'isspace',\n",
       " 'istitle',\n",
       " 'isupper',\n",
       " 'join',\n",
       " 'ljust',\n",
       " 'lower',\n",
       " 'lstrip',\n",
       " 'maketrans',\n",
       " 'partition',\n",
       " 'removeprefix',\n",
       " 'removesuffix',\n",
       " 'replace',\n",
       " 'rfind',\n",
       " 'rindex',\n",
       " 'rjust',\n",
       " 'rpartition',\n",
       " 'rsplit',\n",
       " 'rstrip',\n",
       " 'split',\n",
       " 'splitlines',\n",
       " 'startswith',\n",
       " 'strip',\n",
       " 'swapcase',\n",
       " 'title',\n",
       " 'translate',\n",
       " 'upper',\n",
       " 'zfill']"
      ]
     },
     "execution_count": 9,
     "metadata": {},
     "output_type": "execute_result"
    }
   ],
   "source": [
    "enfant, peluche = \"Calvin\", 'Hobbes'  # Multiple assignment\n",
    "\n",
    "titre = enfant + ' et ' + peluche  # +: String concatenation\n",
    "print(titre)\n",
    "print(\"================================================\")\n",
    "print('\\t')\n",
    "\n",
    "print(titre.replace('et', '&'))  # Substring replacement: 'Calvin & Hobbes'\n",
    "print(\"================================================\")\n",
    "print('\\t')\n",
    "\n",
    "print(' & '.join(titre.split(' et ')))  # Splitting and joining\n",
    "print(\"================================================\")\n",
    "print('\\t')\n",
    "\n",
    "print('Hobbes' in titre)  # in: Inclusion test\n",
    "print(\"================================================\")\n",
    "print('\\t')\n",
    "\n",
    "print(titre.find(\"Hobbes\"))  # str.find: Substring search\n",
    "\n",
    "print(titre.center(30, '-'))  # '-------Calvin et Hobbes-------'\n",
    "\n",
    "dir(str)  # Lists all string methods\n"
   ]
  },
  {
   "cell_type": "code",
   "execution_count": 11,
   "metadata": {},
   "outputs": [
    {
     "name": "stdout",
     "output_type": "stream",
     "text": [
      "the cat and the dog written by Roy Lee\n",
      "================================================\n",
      "Calvin et Hobbes\n",
      "================================================\n",
      "\t\n",
      "-1\n"
     ]
    },
    {
     "data": {
      "text/plain": [
       "['__add__',\n",
       " '__class__',\n",
       " '__contains__',\n",
       " '__delattr__',\n",
       " '__dir__',\n",
       " '__doc__',\n",
       " '__eq__',\n",
       " '__format__',\n",
       " '__ge__',\n",
       " '__getattribute__',\n",
       " '__getitem__',\n",
       " '__getnewargs__',\n",
       " '__getstate__',\n",
       " '__gt__',\n",
       " '__hash__',\n",
       " '__init__',\n",
       " '__init_subclass__',\n",
       " '__iter__',\n",
       " '__le__',\n",
       " '__len__',\n",
       " '__lt__',\n",
       " '__mod__',\n",
       " '__mul__',\n",
       " '__ne__',\n",
       " '__new__',\n",
       " '__reduce__',\n",
       " '__reduce_ex__',\n",
       " '__repr__',\n",
       " '__rmod__',\n",
       " '__rmul__',\n",
       " '__setattr__',\n",
       " '__sizeof__',\n",
       " '__str__',\n",
       " '__subclasshook__',\n",
       " 'capitalize',\n",
       " 'casefold',\n",
       " 'center',\n",
       " 'count',\n",
       " 'encode',\n",
       " 'endswith',\n",
       " 'expandtabs',\n",
       " 'find',\n",
       " 'format',\n",
       " 'format_map',\n",
       " 'index',\n",
       " 'isalnum',\n",
       " 'isalpha',\n",
       " 'isascii',\n",
       " 'isdecimal',\n",
       " 'isdigit',\n",
       " 'isidentifier',\n",
       " 'islower',\n",
       " 'isnumeric',\n",
       " 'isprintable',\n",
       " 'isspace',\n",
       " 'istitle',\n",
       " 'isupper',\n",
       " 'join',\n",
       " 'ljust',\n",
       " 'lower',\n",
       " 'lstrip',\n",
       " 'maketrans',\n",
       " 'partition',\n",
       " 'removeprefix',\n",
       " 'removesuffix',\n",
       " 'replace',\n",
       " 'rfind',\n",
       " 'rindex',\n",
       " 'rjust',\n",
       " 'rpartition',\n",
       " 'rsplit',\n",
       " 'rstrip',\n",
       " 'split',\n",
       " 'splitlines',\n",
       " 'startswith',\n",
       " 'strip',\n",
       " 'swapcase',\n",
       " 'title',\n",
       " 'translate',\n",
       " 'upper',\n",
       " 'zfill']"
      ]
     },
     "execution_count": 11,
     "metadata": {},
     "output_type": "execute_result"
    }
   ],
   "source": [
    "book, author = \"the cat and the dog\", \"Roy Lee\"\n",
    "\n",
    "info = book + ' written by ' + author\n",
    "print(info)\n",
    "print(\"================================================\")\n",
    "\n",
    "print(titre.replace('and', '&')) \n",
    "print(\"================================================\")\n",
    "print('\\t')\n",
    "\n",
    "\n",
    "print(titre.find(\"the\")) \n",
    "dir(str)"
   ]
  },
  {
   "cell_type": "markdown",
   "metadata": {},
   "source": [
    "###  1.5. Formatting\n",
    "\n",
    "It is often necessary to retrieve the value of a variable and incorporate it into a string to form a new, usable string for other purposes. For instance, consider a variable `prix` defined as follows:\n",
    "\n",
    "```python\n",
    "prix = 2\n",
    "```\n",
    "\n",
    "We want to display a message like `\"The price of the pen is 2 euros\"`.\n",
    "\n",
    "The goal of formatting is to embed the value of a variable within a string. There are three primary methods to achieve this:\n",
    "\n",
    "- Using the concatenation operator `+`\n",
    "- Using the formatting operator `%`\n",
    "- Using the `str.format()` method\n",
    "\n",
    "We will illustrate just one example using the `str.format()` method. The formatting system allows for precise control over the conversion of variables into strings. It primarily relies on the `str.format()` method, which enables detailed specification of how variables should be inserted and formatted within a string. For more information, you can refer to the [formatting documentation](https://docs.python.org/2/library/string.html#formatstrings)."
   ]
  },
  {
   "cell_type": "code",
   "execution_count": 12,
   "metadata": {},
   "outputs": [
    {
     "name": "stdout",
     "output_type": "stream",
     "text": [
      "Calvin a 6 ans\n",
      "================================================\n",
      "\t\n",
      "Calvin a 6 ans\n",
      "================================================\n",
      "\t\n",
      "3.141593 3.14 3141592653.589793 3.14159e+09\n"
     ]
    }
   ],
   "source": [
    "print(\"{nom} a {age} ans\".format(nom='Calvin', age=6)) # 'Calvin a 6 ans'\n",
    "print(\"================================================\")\n",
    "print('\\t')\n",
    "\n",
    "print(\"{} a {} ans\".format('Calvin', 6)) # Shortcut 'Calvin a 6 ans'\n",
    "print(\"================================================\")\n",
    "print('\\t')\n",
    "\n",
    "pi = 3.1415926535897931\n",
    "print(\"{x:f} {x:.2f} {y:f} {y:g}\".format(x=pi, y=pi*1e9)) # '3.141593 3.14 3141592653.589793 3.14159e+09'\n"
   ]
  },
  {
   "cell_type": "code",
   "execution_count": 13,
   "metadata": {},
   "outputs": [
    {
     "name": "stdout",
     "output_type": "stream",
     "text": [
      "Senegal has 14 regions\n",
      "================================================\n",
      "\t\n",
      "Senegal has 14 regions\n",
      "================================================\n",
      "\t\n",
      "3.141593 3.14 3141592653.589793 3.14159e+09\n"
     ]
    }
   ],
   "source": [
    "print(\"{country} has {number} regions\".format(country='Senegal', number=14))\n",
    "print(\"================================================\")\n",
    "print('\\t')\n",
    "\n",
    "print(\"{} has {} regions\".format('Senegal', 14)) # Shortcut 'Calvin a 6 ans'\n",
    "print(\"================================================\")\n",
    "print('\\t')\n",
    "\n",
    "pi = 3.1415926535897931\n",
    "print(\"{x:f} {x:.2f} {y:f} {y:g}\".format(x=pi, y=pi*1e9)) # '3.141593 3.14 3141592653.589793 3.14159e+09'\n"
   ]
  },
  {
   "cell_type": "markdown",
   "metadata": {},
   "source": [
    "\n",
    "\n",
    "**Explanation:**\n",
    "\n",
    "- **Named Fields**: In the first example, `\"{nom} a {age} ans\".format(nom='Calvin', age=6)` uses named fields in the format string. The placeholders `{nom}` and `{age}` are replaced by the values provided in the `format` method. \n",
    "\n",
    "- **Positional Fields**: The second example, `\"{} a {} ans\".format('Calvin', 6)`, uses positional placeholders `{}`. The values are inserted in the order they appear in the `format` method.\n",
    "\n",
    "- **Formatting Numbers**: The third example demonstrates formatting numerical values. `\"{x:f} {x:.2f} {y:f} {y:g}\".format(x=pi, y=pi*1e9)` formats the floating-point number `pi` in various ways: \n",
    "  - `{x:f}` displays `pi` with six decimal places.\n",
    "  - `{x:.2f}` formats `pi` to two decimal places.\n",
    "  - `{y:f}` shows `pi*1e9` with six decimal places.\n",
    "  - `{y:g}` formats `pi*1e9` in a more compact form using scientific notation."
   ]
  },
  {
   "cell_type": "code",
   "execution_count": 15,
   "metadata": {},
   "outputs": [
    {
     "name": "stdout",
     "output_type": "stream",
     "text": [
      "Calvin and Hobbes\n",
      "Scientific progress goes 'boink'\n"
     ]
    }
   ],
   "source": [
    "print(\"Calvin and Hobbes\\nScientific progress goes 'boink'\") # Calvin and Hobbes Scientific progress goes 'boink'"
   ]
  },
  {
   "cell_type": "code",
   "execution_count": 16,
   "metadata": {},
   "outputs": [
    {
     "name": "stdout",
     "output_type": "stream",
     "text": [
      "3 fois 4 font 12\n"
     ]
    }
   ],
   "source": [
    "print(\"{0} fois {1} font {2}\".format(3, 4, 3*4)) # Formatting and display\n",
    "# Output: 3 fois 4 font 12\n",
    "# A small exercise in this section is to display a multiplication table."
   ]
  },
  {
   "cell_type": "markdown",
   "metadata": {},
   "source": [
    "**Explanation:**\n",
    "\n",
    "- **Indexed Fields**: In the example `\"{0} fois {1} font {2}\".format(3, 4, 3*4)`, the `{0}`, `{1}`, and `{2}` are positional placeholders. They are replaced by the values `3`, `4`, and `3*4` (which evaluates to `12`) respectively. This results in the output: `3 fois 4 font 12`.\n",
    "\n",
    "- **Multiplication Table Exercise**: The comment suggests a small exercise where one can display a multiplication table, which would involve iterating through numbers and formatting them into a table structure using similar formatting techniques."
   ]
  },
  {
   "cell_type": "markdown",
   "metadata": {},
   "source": [
    "In concluding this section, we mention the study of regular expressions (regex or `re`), which will not be discussed in this course. As a guide, we can say that regular expressions are extensions of the `str()` function that allow for more complex pattern-matching operations than what the `str()` functions alone can achieve."
   ]
  },
  {
   "cell_type": "markdown",
   "metadata": {},
   "source": [
    "**Practical**\n",
    "\n",
    "Explore the functions:\n",
    "\n",
    " 1. [`upper()`, `lower()`, and `capitalize()`](https://docs.python.org/3/library/stdtypes.html#str.upper)\n",
    " 2. [`find()`](https://docs.python.org/3/library/stdtypes.html#str.find)\n",
    " 3. [`replace()`](https://docs.python.org/3/library/stdtypes.html#str.replace)\n",
    " 4. [`count()`](https://docs.python.org/3/library/stdtypes.html#str.count)\n",
    " 5. [`split()`](https://docs.python.org/3/library/stdtypes.html#str.split)\n",
    " 6. [`startswith()` and `endswith()`](https://docs.python.org/3/library/stdtypes.html#str.startswith)\n",
    " 7. [`islower()` and `isupper()`](https://docs.python.org/3/library/stdtypes.html#str.islower)\n",
    " 8. [`istitle()`](https://docs.python.org/3/library/stdtypes.html#str.istitle)\n",
    " 9. [`isalpha()` and `isalnum()`](https://docs.python.org/3/library/stdtypes.html#str.isalpha)\n",
    " 10. [`isdigit()`](https://docs.python.org/3/library/stdtypes.html#str.isdigit)"
   ]
  },
  {
   "cell_type": "markdown",
   "metadata": {},
   "source": [
    "**Note:** It is important to distinguish between a character value and an alphabetical value. An alphabetical value is always a string, whereas a string is not necessarily an alphabetical value. In Python, a character value is always enclosed in quotes (single, double, or triple), while a numeric value is expressed without quotes. There are two main types of data: numeric data and character data. It is worth noting that a numeric value enclosed in quotes is automatically treated as a character value, even if it is not alphabetical. Keeping these details in mind is crucial when handling sequences of values in Python (see the example below):\n",
    "\n",
    "```python\n",
    "x = 12 # x is a numeric variable\n",
    "y = \"12\" # y is a string formed by digits\n",
    "z = \"mon texte\" # z is a string formed by alphabetical values\n",
    "k = \"Ce stylo coûte 5 euros\" # k is a string formed by alphanumeric values\n",
    "```"
   ]
  },
  {
   "cell_type": "markdown",
   "metadata": {},
   "source": [
    "For more details on string processing, refer to [this page](http://www.tutorialspoint.com/python/python_strings.htm)."
   ]
  },
  {
   "cell_type": "markdown",
   "metadata": {},
   "source": [
    "## 2. File I/O\n",
    "\n",
    "File I/O (Input/Output) in Python involves reading from and writing to files. Python provides several built-in functions and methods to handle files. The primary function for file manipulation is `open()`, which allows you to open a file and returns a file object. This file object provides methods for reading and writing data. Here's a detailed overview with various examples:\n",
    "\n",
    "### Basic File Operations\n",
    "\n",
    "1. **Opening and Closing a File**\n",
    "   - To open a file, use the `open()` function. The basic syntax is `open(filename, mode)`, where `filename` is the name of the file and `mode` is the mode of operation (`'r'` for read, `'w'` for write, `'a'` for append, etc.).\n",
    "   - To close a file, use the `close()` method of the file object.\n",
    "\n",
    "   ```python\n",
    "   # Opening a file in read mode\n",
    "   file = open('example.txt', 'r')\n",
    "   # Perform operations on the file\n",
    "   file.close()\n",
    "   ```\n",
    "\n",
    "2. **Reading from a File**\n",
    "   - **Read the entire file**: `read()` method reads the entire content of the file.\n",
    "   - **Read line by line**: `readline()` method reads a single line from the file, and `readlines()` method reads all lines into a list.\n",
    "\n",
    "   ```python\n",
    "   # Read entire file\n",
    "   file = open('example.txt', 'r')\n",
    "   content = file.read()\n",
    "   print(content)\n",
    "   file.close()\n",
    "\n",
    "   # Read line by line\n",
    "   file = open('example.txt', 'r')\n",
    "   line = file.readline()\n",
    "   while line:\n",
    "       print(line, end='')\n",
    "       line = file.readline()\n",
    "   file.close()\n",
    "\n",
    "   # Read all lines into a list\n",
    "   file = open('example.txt', 'r')\n",
    "   lines = file.readlines()\n",
    "   print(lines)\n",
    "   file.close()\n",
    "   ```\n",
    "\n",
    "3. **Writing to a File**\n",
    "   - **Write a string**: `write()` method writes a string to the file.\n",
    "   - **Write multiple lines**: `writelines()` method writes a list of strings to the file.\n",
    "\n",
    "   ```python\n",
    "   # Write a string to a file\n",
    "   file = open('example.txt', 'w')\n",
    "   file.write('Hello, World!')\n",
    "   file.close()\n",
    "\n",
    "   # Write multiple lines to a file\n",
    "   lines = ['First line\\n', 'Second line\\n', 'Third line\\n']\n",
    "   file = open('example.txt', 'w')\n",
    "   file.writelines(lines)\n",
    "   file.close()\n",
    "   ```\n",
    "\n",
    "4. **Appending to a File**\n",
    "   - To append data to an existing file, open the file in append mode (`'a'`).\n",
    "\n",
    "   ```python\n",
    "   file = open('example.txt', 'a')\n",
    "   file.write('This is an appended line.\\n')\n",
    "   file.close()\n",
    "   ```\n",
    "\n",
    "5. **Using `with` Statement**\n",
    "   - The `with` statement is used for resource management. It ensures that the file is properly closed after its suite finishes, even if an exception is raised.\n",
    "\n",
    "   ```python\n",
    "   # Reading a file using with statement\n",
    "   with open('example.txt', 'r') as file:\n",
    "       content = file.read()\n",
    "       print(content)\n",
    "\n",
    "   # Writing to a file using with statement\n",
    "   with open('example.txt', 'w') as file:\n",
    "       file.write('This is a new content.')\n",
    "   ```\n",
    "\n",
    "6. **File Modes**\n",
    "   - `'r'`: Read (default mode, opens the file for reading)\n",
    "   - `'w'`: Write (creates a new file or truncates an existing file)\n",
    "   - `'a'`: Append (opens the file for appending)\n",
    "   - `'b'`: Binary (reads or writes in binary mode, e.g., `'rb'` or `'wb'`)\n",
    "   - `'t'`: Text (default mode, opens the file in text mode, e.g., `'rt'` or `'wt'`)\n",
    "\n",
    "   ```python\n",
    "   # Binary mode example\n",
    "   with open('example.jpg', 'rb') as file:\n",
    "       content = file.read()\n",
    "       # Process binary data\n",
    "   ```\n",
    "\n",
    "7. **File Positioning**\n",
    "   - `seek(offset, whence)`: Moves the file pointer to a specific position.\n",
    "   - `tell()`: Returns the current file pointer position.\n",
    "\n",
    "   ```python\n",
    "   with open('example.txt', 'r') as file:\n",
    "       file.seek(10)  # Move to the 10th byte\n",
    "       print(file.tell())  # Print the current file pointer position\n",
    "       content = file.read(20)  # Read 20 bytes from the current position\n",
    "       print(content)\n",
    "   ```\n",
    "\n",
    "8. **Working with File Paths**\n",
    "   - Use the `os` and `pathlib` modules to handle file paths.\n",
    "\n",
    "   ```python\n",
    "   import os\n",
    "   from pathlib import Path\n",
    "\n",
    "   # Get current working directory\n",
    "   print(os.getcwd())\n",
    "\n",
    "   # Join paths\n",
    "   file_path = os.path.join('folder', 'example.txt')\n",
    "\n",
    "   # Using pathlib\n",
    "   path = Path('folder') / 'example.txt'\n",
    "   ```\n",
    "\n",
    "9. **Handling File Exceptions**\n",
    "   - Use `try` and `except` blocks to handle file-related exceptions.\n",
    "\n",
    "   ```python\n",
    "   try:\n",
    "       with open('example.txt', 'r') as file:\n",
    "           content = file.read()\n",
    "   except FileNotFoundError:\n",
    "       print('File not found.')\n",
    "   except IOError:\n",
    "       print('An IOError occurred.')\n",
    "   ```\n",
    "\n",
    "These examples cover a wide range of file operations in Python. Whether you are reading from, writing to, or managing files, Python’s file I/O capabilities provide a flexible and powerful way to handle file data."
   ]
  },
  {
   "cell_type": "markdown",
   "metadata": {},
   "source": [
    "The help information for open is below:"
   ]
  },
  {
   "cell_type": "code",
   "execution_count": 17,
   "metadata": {},
   "outputs": [
    {
     "name": "stdout",
     "output_type": "stream",
     "text": [
      "Help on function open in module _io:\n",
      "\n",
      "open(\n",
      "    file,\n",
      "    mode='r',\n",
      "    buffering=-1,\n",
      "    encoding=None,\n",
      "    errors=None,\n",
      "    newline=None,\n",
      "    closefd=True,\n",
      "    opener=None\n",
      ")\n",
      "    Open file and return a stream.  Raise OSError upon failure.\n",
      "\n",
      "    file is either a text or byte string giving the name (and the path\n",
      "    if the file isn't in the current working directory) of the file to\n",
      "    be opened or an integer file descriptor of the file to be\n",
      "    wrapped. (If a file descriptor is given, it is closed when the\n",
      "    returned I/O object is closed, unless closefd is set to False.)\n",
      "\n",
      "    mode is an optional string that specifies the mode in which the file\n",
      "    is opened. It defaults to 'r' which means open for reading in text\n",
      "    mode.  Other common values are 'w' for writing (truncating the file if\n",
      "    it already exists), 'x' for creating and writing to a new file, and\n",
      "    'a' for appending (which on some Unix systems, means that all writes\n",
      "    append to the end of the file regardless of the current seek position).\n",
      "    In text mode, if encoding is not specified the encoding used is platform\n",
      "    dependent: locale.getencoding() is called to get the current locale encoding.\n",
      "    (For reading and writing raw bytes use binary mode and leave encoding\n",
      "    unspecified.) The available modes are:\n",
      "\n",
      "    ========= ===============================================================\n",
      "    Character Meaning\n",
      "    --------- ---------------------------------------------------------------\n",
      "    'r'       open for reading (default)\n",
      "    'w'       open for writing, truncating the file first\n",
      "    'x'       create a new file and open it for writing\n",
      "    'a'       open for writing, appending to the end of the file if it exists\n",
      "    'b'       binary mode\n",
      "    't'       text mode (default)\n",
      "    '+'       open a disk file for updating (reading and writing)\n",
      "    ========= ===============================================================\n",
      "\n",
      "    The default mode is 'rt' (open for reading text). For binary random\n",
      "    access, the mode 'w+b' opens and truncates the file to 0 bytes, while\n",
      "    'r+b' opens the file without truncation. The 'x' mode implies 'w' and\n",
      "    raises an `FileExistsError` if the file already exists.\n",
      "\n",
      "    Python distinguishes between files opened in binary and text modes,\n",
      "    even when the underlying operating system doesn't. Files opened in\n",
      "    binary mode (appending 'b' to the mode argument) return contents as\n",
      "    bytes objects without any decoding. In text mode (the default, or when\n",
      "    't' is appended to the mode argument), the contents of the file are\n",
      "    returned as strings, the bytes having been first decoded using a\n",
      "    platform-dependent encoding or using the specified encoding if given.\n",
      "\n",
      "    buffering is an optional integer used to set the buffering policy.\n",
      "    Pass 0 to switch buffering off (only allowed in binary mode), 1 to select\n",
      "    line buffering (only usable in text mode), and an integer > 1 to indicate\n",
      "    the size of a fixed-size chunk buffer.  When no buffering argument is\n",
      "    given, the default buffering policy works as follows:\n",
      "\n",
      "    * Binary files are buffered in fixed-size chunks; the size of the buffer\n",
      "      is chosen using a heuristic trying to determine the underlying device's\n",
      "      \"block size\" and falling back on `io.DEFAULT_BUFFER_SIZE`.\n",
      "      On many systems, the buffer will typically be 4096 or 8192 bytes long.\n",
      "\n",
      "    * \"Interactive\" text files (files for which isatty() returns True)\n",
      "      use line buffering.  Other text files use the policy described above\n",
      "      for binary files.\n",
      "\n",
      "    encoding is the name of the encoding used to decode or encode the\n",
      "    file. This should only be used in text mode. The default encoding is\n",
      "    platform dependent, but any encoding supported by Python can be\n",
      "    passed.  See the codecs module for the list of supported encodings.\n",
      "\n",
      "    errors is an optional string that specifies how encoding errors are to\n",
      "    be handled---this argument should not be used in binary mode. Pass\n",
      "    'strict' to raise a ValueError exception if there is an encoding error\n",
      "    (the default of None has the same effect), or pass 'ignore' to ignore\n",
      "    errors. (Note that ignoring encoding errors can lead to data loss.)\n",
      "    See the documentation for codecs.register or run 'help(codecs.Codec)'\n",
      "    for a list of the permitted encoding error strings.\n",
      "\n",
      "    newline controls how universal newlines works (it only applies to text\n",
      "    mode). It can be None, '', '\\n', '\\r', and '\\r\\n'.  It works as\n",
      "    follows:\n",
      "\n",
      "    * On input, if newline is None, universal newlines mode is\n",
      "      enabled. Lines in the input can end in '\\n', '\\r', or '\\r\\n', and\n",
      "      these are translated into '\\n' before being returned to the\n",
      "      caller. If it is '', universal newline mode is enabled, but line\n",
      "      endings are returned to the caller untranslated. If it has any of\n",
      "      the other legal values, input lines are only terminated by the given\n",
      "      string, and the line ending is returned to the caller untranslated.\n",
      "\n",
      "    * On output, if newline is None, any '\\n' characters written are\n",
      "      translated to the system default line separator, os.linesep. If\n",
      "      newline is '' or '\\n', no translation takes place. If newline is any\n",
      "      of the other legal values, any '\\n' characters written are translated\n",
      "      to the given string.\n",
      "\n",
      "    If closefd is False, the underlying file descriptor will be kept open\n",
      "    when the file is closed. This does not work when a file name is given\n",
      "    and must be True in that case.\n",
      "\n",
      "    A custom opener can be used by passing a callable as *opener*. The\n",
      "    underlying file descriptor for the file object is then obtained by\n",
      "    calling *opener* with (*file*, *flags*). *opener* must return an open\n",
      "    file descriptor (passing os.open as *opener* results in functionality\n",
      "    similar to passing None).\n",
      "\n",
      "    open() returns a file object whose type depends on the mode, and\n",
      "    through which the standard file operations such as reading and writing\n",
      "    are performed. When open() is used to open a file in a text mode ('w',\n",
      "    'r', 'wt', 'rt', etc.), it returns a TextIOWrapper. When used to open\n",
      "    a file in a binary mode, the returned class varies: in read binary\n",
      "    mode, it returns a BufferedReader; in write binary and append binary\n",
      "    modes, it returns a BufferedWriter, and in read/write mode, it returns\n",
      "    a BufferedRandom.\n",
      "\n",
      "    It is also possible to use a string or bytearray as a file for both\n",
      "    reading and writing. For strings StringIO can be used like a file\n",
      "    opened in a text mode, and for bytes a BytesIO can be used like a file\n",
      "    opened in a binary mode.\n",
      "\n"
     ]
    }
   ],
   "source": [
    "help(open)"
   ]
  },
  {
   "cell_type": "markdown",
   "metadata": {},
   "source": [
    "On your machine, in the folder `notebooks_lecture_notes`, create a file name `testfile.txt` and populate it withthis info:\n",
    "\n",
    "    fghij\n",
    "    aims class\n",
    "    Rwanda 2025\n",
    "    this is really cool\n",
    "\n"
   ]
  },
  {
   "cell_type": "markdown",
   "metadata": {},
   "source": [
    "In the code below, I've opened that file:\n",
    "\n",
    "    $ cat testfile.txt\n",
    "    fghij\n",
    "    aims class\n",
    "    Rwanda 2025\n",
    "    this is really cool\n",
    "\n",
    "Now let's open this file in Python:"
   ]
  },
  {
   "cell_type": "code",
   "execution_count": 18,
   "metadata": {
    "scrolled": true
   },
   "outputs": [
    {
     "ename": "FileNotFoundError",
     "evalue": "[Errno 2] No such file or directory: 'testfile.txt'",
     "output_type": "error",
     "traceback": [
      "\u001b[0;31m---------------------------------------------------------------------------\u001b[0m",
      "\u001b[0;31mFileNotFoundError\u001b[0m                         Traceback (most recent call last)",
      "Cell \u001b[0;32mIn[18], line 1\u001b[0m\n\u001b[0;32m----> 1\u001b[0m f \u001b[38;5;241m=\u001b[39m \u001b[38;5;28mopen\u001b[39m(\u001b[38;5;124m'\u001b[39m\u001b[38;5;124mtestfile.txt\u001b[39m\u001b[38;5;124m'\u001b[39m,\u001b[38;5;124m'\u001b[39m\u001b[38;5;124mr\u001b[39m\u001b[38;5;124m'\u001b[39m)\n",
      "File \u001b[0;32m~/anaconda3/lib/python3.13/site-packages/IPython/core/interactiveshell.py:324\u001b[0m, in \u001b[0;36m_modified_open\u001b[0;34m(file, *args, **kwargs)\u001b[0m\n\u001b[1;32m    317\u001b[0m \u001b[38;5;28;01mif\u001b[39;00m file \u001b[38;5;129;01min\u001b[39;00m {\u001b[38;5;241m0\u001b[39m, \u001b[38;5;241m1\u001b[39m, \u001b[38;5;241m2\u001b[39m}:\n\u001b[1;32m    318\u001b[0m     \u001b[38;5;28;01mraise\u001b[39;00m \u001b[38;5;167;01mValueError\u001b[39;00m(\n\u001b[1;32m    319\u001b[0m         \u001b[38;5;124mf\u001b[39m\u001b[38;5;124m\"\u001b[39m\u001b[38;5;124mIPython won\u001b[39m\u001b[38;5;124m'\u001b[39m\u001b[38;5;124mt let you open fd=\u001b[39m\u001b[38;5;132;01m{\u001b[39;00mfile\u001b[38;5;132;01m}\u001b[39;00m\u001b[38;5;124m by default \u001b[39m\u001b[38;5;124m\"\u001b[39m\n\u001b[1;32m    320\u001b[0m         \u001b[38;5;124m\"\u001b[39m\u001b[38;5;124mas it is likely to crash IPython. If you know what you are doing, \u001b[39m\u001b[38;5;124m\"\u001b[39m\n\u001b[1;32m    321\u001b[0m         \u001b[38;5;124m\"\u001b[39m\u001b[38;5;124myou can use builtins\u001b[39m\u001b[38;5;124m'\u001b[39m\u001b[38;5;124m open.\u001b[39m\u001b[38;5;124m\"\u001b[39m\n\u001b[1;32m    322\u001b[0m     )\n\u001b[0;32m--> 324\u001b[0m \u001b[38;5;28;01mreturn\u001b[39;00m io_open(file, \u001b[38;5;241m*\u001b[39margs, \u001b[38;5;241m*\u001b[39m\u001b[38;5;241m*\u001b[39mkwargs)\n",
      "\u001b[0;31mFileNotFoundError\u001b[0m: [Errno 2] No such file or directory: 'testfile.txt'"
     ]
    }
   ],
   "source": [
    "f = open('testfile.txt','r')"
   ]
  },
  {
   "cell_type": "code",
   "execution_count": 28,
   "metadata": {},
   "outputs": [],
   "source": [
    "f = open('dictionary.txt')"
   ]
  },
  {
   "cell_type": "code",
   "execution_count": 29,
   "metadata": {},
   "outputs": [
    {
     "name": "stdout",
     "output_type": "stream",
     "text": [
      "a\n",
      "a\n"
     ]
    }
   ],
   "source": [
    "s = f.read(3)\n",
    "print(s)"
   ]
  },
  {
   "cell_type": "markdown",
   "metadata": {},
   "source": [
    "We read the first three characters, where each character is a byte long.\n",
    "We can see that the file handle points to the 4th byte (index number 3)\n",
    "in the file:"
   ]
  },
  {
   "cell_type": "code",
   "execution_count": 30,
   "metadata": {},
   "outputs": [
    {
     "data": {
      "text/plain": [
       "3"
      ]
     },
     "execution_count": 30,
     "metadata": {},
     "output_type": "execute_result"
    }
   ],
   "source": [
    "f.tell()"
   ]
  },
  {
   "cell_type": "code",
   "execution_count": 31,
   "metadata": {},
   "outputs": [
    {
     "data": {
      "text/plain": [
       "'b'"
      ]
     },
     "execution_count": 31,
     "metadata": {},
     "output_type": "execute_result"
    }
   ],
   "source": [
    "f.read(1)"
   ]
  },
  {
   "cell_type": "code",
   "execution_count": 32,
   "metadata": {},
   "outputs": [],
   "source": [
    "f.close() # close the old handle"
   ]
  },
  {
   "cell_type": "code",
   "execution_count": 33,
   "metadata": {},
   "outputs": [
    {
     "ename": "ValueError",
     "evalue": "I/O operation on closed file.",
     "output_type": "error",
     "traceback": [
      "\u001b[0;31m---------------------------------------------------------------------------\u001b[0m",
      "\u001b[0;31mValueError\u001b[0m                                Traceback (most recent call last)",
      "Cell \u001b[0;32mIn[33], line 1\u001b[0m\n\u001b[0;32m----> 1\u001b[0m f\u001b[38;5;241m.\u001b[39mread()\n",
      "\u001b[0;31mValueError\u001b[0m: I/O operation on closed file."
     ]
    }
   ],
   "source": [
    "f.read()  # can't read anymore because the file is closed."
   ]
  },
  {
   "cell_type": "markdown",
   "metadata": {},
   "source": [
    "The file we are using is a long series of characters, but two of the characters are new line characters. If we looked at the file in sequence, it would look like \"abcdenfghijn\". Separating a file into lines is popular enough that there are two ways to read whole lines in a file. The first is to use the `readlines()` method:"
   ]
  },
  {
   "cell_type": "code",
   "execution_count": 34,
   "metadata": {
    "scrolled": true
   },
   "outputs": [
    {
     "ename": "FileNotFoundError",
     "evalue": "[Errno 2] No such file or directory: 'testfile.txt'",
     "output_type": "error",
     "traceback": [
      "\u001b[0;31m---------------------------------------------------------------------------\u001b[0m",
      "\u001b[0;31mFileNotFoundError\u001b[0m                         Traceback (most recent call last)",
      "Cell \u001b[0;32mIn[34], line 1\u001b[0m\n\u001b[0;32m----> 1\u001b[0m f \u001b[38;5;241m=\u001b[39m \u001b[38;5;28mopen\u001b[39m(\u001b[38;5;124m'\u001b[39m\u001b[38;5;124mtestfile.txt\u001b[39m\u001b[38;5;124m'\u001b[39m,\u001b[38;5;124m'\u001b[39m\u001b[38;5;124mr\u001b[39m\u001b[38;5;124m'\u001b[39m)\n\u001b[1;32m      2\u001b[0m lines \u001b[38;5;241m=\u001b[39m f\u001b[38;5;241m.\u001b[39mreadlines()\n\u001b[1;32m      3\u001b[0m \u001b[38;5;28mprint\u001b[39m(lines)\n",
      "File \u001b[0;32m~/anaconda3/lib/python3.13/site-packages/IPython/core/interactiveshell.py:324\u001b[0m, in \u001b[0;36m_modified_open\u001b[0;34m(file, *args, **kwargs)\u001b[0m\n\u001b[1;32m    317\u001b[0m \u001b[38;5;28;01mif\u001b[39;00m file \u001b[38;5;129;01min\u001b[39;00m {\u001b[38;5;241m0\u001b[39m, \u001b[38;5;241m1\u001b[39m, \u001b[38;5;241m2\u001b[39m}:\n\u001b[1;32m    318\u001b[0m     \u001b[38;5;28;01mraise\u001b[39;00m \u001b[38;5;167;01mValueError\u001b[39;00m(\n\u001b[1;32m    319\u001b[0m         \u001b[38;5;124mf\u001b[39m\u001b[38;5;124m\"\u001b[39m\u001b[38;5;124mIPython won\u001b[39m\u001b[38;5;124m'\u001b[39m\u001b[38;5;124mt let you open fd=\u001b[39m\u001b[38;5;132;01m{\u001b[39;00mfile\u001b[38;5;132;01m}\u001b[39;00m\u001b[38;5;124m by default \u001b[39m\u001b[38;5;124m\"\u001b[39m\n\u001b[1;32m    320\u001b[0m         \u001b[38;5;124m\"\u001b[39m\u001b[38;5;124mas it is likely to crash IPython. If you know what you are doing, \u001b[39m\u001b[38;5;124m\"\u001b[39m\n\u001b[1;32m    321\u001b[0m         \u001b[38;5;124m\"\u001b[39m\u001b[38;5;124myou can use builtins\u001b[39m\u001b[38;5;124m'\u001b[39m\u001b[38;5;124m open.\u001b[39m\u001b[38;5;124m\"\u001b[39m\n\u001b[1;32m    322\u001b[0m     )\n\u001b[0;32m--> 324\u001b[0m \u001b[38;5;28;01mreturn\u001b[39;00m io_open(file, \u001b[38;5;241m*\u001b[39margs, \u001b[38;5;241m*\u001b[39m\u001b[38;5;241m*\u001b[39mkwargs)\n",
      "\u001b[0;31mFileNotFoundError\u001b[0m: [Errno 2] No such file or directory: 'testfile.txt'"
     ]
    }
   ],
   "source": [
    "f = open('testfile.txt','r')\n",
    "lines = f.readlines()\n",
    "print(lines)\n",
    "f.close()  # Always close the file when you are done with it"
   ]
  },
  {
   "cell_type": "code",
   "execution_count": 35,
   "metadata": {},
   "outputs": [
    {
     "name": "stdout",
     "output_type": "stream",
     "text": [
      "['a\\n', 'able\\n', 'about\\n', 'account\\n', 'acid\\n', 'across\\n', 'act\\n', 'addition\\n', 'adjustment\\n', 'advertisement\\n', 'agreement\\n', 'after\\n', 'again\\n', 'against\\n', 'air\\n', 'all\\n', 'almost\\n', 'among\\n', 'amount\\n', 'amusement\\n', 'and\\n', 'angle\\n', 'angry\\n', 'animal\\n', 'answer\\n', 'ant\\n', 'any\\n', 'apparatus\\n', 'apple\\n', 'approval\\n', 'arch\\n', 'argument\\n', 'arm\\n', 'army\\n', 'art\\n', 'as\\n', 'at\\n', 'attack\\n', 'attempt\\n', 'attention\\n', 'attraction\\n', 'authority\\n', 'automatic\\n', 'awake\\n', 'baby\\n', 'back\\n', 'bad\\n', 'bag\\n', 'balance\\n', 'ball\\n', 'band\\n', 'base\\n', 'basin\\n', 'basket\\n', 'bath\\n', 'be\\n', 'beautiful\\n', 'because\\n', 'bed\\n', 'bee\\n', 'before\\n', 'behavior\\n', 'belief\\n', 'bell\\n', 'bent\\n', 'berry\\n', 'between\\n', 'bird\\n', 'birth\\n', 'bit\\n', 'bite\\n', 'bitter\\n', 'black\\n', 'blade\\n', 'blood\\n', 'blow\\n', 'blue\\n', 'board\\n', 'boat\\n', 'body\\n', 'boiling\\n', 'bone\\n', 'book\\n', 'boot\\n', 'bottle\\n', 'box\\n', 'boy\\n', 'brain\\n', 'brake\\n', 'branch\\n', 'brass\\n', 'bread\\n', 'breath\\n', 'brick\\n', 'bridge\\n', 'bright\\n', 'broken\\n', 'brother\\n', 'brown\\n', 'brush\\n', 'bucket\\n', 'building\\n', 'bulb\\n', 'burn\\n', 'burst\\n', 'business\\n', 'but\\n', 'butter\\n', 'button\\n', 'by\\n', 'cake\\n', 'camera\\n', 'canvas\\n', 'card\\n', 'care\\n', 'carriage\\n', 'cart\\n', 'cat\\n', 'cause\\n', 'certain\\n', 'chain\\n', 'chalk\\n', 'chance\\n', 'change\\n', 'cheap\\n', 'cheese\\n', 'chemical\\n', 'chest\\n', 'chief\\n', 'chin\\n', 'church\\n', 'circle\\n', 'clean\\n', 'clear\\n', 'clock\\n', 'cloth\\n', 'cloud\\n', 'coal\\n', 'coat\\n', 'cold\\n', 'collar\\n', 'color\\n', 'comb\\n', 'come\\n', 'comfort\\n', 'committee\\n', 'common\\n', 'company\\n', 'comparison\\n', 'competition\\n', 'complete\\n', 'complex\\n', 'condition\\n', 'connection\\n', 'conscious\\n', 'control\\n', 'cook\\n', 'copper\\n', 'copy\\n', 'cord\\n', 'cork\\n', 'cotton\\n', 'cough\\n', 'country\\n', 'cover\\n', 'cow\\n', 'crack\\n', 'credit\\n', 'crime\\n', 'cruel\\n', 'crush\\n', 'cry\\n', 'cup\\n', 'current\\n', 'curtain\\n', 'curve\\n', 'cushion\\n', 'cut\\n', 'damage\\n', 'danger\\n', 'dark\\n', 'daughter\\n', 'day\\n', 'dead\\n', 'dear\\n', 'death\\n', 'debt\\n', 'decision\\n', 'deep\\n', 'degree\\n', 'delicate\\n', 'dependent\\n', 'design\\n', 'desire\\n', 'destruction\\n', 'detail\\n', 'development\\n', 'different\\n', 'digestion\\n', 'direction\\n', 'dirty\\n', 'discovery\\n', 'discussion\\n', 'disease\\n', 'disgust\\n', 'distance\\n', 'distribution\\n', 'division\\n', 'do\\n', 'dog\\n', 'door\\n', 'down\\n', 'doubt\\n', 'drain\\n', 'drawer\\n', 'dress\\n', 'drink\\n', 'driving\\n', 'drop\\n', 'dry\\n', 'dust\\n', 'ear\\n', 'early\\n', 'earth\\n', 'east\\n', 'edge\\n', 'education\\n', 'effect\\n', 'egg\\n', 'elastic\\n', 'electric\\n', 'end\\n', 'engine\\n', 'enough\\n', 'equal\\n', 'error\\n', 'even\\n', 'event\\n', 'ever\\n', 'every\\n', 'example\\n', 'exchange\\n', 'existence\\n', 'expansion\\n', 'experience\\n', 'expert\\n', 'eye\\n', 'face\\n', 'fact\\n', 'fall\\n', 'false\\n', 'family\\n', 'far\\n', 'farm\\n', 'fat\\n', 'father\\n', 'fear\\n', 'feather\\n', 'feeble\\n', 'feeling\\n', 'female\\n', 'fertile\\n', 'fiction\\n', 'field\\n', 'fight\\n', 'finger\\n', 'fire\\n', 'first\\n', 'fish\\n', 'fixed\\n', 'flag\\n', 'flame\\n', 'flat\\n', 'flight\\n', 'floor\\n', 'flower\\n', 'fly\\n', 'fold\\n', 'food\\n', 'foolish\\n', 'foot\\n', 'for\\n', 'force\\n', 'fork\\n', 'form\\n', 'forward\\n', 'fowl\\n', 'frame\\n', 'free\\n', 'frequent\\n', 'friend\\n', 'from\\n', 'front\\n', 'fruit\\n', 'full\\n', 'future\\n', 'garden\\n', 'general\\n', 'get\\n', 'girl\\n', 'give\\n', 'glass\\n', 'glove\\n', 'go\\n', 'goat\\n', 'gold\\n', 'good\\n', 'government\\n', 'grain\\n', 'grass\\n', 'great\\n', 'green\\n', 'grey/gray\\n', 'grip\\n', 'group\\n', 'growth\\n', 'guide\\n', 'gun\\n', 'hair\\n', 'hammer\\n', 'hand\\n', 'hanging\\n', 'happy\\n', 'harbor\\n', 'hard\\n', 'harmony\\n', 'hat\\n', 'hate\\n', 'have\\n', 'he\\n', 'head\\n', 'healthy\\n', 'hearing\\n', 'heart\\n', 'heat\\n', 'help\\n', 'here\\n', 'high\\n', 'history\\n', 'hole\\n', 'hollow\\n', 'hook\\n', 'hope\\n', 'horn\\n', 'horse\\n', 'hospital\\n', 'hour\\n', 'house\\n', 'how\\n', 'humor\\n', 'I\\n', 'ice\\n', 'idea\\n', 'if\\n', 'ill\\n', 'important\\n', 'impulse\\n', 'in\\n', 'increase\\n', 'industry\\n', 'ink\\n', 'insect\\n', 'instrument\\n', 'insurance\\n', 'interest\\n', 'invention\\n', 'iron\\n', 'island\\n', 'jelly\\n', 'jewel\\n', 'join\\n', 'journey\\n', 'judge\\n', 'jump\\n', 'keep\\n', 'kettle\\n', 'key\\n', 'kick\\n', 'kind\\n', 'kiss\\n', 'knee\\n', 'knife\\n', 'knot\\n', 'knowledge\\n', 'land\\n', 'language\\n', 'last\\n', 'late\\n', 'laugh\\n', 'law\\n', 'lead\\n', 'leaf\\n', 'learning\\n', 'leather\\n', 'left\\n', 'leg\\n', 'let\\n', 'letter\\n', 'level\\n', 'library\\n', 'lift\\n', 'light\\n', 'like\\n', 'limit\\n', 'line\\n', 'linen\\n', 'lip\\n', 'liquid\\n', 'list\\n', 'little\\n', 'living\\n', 'lock\\n', 'long\\n', 'look\\n', 'loose\\n', 'loss\\n', 'loud\\n', 'love\\n', 'low\\n', 'machine\\n', 'make\\n', 'male\\n', 'man\\n', 'manager\\n', 'map\\n', 'mark\\n', 'market\\n', 'married\\n', 'match\\n', 'material\\n', 'mass\\n', 'may\\n', 'meal\\n', 'measure\\n', 'meat\\n', 'medical\\n', 'meeting\\n', 'memory\\n', 'metal\\n', 'middle\\n', 'military\\n', 'milk\\n', 'mind\\n', 'mine\\n', 'minute\\n', 'mist\\n', 'mixed\\n', 'money\\n', 'monkey\\n', 'month\\n', 'moon\\n', 'morning\\n', 'mother\\n', 'motion\\n', 'mountain\\n', 'mouth\\n', 'move\\n', 'much (more, most)\\n', 'muscle\\n', 'music\\n', 'nail\\n', 'name\\n', 'narrow\\n', 'nation\\n', 'natural\\n', 'near\\n', 'necessary\\n', 'neck\\n', 'need\\n', 'needle\\n', 'nerve\\n', 'net\\n', 'new\\n', 'news\\n', 'night\\n', 'no\\n', 'noise\\n', 'normal\\n', 'north\\n', 'nose\\n', 'not\\n', 'note\\n', 'now\\n', 'number\\n', 'nut\\n', 'observation\\n', 'of\\n', 'off\\n', 'offer\\n', 'office\\n', 'oil\\n', 'old\\n', 'on\\n', 'only\\n', 'open\\n', 'operation\\n', 'opposite\\n', 'opinion\\n', 'other\\n', 'or\\n', 'orange\\n', 'order\\n', 'organization\\n', 'ornament\\n', 'out\\n', 'oven\\n', 'over\\n', 'owner\\n', 'page\\n', 'pain\\n', 'paint\\n', 'paper\\n', 'parallel\\n', 'parcel\\n', 'part\\n', 'past\\n', 'paste\\n', 'payment\\n', 'peace\\n', 'pen\\n', 'pencil\\n', 'person\\n', 'physical\\n', 'picture\\n', 'pig\\n', 'pin\\n', 'pipe\\n', 'place\\n', 'plane\\n', 'plant\\n', 'plate\\n', 'play\\n', 'please\\n', 'pleasure\\n', 'plough/plow\\n', 'pocket\\n', 'point\\n', 'poison\\n', 'polish\\n', 'political\\n', 'poor\\n', 'porter\\n', 'position\\n', 'possible\\n', 'pot\\n', 'potato\\n', 'powder\\n', 'power\\n', 'present\\n', 'price\\n', 'print\\n', 'prison\\n', 'private\\n', 'probable\\n', 'process\\n', 'produce\\n', 'profit\\n', 'property\\n', 'prose\\n', 'protest\\n', 'public\\n', 'pull\\n', 'pump\\n', 'punishment\\n', 'purpose\\n', 'push\\n', 'put\\n', 'quality\\n', 'question\\n', 'quick\\n', 'quiet\\n', 'quite\\n', 'rail\\n', 'rain\\n', 'range\\n', 'rat\\n', 'rate\\n', 'ray\\n', 'reaction\\n', 'red\\n', 'reading\\n', 'ready\\n', 'reason\\n', 'receipt\\n', 'record\\n', 'regret\\n', 'regular\\n', 'relation\\n', 'religion\\n', 'representative\\n', 'request\\n', 'respect\\n', 'responsible\\n', 'rest\\n', 'reward\\n', 'rhythm\\n', 'rice\\n', 'right\\n', 'ring\\n', 'river\\n', 'road\\n', 'rod\\n', 'roll\\n', 'roof\\n', 'room\\n', 'root\\n', 'rough\\n', 'round\\n', 'rub\\n', 'rule\\n', 'run\\n', 'sad\\n', 'safe\\n', 'sail\\n', 'salt\\n', 'same\\n', 'sand\\n', 'say\\n', 'scale\\n', 'school\\n', 'science\\n', 'scissors\\n', 'screw\\n', 'sea\\n', 'seat\\n', 'second\\n', 'secret\\n', 'secretary\\n', 'see\\n', 'seed\\n', 'selection\\n', 'self\\n', 'send\\n', 'seem\\n', 'sense\\n', 'separate\\n', 'serious\\n', 'servant\\n', 'sex\\n', 'shade\\n', 'shake\\n', 'shame\\n', 'sharp\\n', 'sheep\\n', 'shelf\\n', 'ship\\n', 'shirt\\n', 'shock\\n', 'shoe\\n', 'short\\n', 'shut\\n', 'side\\n', 'sign\\n', 'silk\\n', 'silver\\n', 'simple\\n', 'sister\\n', 'size\\n', 'skin\\n', 'skirt\\n', 'sky\\n', 'sleep\\n', 'slip\\n', 'slope\\n', 'slow\\n', 'small\\n', 'smash\\n', 'smell\\n', 'smile\\n', 'smoke\\n', 'smooth\\n', 'snake\\n', 'sneeze\\n', 'snow\\n', 'so\\n', 'soap\\n', 'society\\n', 'sock\\n', 'soft\\n', 'solid\\n', 'some\\n', 'son\\n', 'song\\n', 'sort\\n', 'sound\\n', 'south\\n', 'soup\\n', 'space\\n', 'spade\\n', 'special\\n', 'sponge\\n', 'spoon\\n', 'spring\\n', 'square\\n', 'stamp\\n', 'stage\\n', 'star\\n', 'start\\n', 'statement\\n', 'station\\n', 'steam\\n', 'stem\\n', 'steel\\n', 'step\\n', 'stick\\n', 'still\\n', 'stitch\\n', 'stocking\\n', 'stomach\\n', 'stone\\n', 'stop\\n', 'store\\n', 'story\\n', 'strange\\n', 'street\\n', 'stretch\\n', 'sticky\\n', 'stiff\\n', 'straight\\n', 'strong\\n', 'structure\\n', 'substance\\n', 'sugar\\n', 'suggestion\\n', 'summer\\n', 'support\\n', 'surprise\\n', 'such\\n', 'sudden\\n', 'sun\\n', 'sweet\\n', 'swim\\n', 'system\\n', 'table\\n', 'tail\\n', 'take\\n', 'talk\\n', 'tall\\n', 'taste\\n', 'tax\\n', 'teaching\\n', 'tendency\\n', 'test\\n', 'than\\n', 'that\\n', 'the\\n', 'then\\n', 'theory\\n', 'there\\n', 'thick\\n', 'thin\\n', 'thing\\n', 'this\\n', 'thought\\n', 'thread\\n', 'throat\\n', 'though\\n', 'through\\n', 'thumb\\n', 'thunder\\n', 'ticket\\n', 'tight\\n', 'tired\\n', 'till\\n', 'time\\n', 'tin\\n', 'to\\n', 'toe\\n', 'together\\n', 'tomorrow\\n', 'tongue\\n', 'tooth\\n', 'top\\n', 'touch\\n', 'town\\n', 'trade\\n', 'train\\n', 'transport\\n', 'tray\\n', 'tree\\n', 'trick\\n', 'trousers\\n', 'true\\n', 'trouble\\n', 'turn\\n', 'twist\\n', 'umbrella\\n', 'under\\n', 'unit\\n', 'use\\n', 'up\\n', 'value\\n', 'verse\\n', 'very\\n', 'vessel\\n', 'view\\n', 'violent\\n', 'voice\\n', 'walk\\n', 'wall\\n', 'waiting\\n', 'war\\n', 'warm\\n', 'wash\\n', 'waste\\n', 'watch\\n', 'water\\n', 'wave\\n', 'wax\\n', 'way\\n', 'weather\\n', 'week\\n', 'weight\\n', 'well\\n', 'west\\n', 'wet\\n', 'wheel\\n', 'when\\n', 'where\\n', 'while\\n', 'whip\\n', 'whistle\\n', 'white\\n', 'who\\n', 'why\\n', 'wide\\n', 'will\\n', 'wind\\n', 'window\\n', 'wine\\n', 'wing\\n', 'winter\\n', 'wire\\n', 'wise\\n', 'with\\n', 'woman\\n', 'wood\\n', 'wool\\n', 'word\\n', 'work\\n', 'worm\\n', 'wound\\n', 'writing\\n', 'wrong\\n', 'year\\n', 'yellow\\n', 'yes\\n', 'yesterday\\n', 'you\\n', 'young\\n']\n"
     ]
    }
   ],
   "source": [
    "f = open('dictionary.txt','r')\n",
    "lines = f.readlines()\n",
    "print(lines)\n",
    "f.close() "
   ]
  },
  {
   "cell_type": "markdown",
   "metadata": {},
   "source": [
    "A very important point about the readline method is that it *keeps* the\n",
    "newline character at the end of each line. You can use the strip()\n",
    "method to get rid of the string.\n",
    "\n",
    "File handles are also iterable, which means we can use them in for loops\n",
    "or list extensions:"
   ]
  },
  {
   "cell_type": "code",
   "execution_count": 25,
   "metadata": {},
   "outputs": [
    {
     "ename": "FileNotFoundError",
     "evalue": "[Errno 2] No such file or directory: 'testfile.txt'",
     "output_type": "error",
     "traceback": [
      "\u001b[0;31m---------------------------------------------------------------------------\u001b[0m",
      "\u001b[0;31mFileNotFoundError\u001b[0m                         Traceback (most recent call last)",
      "Cell \u001b[0;32mIn[25], line 1\u001b[0m\n\u001b[0;32m----> 1\u001b[0m f \u001b[38;5;241m=\u001b[39m \u001b[38;5;28mopen\u001b[39m(\u001b[38;5;124m'\u001b[39m\u001b[38;5;124mtestfile.txt\u001b[39m\u001b[38;5;124m'\u001b[39m,\u001b[38;5;124m'\u001b[39m\u001b[38;5;124mr\u001b[39m\u001b[38;5;124m'\u001b[39m)\n\u001b[1;32m      2\u001b[0m lines \u001b[38;5;241m=\u001b[39m [line\u001b[38;5;241m.\u001b[39mstrip() \u001b[38;5;28;01mfor\u001b[39;00m line \u001b[38;5;129;01min\u001b[39;00m f]\n\u001b[1;32m      3\u001b[0m f\u001b[38;5;241m.\u001b[39mclose()\n",
      "File \u001b[0;32m~/anaconda3/lib/python3.13/site-packages/IPython/core/interactiveshell.py:324\u001b[0m, in \u001b[0;36m_modified_open\u001b[0;34m(file, *args, **kwargs)\u001b[0m\n\u001b[1;32m    317\u001b[0m \u001b[38;5;28;01mif\u001b[39;00m file \u001b[38;5;129;01min\u001b[39;00m {\u001b[38;5;241m0\u001b[39m, \u001b[38;5;241m1\u001b[39m, \u001b[38;5;241m2\u001b[39m}:\n\u001b[1;32m    318\u001b[0m     \u001b[38;5;28;01mraise\u001b[39;00m \u001b[38;5;167;01mValueError\u001b[39;00m(\n\u001b[1;32m    319\u001b[0m         \u001b[38;5;124mf\u001b[39m\u001b[38;5;124m\"\u001b[39m\u001b[38;5;124mIPython won\u001b[39m\u001b[38;5;124m'\u001b[39m\u001b[38;5;124mt let you open fd=\u001b[39m\u001b[38;5;132;01m{\u001b[39;00mfile\u001b[38;5;132;01m}\u001b[39;00m\u001b[38;5;124m by default \u001b[39m\u001b[38;5;124m\"\u001b[39m\n\u001b[1;32m    320\u001b[0m         \u001b[38;5;124m\"\u001b[39m\u001b[38;5;124mas it is likely to crash IPython. If you know what you are doing, \u001b[39m\u001b[38;5;124m\"\u001b[39m\n\u001b[1;32m    321\u001b[0m         \u001b[38;5;124m\"\u001b[39m\u001b[38;5;124myou can use builtins\u001b[39m\u001b[38;5;124m'\u001b[39m\u001b[38;5;124m open.\u001b[39m\u001b[38;5;124m\"\u001b[39m\n\u001b[1;32m    322\u001b[0m     )\n\u001b[0;32m--> 324\u001b[0m \u001b[38;5;28;01mreturn\u001b[39;00m io_open(file, \u001b[38;5;241m*\u001b[39margs, \u001b[38;5;241m*\u001b[39m\u001b[38;5;241m*\u001b[39mkwargs)\n",
      "\u001b[0;31mFileNotFoundError\u001b[0m: [Errno 2] No such file or directory: 'testfile.txt'"
     ]
    }
   ],
   "source": [
    "f = open('testfile.txt','r')\n",
    "lines = [line.strip() for line in f]\n",
    "f.close()\n",
    "print(lines)"
   ]
  },
  {
   "cell_type": "code",
   "execution_count": 26,
   "metadata": {},
   "outputs": [
    {
     "ename": "FileNotFoundError",
     "evalue": "[Errno 2] No such file or directory: 'testfile.txt'",
     "output_type": "error",
     "traceback": [
      "\u001b[0;31m---------------------------------------------------------------------------\u001b[0m",
      "\u001b[0;31mFileNotFoundError\u001b[0m                         Traceback (most recent call last)",
      "Cell \u001b[0;32mIn[26], line 2\u001b[0m\n\u001b[1;32m      1\u001b[0m lines \u001b[38;5;241m=\u001b[39m []\n\u001b[0;32m----> 2\u001b[0m f \u001b[38;5;241m=\u001b[39m \u001b[38;5;28mopen\u001b[39m(\u001b[38;5;124m'\u001b[39m\u001b[38;5;124mtestfile.txt\u001b[39m\u001b[38;5;124m'\u001b[39m,\u001b[38;5;124m'\u001b[39m\u001b[38;5;124mr\u001b[39m\u001b[38;5;124m'\u001b[39m)\n\u001b[1;32m      3\u001b[0m \u001b[38;5;28;01mfor\u001b[39;00m line \u001b[38;5;129;01min\u001b[39;00m f:\n\u001b[1;32m      4\u001b[0m     lines\u001b[38;5;241m.\u001b[39mappend(line\u001b[38;5;241m.\u001b[39mstrip())\n",
      "File \u001b[0;32m~/anaconda3/lib/python3.13/site-packages/IPython/core/interactiveshell.py:324\u001b[0m, in \u001b[0;36m_modified_open\u001b[0;34m(file, *args, **kwargs)\u001b[0m\n\u001b[1;32m    317\u001b[0m \u001b[38;5;28;01mif\u001b[39;00m file \u001b[38;5;129;01min\u001b[39;00m {\u001b[38;5;241m0\u001b[39m, \u001b[38;5;241m1\u001b[39m, \u001b[38;5;241m2\u001b[39m}:\n\u001b[1;32m    318\u001b[0m     \u001b[38;5;28;01mraise\u001b[39;00m \u001b[38;5;167;01mValueError\u001b[39;00m(\n\u001b[1;32m    319\u001b[0m         \u001b[38;5;124mf\u001b[39m\u001b[38;5;124m\"\u001b[39m\u001b[38;5;124mIPython won\u001b[39m\u001b[38;5;124m'\u001b[39m\u001b[38;5;124mt let you open fd=\u001b[39m\u001b[38;5;132;01m{\u001b[39;00mfile\u001b[38;5;132;01m}\u001b[39;00m\u001b[38;5;124m by default \u001b[39m\u001b[38;5;124m\"\u001b[39m\n\u001b[1;32m    320\u001b[0m         \u001b[38;5;124m\"\u001b[39m\u001b[38;5;124mas it is likely to crash IPython. If you know what you are doing, \u001b[39m\u001b[38;5;124m\"\u001b[39m\n\u001b[1;32m    321\u001b[0m         \u001b[38;5;124m\"\u001b[39m\u001b[38;5;124myou can use builtins\u001b[39m\u001b[38;5;124m'\u001b[39m\u001b[38;5;124m open.\u001b[39m\u001b[38;5;124m\"\u001b[39m\n\u001b[1;32m    322\u001b[0m     )\n\u001b[0;32m--> 324\u001b[0m \u001b[38;5;28;01mreturn\u001b[39;00m io_open(file, \u001b[38;5;241m*\u001b[39margs, \u001b[38;5;241m*\u001b[39m\u001b[38;5;241m*\u001b[39mkwargs)\n",
      "\u001b[0;31mFileNotFoundError\u001b[0m: [Errno 2] No such file or directory: 'testfile.txt'"
     ]
    }
   ],
   "source": [
    "lines = []\n",
    "f = open('testfile.txt','r')\n",
    "for line in f:\n",
    "    lines.append(line.strip())\n",
    "f.close()\n",
    "print(lines)"
   ]
  },
  {
   "cell_type": "markdown",
   "metadata": {},
   "source": [
    "These are equivalent operations. It's often best to handle a file one line at a time, particularly when the file is so large it might not fit in memory.\n",
    "\n",
    "The other half of the story is writing output to files. We'll talk about two techniques: writing to the shell and writing to files directly.\n",
    "\n",
    "If your program only creates one stream of output, it's often a good idea to write to the shell using the print function. There are several advantages to this strategy, including the fact that it allows the user to select where they want to store the output without worrying about any command line flags. You can use `\\>` to direct the output of your program to a file or use `|` to pipe it to another program.\n",
    "\n",
    "Sometimes, you need to direct your output directly to a file handle. For instance, if your program produces two output streams, you may want to assign two open file handles. Opening a file for reading simply requires changing the second option from `r` to `w` or `a`.\n",
    "\n",
    "*Caution!* Opening a file with the 'w' option means start writing *at the beginning*, which may overwrite old material. If you want to append to the file without losing what is already there, open it with 'a'.\n",
    "\n",
    "Writing to a file uses the `write()` command, which accepts a string."
   ]
  },
  {
   "cell_type": "code",
   "execution_count": 36,
   "metadata": {},
   "outputs": [],
   "source": [
    "outfile = open('outfile.txt','w')\n",
    "outfile.write('This is the first line!')\n",
    "outfile.close()"
   ]
  },
  {
   "cell_type": "markdown",
   "metadata": {},
   "source": [
    "Another way to write to a file is to use `writelines()`, which accepts a\n",
    "list of strings and writes them in order. *Caution!* `writelines` does not\n",
    "append newlines. If you really want to write a newline at the end of\n",
    "each string in the list, add it yourself."
   ]
  }
 ],
 "metadata": {
  "kernelspec": {
   "display_name": "Python [conda env:base] *",
   "language": "python",
   "name": "conda-base-py"
  },
  "language_info": {
   "codemirror_mode": {
    "name": "ipython",
    "version": 3
   },
   "file_extension": ".py",
   "mimetype": "text/x-python",
   "name": "python",
   "nbconvert_exporter": "python",
   "pygments_lexer": "ipython3",
   "version": "3.13.5"
  }
 },
 "nbformat": 4,
 "nbformat_minor": 4
}
